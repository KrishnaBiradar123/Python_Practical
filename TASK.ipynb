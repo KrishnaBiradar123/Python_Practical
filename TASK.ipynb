{
 "cells": [
  {
   "cell_type": "code",
   "execution_count": 2,
   "id": "f3ffe8cb",
   "metadata": {},
   "outputs": [],
   "source": [
    "s= \"this is My First Python programming class and i am learNING python string and its function\""
   ]
  },
  {
   "cell_type": "markdown",
   "id": "092658c7",
   "metadata": {},
   "source": [
    "1.Try to extract data from index one to index 300 with jump of 3?"
   ]
  },
  {
   "cell_type": "code",
   "execution_count": 5,
   "id": "d1d37167",
   "metadata": {},
   "outputs": [
    {
     "data": {
      "text/plain": [
       "'tssyityopgmncsa alrNph rgni ni'"
      ]
     },
     "execution_count": 5,
     "metadata": {},
     "output_type": "execute_result"
    }
   ],
   "source": [
    "s[0:300:3]"
   ]
  },
  {
   "cell_type": "markdown",
   "id": "3d43e630",
   "metadata": {},
   "source": [
    "2.Try to reverse a string without using reverse function?"
   ]
  },
  {
   "cell_type": "code",
   "execution_count": 5,
   "id": "53576542",
   "metadata": {},
   "outputs": [
    {
     "data": {
      "text/plain": [
       "'noitcnuf sti dna gnirts nohtyp GNINrael ma i dna ssalc gnimmargorp nohtyP tsriF yM si siht'"
      ]
     },
     "execution_count": 5,
     "metadata": {},
     "output_type": "execute_result"
    }
   ],
   "source": [
    "s[::-1]"
   ]
  },
  {
   "cell_type": "markdown",
   "id": "2fc66342",
   "metadata": {},
   "source": [
    "#3.Try to split a string after conversion of entire string in uppercase?"
   ]
  },
  {
   "cell_type": "code",
   "execution_count": 6,
   "id": "28c8b2be",
   "metadata": {},
   "outputs": [
    {
     "data": {
      "text/plain": [
       "'THIS IS MY FIRST PYTHON PROGRAMMING CLASS AND I AM LEARNING PYTHON STRING AND ITS FUNCTION'"
      ]
     },
     "execution_count": 6,
     "metadata": {},
     "output_type": "execute_result"
    }
   ],
   "source": [
    "s.upper()"
   ]
  },
  {
   "cell_type": "code",
   "execution_count": 11,
   "id": "13399dab",
   "metadata": {},
   "outputs": [],
   "source": [
    "s=s.upper()"
   ]
  },
  {
   "cell_type": "code",
   "execution_count": 14,
   "id": "7bad8851",
   "metadata": {},
   "outputs": [
    {
     "data": {
      "text/plain": [
       "['THIS',\n",
       " 'IS',\n",
       " 'MY',\n",
       " 'FIRST',\n",
       " 'PYTHON',\n",
       " 'PROGRAMMING',\n",
       " 'CLASS',\n",
       " 'AND',\n",
       " 'I',\n",
       " 'AM',\n",
       " 'LEARNING',\n",
       " 'PYTHON',\n",
       " 'STRING',\n",
       " 'AND',\n",
       " 'ITS',\n",
       " 'FUNCTION']"
      ]
     },
     "execution_count": 14,
     "metadata": {},
     "output_type": "execute_result"
    }
   ],
   "source": [
    "s.split()"
   ]
  },
  {
   "cell_type": "markdown",
   "id": "6ace79f7",
   "metadata": {},
   "source": [
    "#4.Try to convert the whole string into lowercase."
   ]
  },
  {
   "cell_type": "code",
   "execution_count": 17,
   "id": "d7ad1a75",
   "metadata": {},
   "outputs": [],
   "source": [
    "s=\"this is My First Python programming class and i am learNING python string and its function\""
   ]
  },
  {
   "cell_type": "code",
   "execution_count": 18,
   "id": "f46465f5",
   "metadata": {},
   "outputs": [
    {
     "data": {
      "text/plain": [
       "'this is my first python programming class and i am learning python string and its function'"
      ]
     },
     "execution_count": 18,
     "metadata": {},
     "output_type": "execute_result"
    }
   ],
   "source": [
    "s.lower()"
   ]
  },
  {
   "cell_type": "markdown",
   "id": "03f45c9a",
   "metadata": {},
   "source": [
    "#5.Try to capitalize the whole string."
   ]
  },
  {
   "cell_type": "code",
   "execution_count": 20,
   "id": "890dc6f0",
   "metadata": {},
   "outputs": [
    {
     "data": {
      "text/plain": [
       "'This is my first python programming class and i am learning python string and its function'"
      ]
     },
     "execution_count": 20,
     "metadata": {},
     "output_type": "execute_result"
    }
   ],
   "source": [
    "s.capitalize()"
   ]
  },
  {
   "cell_type": "markdown",
   "id": "5cca5777",
   "metadata": {},
   "source": [
    "#6.Write a differene between isalnum() and isalpha(). "
   ]
  },
  {
   "cell_type": "markdown",
   "id": "fc72fce6",
   "metadata": {},
   "source": [
    "            isalnum()                                                         isalpha()\n",
    "    \n",
    "    *All characters of string should be                        *All characters of string should be\n",
    "     either alphabetic or neumeric and                          alphabetic and atleast there should be \n",
    "     atleast there should be a single character.                a single character.   \n",
    "  \n",
    "    \n",
    "    * Example: s=\"abcd1234\"                                     * Example: s=\"abcd\"\n",
    "               s=\"12345\"                                                   s=\"shivan\"\n",
    "            \n",
    "            \n",
    "            "
   ]
  },
  {
   "cell_type": "markdown",
   "id": "ca30d50c",
   "metadata": {},
   "source": [
    "#7.Try to give an example of expand tab."
   ]
  },
  {
   "cell_type": "code",
   "execution_count": 31,
   "id": "d2ab28fa",
   "metadata": {},
   "outputs": [
    {
     "data": {
      "text/plain": [
       "'thisisMy        FirstPythonprogrammingclass     andiamlearNINGpythonstring      anditsfunction'"
      ]
     },
     "execution_count": 31,
     "metadata": {},
     "output_type": "execute_result"
    }
   ],
   "source": [
    "s=\"thisisMy\\tFirstPythonprogrammingclass\\tandiamlearNINGpythonstring\\tanditsfunction\"\n",
    "s.expandtabs()"
   ]
  },
  {
   "cell_type": "markdown",
   "id": "f99816cd",
   "metadata": {},
   "source": [
    "#8.Give example of strip, lstrip and rstrip."
   ]
  },
  {
   "cell_type": "code",
   "execution_count": 38,
   "id": "e3f5ec8b",
   "metadata": {},
   "outputs": [],
   "source": [
    "s=\"  function  \""
   ]
  },
  {
   "cell_type": "code",
   "execution_count": 39,
   "id": "06046596",
   "metadata": {},
   "outputs": [
    {
     "data": {
      "text/plain": [
       "'function'"
      ]
     },
     "execution_count": 39,
     "metadata": {},
     "output_type": "execute_result"
    }
   ],
   "source": [
    "s.strip()"
   ]
  },
  {
   "cell_type": "code",
   "execution_count": 40,
   "id": "02796bdb",
   "metadata": {},
   "outputs": [
    {
     "data": {
      "text/plain": [
       "'function  '"
      ]
     },
     "execution_count": 40,
     "metadata": {},
     "output_type": "execute_result"
    }
   ],
   "source": [
    "s.lstrip()"
   ]
  },
  {
   "cell_type": "code",
   "execution_count": 42,
   "id": "7523e1e1",
   "metadata": {},
   "outputs": [
    {
     "data": {
      "text/plain": [
       "'  function'"
      ]
     },
     "execution_count": 42,
     "metadata": {},
     "output_type": "execute_result"
    }
   ],
   "source": [
    "s.rstrip()"
   ]
  },
  {
   "cell_type": "code",
   "execution_count": null,
   "id": "b69458ab",
   "metadata": {},
   "outputs": [],
   "source": []
  },
  {
   "cell_type": "markdown",
   "id": "3b12d229",
   "metadata": {},
   "source": [
    "#9.Replace a string character by another character taking your own example."
   ]
  },
  {
   "cell_type": "code",
   "execution_count": 57,
   "id": "51ddc71d",
   "metadata": {},
   "outputs": [],
   "source": [
    " s=\"function\""
   ]
  },
  {
   "cell_type": "code",
   "execution_count": 58,
   "id": "6462e5b1",
   "metadata": {},
   "outputs": [
    {
     "data": {
      "text/plain": [
       "'krishna'"
      ]
     },
     "execution_count": 58,
     "metadata": {},
     "output_type": "execute_result"
    }
   ],
   "source": [
    "s.replace(\"function\",\"krishna\")"
   ]
  },
  {
   "cell_type": "code",
   "execution_count": 1,
   "id": "a648a9a9",
   "metadata": {},
   "outputs": [
    {
     "ename": "NameError",
     "evalue": "name 's' is not defined",
     "output_type": "error",
     "traceback": [
      "\u001b[1;31m---------------------------------------------------------------------------\u001b[0m",
      "\u001b[1;31mNameError\u001b[0m                                 Traceback (most recent call last)",
      "Input \u001b[1;32mIn [1]\u001b[0m, in \u001b[0;36m<cell line: 1>\u001b[1;34m()\u001b[0m\n\u001b[1;32m----> 1\u001b[0m \u001b[43ms\u001b[49m\n",
      "\u001b[1;31mNameError\u001b[0m: name 's' is not defined"
     ]
    }
   ],
   "source": [
    "s"
   ]
  },
  {
   "cell_type": "markdown",
   "id": "9f7e0306",
   "metadata": {},
   "source": [
    "10.Try to give a definition of compiler and interpretor without copy paste from internet in your own language."
   ]
  },
  {
   "cell_type": "markdown",
   "id": "2273d138",
   "metadata": {},
   "source": [
    "Compiler:  Compiler is a special program that translates a programming language's source code into machine code, bytecode or another programming language.\n",
    "\n",
    "Interpretor: Interpretor is a computer program that directly executes instructions written in a programming language."
   ]
  },
  {
   "cell_type": "markdown",
   "id": "f36e4385",
   "metadata": {},
   "source": [
    "#11.Try give definition of string center with example."
   ]
  },
  {
   "cell_type": "markdown",
   "id": "abb20f55",
   "metadata": {},
   "source": [
    "String center: String center is to get perticular character in center with width & string character, string center should be written in the form of (width,\"character\")\n",
    "    example is given below.\n",
    "    "
   ]
  },
  {
   "cell_type": "code",
   "execution_count": 27,
   "id": "498e958d",
   "metadata": {},
   "outputs": [
    {
     "data": {
      "text/plain": [
       "'@@@@@@@@@c@@@@@@@@@@'"
      ]
     },
     "execution_count": 27,
     "metadata": {},
     "output_type": "execute_result"
    }
   ],
   "source": [
    "s.center(20,\"@\\\")"
   ]
  },
  {
   "cell_type": "markdown",
   "id": "51617af9",
   "metadata": {},
   "source": [
    "12.\"Python is interpreted of compiled language\" Give a clear answer with your understanding."
   ]
  },
  {
   "cell_type": "markdown",
   "id": "2dd2a8d6",
   "metadata": {},
   "source": [
    "Yes, python is interpreted of complied language because in python all the functions and operations are compiled from some other language."
   ]
  },
  {
   "cell_type": "markdown",
   "id": "bc1efb9b",
   "metadata": {},
   "source": [
    "13.Try to write a usecase of python with your understanding."
   ]
  },
  {
   "cell_type": "markdown",
   "id": "6a21483d",
   "metadata": {},
   "source": [
    "* Python is easiest language compared to all other languages.\n",
    "* Easy to write some good logic.\n",
    "* Easy operation.\n",
    "* Time saver.\n",
    "* Easy to create connectivity."
   ]
  },
  {
   "cell_type": "code",
   "execution_count": null,
   "id": "b87ac1c4",
   "metadata": {},
   "outputs": [],
   "source": []
  }
 ],
 "metadata": {
  "kernelspec": {
   "display_name": "Python 3 (ipykernel)",
   "language": "python",
   "name": "python3"
  },
  "language_info": {
   "codemirror_mode": {
    "name": "ipython",
    "version": 3
   },
   "file_extension": ".py",
   "mimetype": "text/x-python",
   "name": "python",
   "nbconvert_exporter": "python",
   "pygments_lexer": "ipython3",
   "version": "3.9.12"
  }
 },
 "nbformat": 4,
 "nbformat_minor": 5
}
