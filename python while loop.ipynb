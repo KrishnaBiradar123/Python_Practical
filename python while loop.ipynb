{
 "cells": [
  {
   "cell_type": "code",
   "execution_count": 1,
   "id": "26b7b6b8",
   "metadata": {},
   "outputs": [
    {
     "name": "stdout",
     "output_type": "stream",
     "text": [
      "1\n",
      "2\n",
      "3\n",
      "4\n",
      "5\n",
      "6\n",
      "7\n",
      "8\n",
      "9\n"
     ]
    }
   ],
   "source": [
    "a=1\n",
    "b=10\n",
    "while a<b:\n",
    "    print(a)\n",
    "    a=a+1"
   ]
  },
  {
   "cell_type": "code",
   "execution_count": 10,
   "id": "b13f697d",
   "metadata": {},
   "outputs": [
    {
     "name": "stdout",
     "output_type": "stream",
     "text": [
      "1\n",
      "3\n",
      "5\n",
      "7\n",
      "9\n",
      "given statement is wrong\n",
      "1\n",
      "3\n",
      "5\n",
      "7\n",
      "9\n",
      "given statement is wrong\n"
     ]
    }
   ],
   "source": [
    "a=1\n",
    "b=10\n",
    "while a<=b:\n",
    "    print(a)\n",
    "    a=a+2\n",
    "else:\n",
    "    print(\"given statement is wrong\")"
   ]
  },
  {
   "cell_type": "code",
   "execution_count": 13,
   "id": "ce223aa8",
   "metadata": {},
   "outputs": [
    {
     "name": "stdout",
     "output_type": "stream",
     "text": [
      "1\n",
      "2\n",
      "3\n",
      "4\n",
      "5\n"
     ]
    }
   ],
   "source": [
    "a=1\n",
    "b=10\n",
    "while a<=b:\n",
    "    print(a)\n",
    "    if a==5:\n",
    "        break\n",
    "    a=a+1\n",
    "else:\n",
    "    print(\"print this\")"
   ]
  },
  {
   "cell_type": "code",
   "execution_count": 4,
   "id": "3bd9ec2d",
   "metadata": {
    "scrolled": true
   },
   "outputs": [
    {
     "name": "stdout",
     "output_type": "stream",
     "text": [
      "1\n",
      "2\n",
      "3\n"
     ]
    }
   ],
   "source": [
    "a=1\n",
    "b=10\n",
    "while a<b:\n",
    "    print(a)\n",
    "    if a==3:\n",
    "         break\n",
    "    a=a+1\n",
    "    "
   ]
  },
  {
   "cell_type": "code",
   "execution_count": 6,
   "id": "e3152fb5",
   "metadata": {},
   "outputs": [
    {
     "name": "stdout",
     "output_type": "stream",
     "text": [
      "1\n",
      "2\n"
     ]
    }
   ],
   "source": [
    "a=1\n",
    "b=10\n",
    "while a<b:\n",
    "    print(a)\n",
    "    a=a+1\n",
    "    if a==3:\n",
    "        break\n",
    "\n",
    "      "
   ]
  },
  {
   "cell_type": "code",
   "execution_count": 3,
   "id": "626779f4",
   "metadata": {},
   "outputs": [],
   "source": [
    "l=[1,2,3,4]"
   ]
  },
  {
   "cell_type": "code",
   "execution_count": 8,
   "id": "a360bc15",
   "metadata": {},
   "outputs": [
    {
     "name": "stdout",
     "output_type": "stream",
     "text": [
      "1\n",
      "2\n",
      "3\n",
      "4\n"
     ]
    }
   ],
   "source": [
    "for i in l:\n",
    "    print(i)"
   ]
  },
  {
   "cell_type": "code",
   "execution_count": 10,
   "id": "547a5e79",
   "metadata": {},
   "outputs": [
    {
     "name": "stdout",
     "output_type": "stream",
     "text": [
      "1\n",
      "2\n",
      "3\n",
      "4\n"
     ]
    }
   ],
   "source": [
    "a=0\n",
    "while a<len(l):\n",
    "    print(l[a])\n",
    "    a=a+1\n"
   ]
  },
  {
   "cell_type": "code",
   "execution_count": 7,
   "id": "76cacc87",
   "metadata": {},
   "outputs": [],
   "source": [
    "t=(3,4,5,7,7,7,7,6,6,6,7,8,9)"
   ]
  },
  {
   "cell_type": "code",
   "execution_count": 8,
   "id": "a53f884d",
   "metadata": {},
   "outputs": [
    {
     "name": "stdout",
     "output_type": "stream",
     "text": [
      "3\n",
      "3\n",
      "3\n",
      "3\n",
      "7\n",
      "7\n",
      "7\n",
      "3\n"
     ]
    }
   ],
   "source": [
    "l1=[]\n",
    "for i in t:\n",
    "     if i==6 or i==7:\n",
    "        print(t.index(i))"
   ]
  },
  {
   "cell_type": "code",
   "execution_count": 9,
   "id": "ea76f4fe",
   "metadata": {},
   "outputs": [
    {
     "name": "stdout",
     "output_type": "stream",
     "text": [
      "index of 7 is 3\n",
      "index of 7 is 4\n",
      "index of 7 is 5\n",
      "index of 7 is 6\n",
      "index of 6 is 7\n",
      "index of 6 is 8\n",
      "index of 6 is 9\n",
      "index of 7 is 10\n"
     ]
    }
   ],
   "source": [
    "a=1\n",
    "while a<len(t):\n",
    "    if t[a]==6 or t[a]==7:\n",
    "        print('index of',t[a],'is',a)\n",
    "    a=a+1\n",
    "    \n",
    " "
   ]
  },
  {
   "cell_type": "code",
   "execution_count": 12,
   "id": "669a8f0b",
   "metadata": {},
   "outputs": [
    {
     "name": "stdout",
     "output_type": "stream",
     "text": [
      "index of  7 is -3\n",
      "index of  6 is -4\n",
      "index of  6 is -5\n",
      "index of  6 is -6\n",
      "index of  7 is -7\n",
      "index of  7 is -8\n",
      "index of  7 is -9\n",
      "index of  7 is -10\n"
     ]
    }
   ],
   "source": [
    "a=-1\n",
    "while a>=-len(t):\n",
    "    if t[a]==6 or t[a]==7:\n",
    "        print(\"index of \",t[a],'is',a)\n",
    "    a=a-1"
   ]
  },
  {
   "cell_type": "code",
   "execution_count": 13,
   "id": "af862934",
   "metadata": {},
   "outputs": [],
   "source": [
    "d={\"k1\":\"krishna\",\"k2\":[1,2,3,4],\"k3\":(2,3,4,5)}"
   ]
  },
  {
   "cell_type": "code",
   "execution_count": 22,
   "id": "4979076a",
   "metadata": {},
   "outputs": [
    {
     "data": {
      "text/plain": [
       "3"
      ]
     },
     "execution_count": 22,
     "metadata": {},
     "output_type": "execute_result"
    }
   ],
   "source": [
    "len(d)"
   ]
  },
  {
   "cell_type": "code",
   "execution_count": 69,
   "id": "7c2711fe",
   "metadata": {},
   "outputs": [
    {
     "name": "stdout",
     "output_type": "stream",
     "text": [
      "['krishna', [1, 2, 3, 4], (2, 3, 4, 5)]\n"
     ]
    }
   ],
   "source": [
    "a=0\n",
    "while a<len(d):\n",
    "    print(list(d.values()))\n",
    "    a=a+1\n",
    "    if a==1:\n",
    "        break"
   ]
  },
  {
   "cell_type": "code",
   "execution_count": null,
   "id": "7189d76f",
   "metadata": {},
   "outputs": [],
   "source": []
  },
  {
   "cell_type": "code",
   "execution_count": 76,
   "id": "c647a024",
   "metadata": {},
   "outputs": [
    {
     "name": "stdout",
     "output_type": "stream",
     "text": [
      "krishna\n",
      "[1, 2, 3, 4]\n",
      "(2, 3, 4, 5)\n"
     ]
    }
   ],
   "source": [
    "a=0\n",
    "b=list(d.keys())\n",
    "while a<len(d):\n",
    "    print(d[b[a]])\n",
    "    a=a+1 #we can write many number of code for single output."
   ]
  },
  {
   "cell_type": "code",
   "execution_count": 80,
   "id": "06935952",
   "metadata": {},
   "outputs": [],
   "source": [
    "#FUNCTION"
   ]
  },
  {
   "cell_type": "code",
   "execution_count": 81,
   "id": "0f9cb014",
   "metadata": {},
   "outputs": [],
   "source": [
    "def test():\n",
    "    print(\"this is called function call\")"
   ]
  },
  {
   "cell_type": "code",
   "execution_count": 86,
   "id": "75a8e67a",
   "metadata": {},
   "outputs": [
    {
     "name": "stdout",
     "output_type": "stream",
     "text": [
      "this is called function call\n"
     ]
    },
    {
     "ename": "TypeError",
     "evalue": "unsupported operand type(s) for +: 'NoneType' and 'str'",
     "output_type": "error",
     "traceback": [
      "\u001b[1;31m---------------------------------------------------------------------------\u001b[0m",
      "\u001b[1;31mTypeError\u001b[0m                                 Traceback (most recent call last)",
      "Input \u001b[1;32mIn [86]\u001b[0m, in \u001b[0;36m<cell line: 1>\u001b[1;34m()\u001b[0m\n\u001b[1;32m----> 1\u001b[0m \u001b[43mtest\u001b[49m\u001b[43m(\u001b[49m\u001b[43m)\u001b[49m\u001b[43m \u001b[49m\u001b[38;5;241;43m+\u001b[39;49m\u001b[43m \u001b[49m\u001b[38;5;124;43m'\u001b[39;49m\u001b[38;5;124;43mkrishna\u001b[39;49m\u001b[38;5;124;43m'\u001b[39;49m\n",
      "\u001b[1;31mTypeError\u001b[0m: unsupported operand type(s) for +: 'NoneType' and 'str'"
     ]
    }
   ],
   "source": [
    "test() + 'krishna'\n"
   ]
  },
  {
   "cell_type": "code",
   "execution_count": 83,
   "id": "4e5ed7bd",
   "metadata": {},
   "outputs": [
    {
     "name": "stdout",
     "output_type": "stream",
     "text": [
      "this is called function call\n"
     ]
    },
    {
     "data": {
      "text/plain": [
       "NoneType"
      ]
     },
     "execution_count": 83,
     "metadata": {},
     "output_type": "execute_result"
    }
   ],
   "source": [
    "type(test())"
   ]
  },
  {
   "cell_type": "code",
   "execution_count": 90,
   "id": "1465ae33",
   "metadata": {},
   "outputs": [],
   "source": [
    "def test1():\n",
    "    return \"this is called\""
   ]
  },
  {
   "cell_type": "code",
   "execution_count": 91,
   "id": "386c230a",
   "metadata": {},
   "outputs": [
    {
     "data": {
      "text/plain": [
       "'this is called'"
      ]
     },
     "execution_count": 91,
     "metadata": {},
     "output_type": "execute_result"
    }
   ],
   "source": [
    "test1()"
   ]
  },
  {
   "cell_type": "code",
   "execution_count": 92,
   "id": "049b1503",
   "metadata": {},
   "outputs": [
    {
     "data": {
      "text/plain": [
       "str"
      ]
     },
     "execution_count": 92,
     "metadata": {},
     "output_type": "execute_result"
    }
   ],
   "source": [
    "type(test1())"
   ]
  },
  {
   "cell_type": "code",
   "execution_count": 95,
   "id": "1d19662e",
   "metadata": {},
   "outputs": [
    {
     "data": {
      "text/plain": [
       "'this is called  function call'"
      ]
     },
     "execution_count": 95,
     "metadata": {},
     "output_type": "execute_result"
    }
   ],
   "source": [
    "test1()+\"  function call\""
   ]
  },
  {
   "cell_type": "code",
   "execution_count": 97,
   "id": "c27637c6",
   "metadata": {},
   "outputs": [],
   "source": [
    "def test2():\n",
    "     pass    "
   ]
  },
  {
   "cell_type": "code",
   "execution_count": 100,
   "id": "4b5f0793",
   "metadata": {},
   "outputs": [],
   "source": [
    "def test3():\n",
    "    return 1,3,5,[1,2,3,4,5,5,6,7,8]"
   ]
  },
  {
   "cell_type": "code",
   "execution_count": 101,
   "id": "326ec527",
   "metadata": {},
   "outputs": [
    {
     "data": {
      "text/plain": [
       "(1, 3, 5, [1, 2, 3, 4, 5, 5, 6, 7, 8])"
      ]
     },
     "execution_count": 101,
     "metadata": {},
     "output_type": "execute_result"
    }
   ],
   "source": [
    "test3()"
   ]
  },
  {
   "cell_type": "code",
   "execution_count": 111,
   "id": "286cfcc4",
   "metadata": {},
   "outputs": [],
   "source": [
    "a,b,c,d=test3()"
   ]
  },
  {
   "cell_type": "code",
   "execution_count": 112,
   "id": "bda547fb",
   "metadata": {},
   "outputs": [
    {
     "data": {
      "text/plain": [
       "1"
      ]
     },
     "execution_count": 112,
     "metadata": {},
     "output_type": "execute_result"
    }
   ],
   "source": [
    "a"
   ]
  },
  {
   "cell_type": "code",
   "execution_count": 113,
   "id": "4ea7f2b1",
   "metadata": {},
   "outputs": [
    {
     "data": {
      "text/plain": [
       "3"
      ]
     },
     "execution_count": 113,
     "metadata": {},
     "output_type": "execute_result"
    }
   ],
   "source": [
    "b"
   ]
  },
  {
   "cell_type": "code",
   "execution_count": 114,
   "id": "45baf583",
   "metadata": {},
   "outputs": [
    {
     "data": {
      "text/plain": [
       "5"
      ]
     },
     "execution_count": 114,
     "metadata": {},
     "output_type": "execute_result"
    }
   ],
   "source": [
    "c"
   ]
  },
  {
   "cell_type": "code",
   "execution_count": 115,
   "id": "1e3bf5d7",
   "metadata": {},
   "outputs": [
    {
     "data": {
      "text/plain": [
       "[1, 2, 3, 4, 5, 5, 6, 7, 8]"
      ]
     },
     "execution_count": 115,
     "metadata": {},
     "output_type": "execute_result"
    }
   ],
   "source": [
    "d"
   ]
  },
  {
   "cell_type": "code",
   "execution_count": 116,
   "id": "8f6f39cf",
   "metadata": {},
   "outputs": [],
   "source": [
    "def test4():\n",
    "    a=5*7\n",
    "    b=8+5\n",
    "    return a,b"
   ]
  },
  {
   "cell_type": "code",
   "execution_count": 117,
   "id": "758dda8b",
   "metadata": {},
   "outputs": [
    {
     "data": {
      "text/plain": [
       "(35, 13)"
      ]
     },
     "execution_count": 117,
     "metadata": {},
     "output_type": "execute_result"
    }
   ],
   "source": [
    "test4()"
   ]
  },
  {
   "cell_type": "code",
   "execution_count": 119,
   "id": "2198ba49",
   "metadata": {},
   "outputs": [],
   "source": [
    "k=test4()"
   ]
  },
  {
   "cell_type": "code",
   "execution_count": 120,
   "id": "c47d2337",
   "metadata": {},
   "outputs": [
    {
     "data": {
      "text/plain": [
       "(35, 13)"
      ]
     },
     "execution_count": 120,
     "metadata": {},
     "output_type": "execute_result"
    }
   ],
   "source": [
    "k"
   ]
  },
  {
   "cell_type": "code",
   "execution_count": 122,
   "id": "a0459e6f",
   "metadata": {},
   "outputs": [],
   "source": [
    "k,b=test4()"
   ]
  },
  {
   "cell_type": "code",
   "execution_count": 125,
   "id": "749664d3",
   "metadata": {},
   "outputs": [
    {
     "data": {
      "text/plain": [
       "455"
      ]
     },
     "execution_count": 125,
     "metadata": {},
     "output_type": "execute_result"
    }
   ],
   "source": [
    "k*b"
   ]
  },
  {
   "cell_type": "code",
   "execution_count": 127,
   "id": "c9bf143c",
   "metadata": {},
   "outputs": [
    {
     "data": {
      "text/plain": [
       "48"
      ]
     },
     "execution_count": 127,
     "metadata": {},
     "output_type": "execute_result"
    }
   ],
   "source": [
    "k+b #so that i can extract data individually or group however it all depends on my need, i can do addition, multiplication,and i can assign outcome to a single variable or i can assign outcome to multiple variable."
   ]
  },
  {
   "cell_type": "code",
   "execution_count": 129,
   "id": "5012fbf9",
   "metadata": {},
   "outputs": [],
   "source": [
    "_,m=test4()"
   ]
  },
  {
   "cell_type": "code",
   "execution_count": 133,
   "id": "9ff3d702",
   "metadata": {},
   "outputs": [
    {
     "data": {
      "text/plain": [
       "13"
      ]
     },
     "execution_count": 133,
     "metadata": {},
     "output_type": "execute_result"
    }
   ],
   "source": [
    "m #underscore is just a place holder"
   ]
  },
  {
   "cell_type": "code",
   "execution_count": 4,
   "id": "891322e4",
   "metadata": {},
   "outputs": [],
   "source": [
    "def test5():\n",
    "    a=1\n",
    "    b=10\n",
    "    while a<=b:\n",
    "        print(a)\n",
    "        if a==5:\n",
    "            break\n",
    "        a=a+1\n",
    "    else :\n",
    "        print(\"print this\")"
   ]
  },
  {
   "cell_type": "code",
   "execution_count": 5,
   "id": "885a1ab7",
   "metadata": {},
   "outputs": [
    {
     "name": "stdout",
     "output_type": "stream",
     "text": [
      "1\n",
      "2\n",
      "3\n",
      "4\n",
      "5\n"
     ]
    }
   ],
   "source": [
    "test5()"
   ]
  },
  {
   "cell_type": "code",
   "execution_count": 7,
   "id": "d4c800d4",
   "metadata": {},
   "outputs": [],
   "source": [
    "def test5(a,b):\n",
    "    \n",
    "    while a<=b:\n",
    "        print(a)\n",
    "        if a==5:\n",
    "            break\n",
    "        a=a+1\n",
    "    else :\n",
    "        print(\"print this\")"
   ]
  },
  {
   "cell_type": "code",
   "execution_count": 8,
   "id": "99e4ce68",
   "metadata": {},
   "outputs": [
    {
     "name": "stdout",
     "output_type": "stream",
     "text": [
      "1\n",
      "2\n",
      "3\n",
      "4\n",
      "5\n"
     ]
    }
   ],
   "source": [
    "test5(1,5)"
   ]
  },
  {
   "cell_type": "code",
   "execution_count": 9,
   "id": "96e18f8c",
   "metadata": {},
   "outputs": [
    {
     "name": "stdout",
     "output_type": "stream",
     "text": [
      "1\n",
      "2\n",
      "3\n",
      "4\n",
      "print this\n"
     ]
    }
   ],
   "source": [
    "test5(1,4)"
   ]
  },
  {
   "cell_type": "code",
   "execution_count": 10,
   "id": "57303217",
   "metadata": {},
   "outputs": [
    {
     "name": "stdout",
     "output_type": "stream",
     "text": [
      "print this\n"
     ]
    }
   ],
   "source": [
    "test5(50,20)"
   ]
  },
  {
   "cell_type": "code",
   "execution_count": 202,
   "id": "bd383d70",
   "metadata": {},
   "outputs": [
    {
     "name": "stdout",
     "output_type": "stream",
     "text": [
      "print this\n"
     ]
    },
    {
     "data": {
      "text/plain": [
       "NoneType"
      ]
     },
     "execution_count": 202,
     "metadata": {},
     "output_type": "execute_result"
    }
   ],
   "source": [
    "type(test5(50,20))"
   ]
  },
  {
   "cell_type": "code",
   "execution_count": 5,
   "id": "0a8e8528",
   "metadata": {},
   "outputs": [],
   "source": [
    "def test6(a,b):\n",
    "    while a<=b:\n",
    "        print(a)\n",
    "        if a==90:\n",
    "            break\n",
    "        a=a+9\n",
    "    else :\n",
    "        return(\"print this\")"
   ]
  },
  {
   "cell_type": "code",
   "execution_count": 13,
   "id": "208fce18",
   "metadata": {},
   "outputs": [],
   "source": [
    "def test6(k,j):\n",
    "    while k<=j:\n",
    "        print(k)\n",
    "        if k==100:\n",
    "            break\n",
    "        k=k+10\n",
    "    else :\n",
    "        return(\"print this\")"
   ]
  },
  {
   "cell_type": "code",
   "execution_count": 15,
   "id": "2a3f7b13",
   "metadata": {},
   "outputs": [
    {
     "name": "stdout",
     "output_type": "stream",
     "text": [
      "10\n",
      "20\n",
      "30\n",
      "40\n",
      "50\n",
      "60\n",
      "70\n",
      "80\n",
      "90\n",
      "100\n",
      "10\n",
      "20\n",
      "30\n",
      "40\n",
      "50\n",
      "60\n",
      "70\n",
      "80\n",
      "90\n",
      "100\n"
     ]
    }
   ],
   "source": [
    "test6(10,100)"
   ]
  },
  {
   "cell_type": "code",
   "execution_count": 12,
   "id": "f10417b0",
   "metadata": {},
   "outputs": [],
   "source": [
    "def test7():\n",
    "    a=1\n",
    "    b=10\n",
    "    while a<=b:\n",
    "        print(a)\n",
    "        a=a+2\n",
    "    else:\n",
    "        print(\"given statement is wrong\")"
   ]
  },
  {
   "cell_type": "code",
   "execution_count": 64,
   "id": "96f200e9",
   "metadata": {},
   "outputs": [],
   "source": [
    "def test7(a,b): \n",
    "    l=[]\n",
    "    while a<=b:\n",
    "        #print(a)\n",
    "        l.append(a)\n",
    "        a=a+2\n",
    "    else:\n",
    "        print(\"given statement is wrong\")\n",
    "    return l"
   ]
  },
  {
   "cell_type": "code",
   "execution_count": 65,
   "id": "d5fc703b",
   "metadata": {},
   "outputs": [
    {
     "name": "stdout",
     "output_type": "stream",
     "text": [
      "given statement is wrong\n"
     ]
    },
    {
     "data": {
      "text/plain": [
       "list"
      ]
     },
     "execution_count": 65,
     "metadata": {},
     "output_type": "execute_result"
    }
   ],
   "source": [
    "type(test7(1,10))"
   ]
  },
  {
   "cell_type": "code",
   "execution_count": 66,
   "id": "781d1e65",
   "metadata": {},
   "outputs": [
    {
     "name": "stdout",
     "output_type": "stream",
     "text": [
      "given statement is wrong\n"
     ]
    },
    {
     "data": {
      "text/plain": [
       "list"
      ]
     },
     "execution_count": 66,
     "metadata": {},
     "output_type": "execute_result"
    }
   ],
   "source": [
    "type(test7(30,2))"
   ]
  },
  {
   "cell_type": "code",
   "execution_count": 67,
   "id": "62d6b5b6",
   "metadata": {},
   "outputs": [],
   "source": [
    "l=[1,2,3,4,4,5,5,6,6,7,7,88,99,[4,5,6,7,8,2,3],\"krishna\"]"
   ]
  },
  {
   "cell_type": "code",
   "execution_count": 73,
   "id": "1d41cb16",
   "metadata": {},
   "outputs": [],
   "source": [
    "l1=[]\n",
    "for i in l:\n",
    "    if type(i)==int:\n",
    "          l1.append(i)"
   ]
  },
  {
   "cell_type": "code",
   "execution_count": 74,
   "id": "478e554b",
   "metadata": {},
   "outputs": [
    {
     "data": {
      "text/plain": [
       "[1, 2, 3, 4, 4, 5, 5, 6, 6, 7, 7, 88, 99]"
      ]
     },
     "execution_count": 74,
     "metadata": {},
     "output_type": "execute_result"
    }
   ],
   "source": [
    "l1"
   ]
  },
  {
   "cell_type": "code",
   "execution_count": 117,
   "id": "4b748752",
   "metadata": {},
   "outputs": [],
   "source": [
    "def test7():\n",
    "    l1=[]\n",
    "    for i in l:\n",
    "        if type(i)==int:\n",
    "            l1.append(i)\n",
    "    return l1"
   ]
  },
  {
   "cell_type": "code",
   "execution_count": 118,
   "id": "372a5645",
   "metadata": {},
   "outputs": [
    {
     "data": {
      "text/plain": [
       "[1, 2, 3, 4, 4, 5, 5, 6, 6, 7, 7, 88, 99]"
      ]
     },
     "execution_count": 118,
     "metadata": {},
     "output_type": "execute_result"
    }
   ],
   "source": [
    "test7()"
   ]
  },
  {
   "cell_type": "code",
   "execution_count": 119,
   "id": "e8915bbd",
   "metadata": {},
   "outputs": [
    {
     "data": {
      "text/plain": [
       "list"
      ]
     },
     "execution_count": 119,
     "metadata": {},
     "output_type": "execute_result"
    }
   ],
   "source": [
    "type(test7())"
   ]
  },
  {
   "cell_type": "code",
   "execution_count": 121,
   "id": "f4ed63fd",
   "metadata": {},
   "outputs": [],
   "source": [
    "def test7(l):\n",
    "    l1=[]\n",
    "    for i in l:\n",
    "        if type(i)==int:\n",
    "            l1.append(i)\n",
    "    return l1"
   ]
  },
  {
   "cell_type": "code",
   "execution_count": 123,
   "id": "916b3822",
   "metadata": {},
   "outputs": [],
   "source": [
    "l3=[333,4,5,6,778787,]"
   ]
  },
  {
   "cell_type": "code",
   "execution_count": 130,
   "id": "f48b83e9",
   "metadata": {},
   "outputs": [
    {
     "data": {
      "text/plain": [
       "[333, 4, 5, 6, 778787]"
      ]
     },
     "execution_count": 130,
     "metadata": {},
     "output_type": "execute_result"
    }
   ],
   "source": [
    "test7(l3)"
   ]
  },
  {
   "cell_type": "code",
   "execution_count": 4,
   "id": "1af926db",
   "metadata": {},
   "outputs": [],
   "source": [
    "def test10(t):\n",
    "    t=(3,4,5,7,7,7,7,6,6,6,7,8,9)\n",
    "    a=1\n",
    "    while a<len(t):\n",
    "        if t[a]==6 or t[a]==7:\n",
    "            print('index of',t[a],'is',a)\n",
    "        a=a+1\n",
    "    "
   ]
  },
  {
   "cell_type": "code",
   "execution_count": 5,
   "id": "f83cb39f",
   "metadata": {},
   "outputs": [
    {
     "name": "stdout",
     "output_type": "stream",
     "text": [
      "index of 7 is 3\n",
      "index of 7 is 4\n",
      "index of 7 is 5\n",
      "index of 7 is 6\n",
      "index of 6 is 7\n",
      "index of 6 is 8\n",
      "index of 6 is 9\n",
      "index of 7 is 10\n"
     ]
    }
   ],
   "source": [
    "test10(t)"
   ]
  },
  {
   "cell_type": "code",
   "execution_count": null,
   "id": "9608b1f2",
   "metadata": {},
   "outputs": [],
   "source": []
  },
  {
   "cell_type": "code",
   "execution_count": 3,
   "id": "30e8298c",
   "metadata": {},
   "outputs": [],
   "source": [
    "t=(3,4,5,7,7,7,7,6,6,6,7,8,9)"
   ]
  },
  {
   "cell_type": "code",
   "execution_count": 137,
   "id": "940ade35",
   "metadata": {},
   "outputs": [],
   "source": [
    "def test9(t):\n",
    "    a=-1\n",
    "    while a>=-len(t):\n",
    "        if t[a]==6 or t[a]==7:\n",
    "            print(\"index of \",t[a],'is',a)\n",
    "        a=a-1"
   ]
  },
  {
   "cell_type": "code",
   "execution_count": 138,
   "id": "ef24b08b",
   "metadata": {},
   "outputs": [
    {
     "name": "stdout",
     "output_type": "stream",
     "text": [
      "index of  7 is -3\n",
      "index of  6 is -4\n",
      "index of  6 is -5\n",
      "index of  6 is -6\n",
      "index of  7 is -7\n",
      "index of  7 is -8\n",
      "index of  7 is -9\n",
      "index of  7 is -10\n"
     ]
    }
   ],
   "source": [
    "test9(t)"
   ]
  },
  {
   "cell_type": "code",
   "execution_count": null,
   "id": "78bcc132",
   "metadata": {},
   "outputs": [],
   "source": []
  },
  {
   "cell_type": "code",
   "execution_count": null,
   "id": "ac185853",
   "metadata": {},
   "outputs": [],
   "source": []
  },
  {
   "cell_type": "code",
   "execution_count": null,
   "id": "35c51950",
   "metadata": {},
   "outputs": [],
   "source": []
  },
  {
   "cell_type": "code",
   "execution_count": null,
   "id": "20194bd0",
   "metadata": {},
   "outputs": [],
   "source": []
  },
  {
   "cell_type": "code",
   "execution_count": null,
   "id": "13ed4b9e",
   "metadata": {},
   "outputs": [],
   "source": []
  }
 ],
 "metadata": {
  "kernelspec": {
   "display_name": "Python 3 (ipykernel)",
   "language": "python",
   "name": "python3"
  },
  "language_info": {
   "codemirror_mode": {
    "name": "ipython",
    "version": 3
   },
   "file_extension": ".py",
   "mimetype": "text/x-python",
   "name": "python",
   "nbconvert_exporter": "python",
   "pygments_lexer": "ipython3",
   "version": "3.9.12"
  }
 },
 "nbformat": 4,
 "nbformat_minor": 5
}
