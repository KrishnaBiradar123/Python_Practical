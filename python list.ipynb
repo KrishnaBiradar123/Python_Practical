{
 "cells": [
  {
   "cell_type": "code",
   "execution_count": 2,
   "id": "78a31422",
   "metadata": {},
   "outputs": [],
   "source": [
    " l =[1,2,3,4,5,\"krish\", 45.67, True]"
   ]
  },
  {
   "cell_type": "code",
   "execution_count": 4,
   "id": "f158927a",
   "metadata": {},
   "outputs": [
    {
     "data": {
      "text/plain": [
       "1"
      ]
     },
     "execution_count": 4,
     "metadata": {},
     "output_type": "execute_result"
    }
   ],
   "source": [
    "l[0]"
   ]
  },
  {
   "cell_type": "code",
   "execution_count": 6,
   "id": "76425024",
   "metadata": {},
   "outputs": [
    {
     "data": {
      "text/plain": [
       "True"
      ]
     },
     "execution_count": 6,
     "metadata": {},
     "output_type": "execute_result"
    }
   ],
   "source": [
    "l[-1]"
   ]
  },
  {
   "cell_type": "code",
   "execution_count": 7,
   "id": "91adbc2c",
   "metadata": {},
   "outputs": [
    {
     "data": {
      "text/plain": [
       "'krish'"
      ]
     },
     "execution_count": 7,
     "metadata": {},
     "output_type": "execute_result"
    }
   ],
   "source": [
    "l[-3]"
   ]
  },
  {
   "cell_type": "code",
   "execution_count": 9,
   "id": "701fcfd9",
   "metadata": {},
   "outputs": [
    {
     "data": {
      "text/plain": [
       "8"
      ]
     },
     "execution_count": 9,
     "metadata": {},
     "output_type": "execute_result"
    }
   ],
   "source": [
    "len(l)"
   ]
  },
  {
   "cell_type": "code",
   "execution_count": 10,
   "id": "2882b95a",
   "metadata": {},
   "outputs": [
    {
     "data": {
      "text/plain": [
       "[]"
      ]
     },
     "execution_count": 10,
     "metadata": {},
     "output_type": "execute_result"
    }
   ],
   "source": [
    "l[0:8:-1]"
   ]
  },
  {
   "cell_type": "code",
   "execution_count": 16,
   "id": "7ad59998",
   "metadata": {},
   "outputs": [],
   "source": [
    "m = [1,2,3,4,\"ramu\",45.8,False]"
   ]
  },
  {
   "cell_type": "code",
   "execution_count": 17,
   "id": "ae3b3822",
   "metadata": {},
   "outputs": [
    {
     "data": {
      "text/plain": [
       "[1, 2, 3, 4, 5, 'krish', 45.67, True, 1, 2, 3, 4, 'ramu', 45.8, False]"
      ]
     },
     "execution_count": 17,
     "metadata": {},
     "output_type": "execute_result"
    }
   ],
   "source": [
    "l+m"
   ]
  },
  {
   "cell_type": "code",
   "execution_count": 19,
   "id": "f4d4ad92",
   "metadata": {},
   "outputs": [
    {
     "data": {
      "text/plain": [
       "[1, 2, 3, 4, 5, 'krish', 45.67, True, 1, 2, 3, 4, 5, 'krish', 45.67, True]"
      ]
     },
     "execution_count": 19,
     "metadata": {},
     "output_type": "execute_result"
    }
   ],
   "source": [
    "l*2"
   ]
  },
  {
   "cell_type": "code",
   "execution_count": 20,
   "id": "2f02c19e",
   "metadata": {},
   "outputs": [
    {
     "ename": "TypeError",
     "evalue": "can only concatenate list (not \"int\") to list",
     "output_type": "error",
     "traceback": [
      "\u001b[1;31m---------------------------------------------------------------------------\u001b[0m",
      "\u001b[1;31mTypeError\u001b[0m                                 Traceback (most recent call last)",
      "Input \u001b[1;32mIn [20]\u001b[0m, in \u001b[0;36m<cell line: 1>\u001b[1;34m()\u001b[0m\n\u001b[1;32m----> 1\u001b[0m \u001b[43ml\u001b[49m\u001b[38;5;241;43m+\u001b[39;49m\u001b[38;5;241;43m2\u001b[39;49m\n",
      "\u001b[1;31mTypeError\u001b[0m: can only concatenate list (not \"int\") to list"
     ]
    }
   ],
   "source": [
    "l+2"
   ]
  },
  {
   "cell_type": "code",
   "execution_count": 21,
   "id": "eae8aed1",
   "metadata": {},
   "outputs": [
    {
     "data": {
      "text/plain": [
       "False"
      ]
     },
     "execution_count": 21,
     "metadata": {},
     "output_type": "execute_result"
    }
   ],
   "source": [
    "80 in l"
   ]
  },
  {
   "cell_type": "code",
   "execution_count": 22,
   "id": "37001b02",
   "metadata": {},
   "outputs": [
    {
     "ename": "TypeError",
     "evalue": "'>' not supported between instances of 'str' and 'int'",
     "output_type": "error",
     "traceback": [
      "\u001b[1;31m---------------------------------------------------------------------------\u001b[0m",
      "\u001b[1;31mTypeError\u001b[0m                                 Traceback (most recent call last)",
      "Input \u001b[1;32mIn [22]\u001b[0m, in \u001b[0;36m<cell line: 1>\u001b[1;34m()\u001b[0m\n\u001b[1;32m----> 1\u001b[0m \u001b[38;5;28;43mmax\u001b[39;49m\u001b[43m(\u001b[49m\u001b[43ml\u001b[49m\u001b[43m)\u001b[49m\n",
      "\u001b[1;31mTypeError\u001b[0m: '>' not supported between instances of 'str' and 'int'"
     ]
    }
   ],
   "source": [
    "max(l)"
   ]
  },
  {
   "cell_type": "code",
   "execution_count": 23,
   "id": "9890696b",
   "metadata": {},
   "outputs": [
    {
     "ename": "TypeError",
     "evalue": "'<' not supported between instances of 'str' and 'int'",
     "output_type": "error",
     "traceback": [
      "\u001b[1;31m---------------------------------------------------------------------------\u001b[0m",
      "\u001b[1;31mTypeError\u001b[0m                                 Traceback (most recent call last)",
      "Input \u001b[1;32mIn [23]\u001b[0m, in \u001b[0;36m<cell line: 1>\u001b[1;34m()\u001b[0m\n\u001b[1;32m----> 1\u001b[0m \u001b[38;5;28;43mmin\u001b[39;49m\u001b[43m(\u001b[49m\u001b[43ml\u001b[49m\u001b[43m)\u001b[49m\n",
      "\u001b[1;31mTypeError\u001b[0m: '<' not supported between instances of 'str' and 'int'"
     ]
    }
   ],
   "source": [
    "min(l)"
   ]
  },
  {
   "cell_type": "code",
   "execution_count": 2,
   "id": "9f50adc7",
   "metadata": {},
   "outputs": [],
   "source": [
    "k=[1,2,3,4,5,10,20,30,40,50,60,70,80,90,100,110,120,130,140]"
   ]
  },
  {
   "cell_type": "code",
   "execution_count": 4,
   "id": "241bdc9b",
   "metadata": {},
   "outputs": [
    {
     "data": {
      "text/plain": [
       "False"
      ]
     },
     "execution_count": 4,
     "metadata": {},
     "output_type": "execute_result"
    }
   ],
   "source": [
    "7 in k"
   ]
  },
  {
   "cell_type": "code",
   "execution_count": 26,
   "id": "7a6c536d",
   "metadata": {},
   "outputs": [
    {
     "data": {
      "text/plain": [
       "140"
      ]
     },
     "execution_count": 26,
     "metadata": {},
     "output_type": "execute_result"
    }
   ],
   "source": [
    "max(k)"
   ]
  },
  {
   "cell_type": "code",
   "execution_count": 27,
   "id": "693e582f",
   "metadata": {},
   "outputs": [
    {
     "data": {
      "text/plain": [
       "1"
      ]
     },
     "execution_count": 27,
     "metadata": {},
     "output_type": "execute_result"
    }
   ],
   "source": [
    "min(k)"
   ]
  },
  {
   "cell_type": "code",
   "execution_count": 32,
   "id": "73791a1a",
   "metadata": {},
   "outputs": [],
   "source": [
    "k\n",
    "k.append(\"krishna\")"
   ]
  },
  {
   "cell_type": "code",
   "execution_count": 33,
   "id": "51e3d21f",
   "metadata": {},
   "outputs": [
    {
     "data": {
      "text/plain": [
       "[1,\n",
       " 2,\n",
       " 3,\n",
       " 4,\n",
       " 5,\n",
       " 10,\n",
       " 20,\n",
       " 30,\n",
       " 40,\n",
       " 50,\n",
       " 60,\n",
       " 70,\n",
       " 80,\n",
       " 90,\n",
       " 100,\n",
       " 110,\n",
       " 120,\n",
       " 130,\n",
       " 140,\n",
       " 'krishna',\n",
       " 'krishna',\n",
       " 'krishna',\n",
       " 'krishna']"
      ]
     },
     "execution_count": 33,
     "metadata": {},
     "output_type": "execute_result"
    }
   ],
   "source": [
    "k"
   ]
  },
  {
   "cell_type": "code",
   "execution_count": 95,
   "id": "f3a9a84a",
   "metadata": {},
   "outputs": [],
   "source": [
    "k.append([2,a,3,4,5,6,66,\"dfhgfdkfjjjjjjjjjjjjjjj\"])"
   ]
  },
  {
   "cell_type": "code",
   "execution_count": 37,
   "id": "a77b8eb1",
   "metadata": {},
   "outputs": [
    {
     "data": {
      "text/plain": [
       "[1,\n",
       " 2,\n",
       " 3,\n",
       " 4,\n",
       " 5,\n",
       " 10,\n",
       " 20,\n",
       " 30,\n",
       " 40,\n",
       " 50,\n",
       " 60,\n",
       " 70,\n",
       " 80,\n",
       " 90,\n",
       " 100,\n",
       " 110,\n",
       " 120,\n",
       " 130,\n",
       " 140,\n",
       " 'krishna',\n",
       " 'krishna',\n",
       " 'krishna',\n",
       " 'krishna',\n",
       " 'krishna',\n",
       " 666666]"
      ]
     },
     "execution_count": 37,
     "metadata": {},
     "output_type": "execute_result"
    }
   ],
   "source": [
    "k"
   ]
  },
  {
   "cell_type": "code",
   "execution_count": 38,
   "id": "cdad2336",
   "metadata": {},
   "outputs": [
    {
     "data": {
      "text/plain": [
       "666666"
      ]
     },
     "execution_count": 38,
     "metadata": {},
     "output_type": "execute_result"
    }
   ],
   "source": [
    "k.pop()"
   ]
  },
  {
   "cell_type": "code",
   "execution_count": 96,
   "id": "436553b2",
   "metadata": {},
   "outputs": [
    {
     "data": {
      "text/plain": [
       "['krishna',\n",
       " 'krishna',\n",
       " 'krishna',\n",
       " 'krishna',\n",
       " 'krishna',\n",
       " 140,\n",
       " 130,\n",
       " 120,\n",
       " 110,\n",
       " 100,\n",
       " 90,\n",
       " [2, [0], 3, 4, 5, 6, 66, 'dfhgfdkfjjjjjjjjjjjjjjj'],\n",
       " [2, [0], 3, 4, 5, 6, 66, 'dfhgfdkfjjjjjjjjjjjjjjj']]"
      ]
     },
     "execution_count": 96,
     "metadata": {},
     "output_type": "execute_result"
    }
   ],
   "source": [
    "k"
   ]
  },
  {
   "cell_type": "code",
   "execution_count": 43,
   "id": "f2d410fc",
   "metadata": {},
   "outputs": [
    {
     "data": {
      "text/plain": [
       "60"
      ]
     },
     "execution_count": 43,
     "metadata": {},
     "output_type": "execute_result"
    }
   ],
   "source": [
    "k.pop(10)"
   ]
  },
  {
   "cell_type": "code",
   "execution_count": 44,
   "id": "6fb67c5c",
   "metadata": {},
   "outputs": [
    {
     "data": {
      "text/plain": [
       "23"
      ]
     },
     "execution_count": 44,
     "metadata": {},
     "output_type": "execute_result"
    }
   ],
   "source": [
    "len(k)"
   ]
  },
  {
   "cell_type": "code",
   "execution_count": 45,
   "id": "cc957a39",
   "metadata": {},
   "outputs": [
    {
     "data": {
      "text/plain": [
       "'krishna'"
      ]
     },
     "execution_count": 45,
     "metadata": {},
     "output_type": "execute_result"
    }
   ],
   "source": [
    "k.pop(22)"
   ]
  },
  {
   "cell_type": "code",
   "execution_count": 46,
   "id": "1d50e065",
   "metadata": {},
   "outputs": [
    {
     "data": {
      "text/plain": [
       "[1,\n",
       " 2,\n",
       " 3,\n",
       " 4,\n",
       " 5,\n",
       " 10,\n",
       " 20,\n",
       " 30,\n",
       " 40,\n",
       " 50,\n",
       " 70,\n",
       " 80,\n",
       " 90,\n",
       " 100,\n",
       " 110,\n",
       " 120,\n",
       " 130,\n",
       " 140,\n",
       " 'krishna',\n",
       " 'krishna',\n",
       " 'krishna',\n",
       " 'krishna']"
      ]
     },
     "execution_count": 46,
     "metadata": {},
     "output_type": "execute_result"
    }
   ],
   "source": [
    "k"
   ]
  },
  {
   "cell_type": "code",
   "execution_count": 47,
   "id": "eabf52a4",
   "metadata": {},
   "outputs": [
    {
     "data": {
      "text/plain": [
       "'krishna'"
      ]
     },
     "execution_count": 47,
     "metadata": {},
     "output_type": "execute_result"
    }
   ],
   "source": [
    "k.pop()"
   ]
  },
  {
   "cell_type": "code",
   "execution_count": 49,
   "id": "01a10829",
   "metadata": {},
   "outputs": [],
   "source": [
    "k.reverse()"
   ]
  },
  {
   "cell_type": "code",
   "execution_count": 50,
   "id": "27c417ca",
   "metadata": {
    "scrolled": true
   },
   "outputs": [
    {
     "data": {
      "text/plain": [
       "['krishna',\n",
       " 'krishna',\n",
       " 'krishna',\n",
       " 140,\n",
       " 130,\n",
       " 120,\n",
       " 110,\n",
       " 100,\n",
       " 90,\n",
       " 80,\n",
       " 70,\n",
       " 50,\n",
       " 40,\n",
       " 30,\n",
       " 20,\n",
       " 10,\n",
       " 5,\n",
       " 4,\n",
       " 3,\n",
       " 2,\n",
       " 1]"
      ]
     },
     "execution_count": 50,
     "metadata": {},
     "output_type": "execute_result"
    }
   ],
   "source": [
    "k"
   ]
  },
  {
   "cell_type": "code",
   "execution_count": 51,
   "id": "cf3d6b18",
   "metadata": {},
   "outputs": [],
   "source": [
    "k=[ 90,\n",
    " 100,\n",
    " 110,\n",
    " 120,\n",
    " 130,\n",
    " 140,\n",
    " 'krishna',\n",
    " 'krishna',\n",
    " 'krishna',\n",
    " 'krishna',\n",
    " 'krishna']"
   ]
  },
  {
   "cell_type": "code",
   "execution_count": 52,
   "id": "bf856e68",
   "metadata": {},
   "outputs": [
    {
     "data": {
      "text/plain": [
       "[90,\n",
       " 100,\n",
       " 110,\n",
       " 120,\n",
       " 130,\n",
       " 140,\n",
       " 'krishna',\n",
       " 'krishna',\n",
       " 'krishna',\n",
       " 'krishna',\n",
       " 'krishna']"
      ]
     },
     "execution_count": 52,
     "metadata": {},
     "output_type": "execute_result"
    }
   ],
   "source": [
    "k"
   ]
  },
  {
   "cell_type": "code",
   "execution_count": 53,
   "id": "8a09ed49",
   "metadata": {},
   "outputs": [
    {
     "data": {
      "text/plain": [
       "['krishna',\n",
       " 'krishna',\n",
       " 'krishna',\n",
       " 'krishna',\n",
       " 'krishna',\n",
       " 140,\n",
       " 130,\n",
       " 120,\n",
       " 110,\n",
       " 100,\n",
       " 90]"
      ]
     },
     "execution_count": 53,
     "metadata": {},
     "output_type": "execute_result"
    }
   ],
   "source": [
    "k[::-1]"
   ]
  },
  {
   "cell_type": "code",
   "execution_count": 55,
   "id": "6f258a9a",
   "metadata": {},
   "outputs": [],
   "source": [
    "k=k[::-1]"
   ]
  },
  {
   "cell_type": "code",
   "execution_count": 56,
   "id": "96c9f8f1",
   "metadata": {},
   "outputs": [
    {
     "data": {
      "text/plain": [
       "['krishna',\n",
       " 'krishna',\n",
       " 'krishna',\n",
       " 'krishna',\n",
       " 'krishna',\n",
       " 140,\n",
       " 130,\n",
       " 120,\n",
       " 110,\n",
       " 100,\n",
       " 90]"
      ]
     },
     "execution_count": 56,
     "metadata": {},
     "output_type": "execute_result"
    }
   ],
   "source": [
    "k"
   ]
  },
  {
   "cell_type": "code",
   "execution_count": 57,
   "id": "4cc8e600",
   "metadata": {},
   "outputs": [
    {
     "data": {
      "text/plain": [
       "['krishna',\n",
       " 'krishna',\n",
       " 'krishna',\n",
       " 'krishna',\n",
       " 'krishna',\n",
       " 140,\n",
       " 130,\n",
       " 120,\n",
       " 110,\n",
       " 100,\n",
       " 90]"
      ]
     },
     "execution_count": 57,
     "metadata": {},
     "output_type": "execute_result"
    }
   ],
   "source": [
    "k[::1]"
   ]
  },
  {
   "cell_type": "code",
   "execution_count": 58,
   "id": "49942a0f",
   "metadata": {},
   "outputs": [
    {
     "data": {
      "text/plain": [
       "['krishna',\n",
       " 'krishna',\n",
       " 'krishna',\n",
       " 'krishna',\n",
       " 'krishna',\n",
       " 140,\n",
       " 130,\n",
       " 120,\n",
       " 110,\n",
       " 100,\n",
       " 90]"
      ]
     },
     "execution_count": 58,
     "metadata": {},
     "output_type": "execute_result"
    }
   ],
   "source": [
    "k\n"
   ]
  },
  {
   "cell_type": "code",
   "execution_count": 59,
   "id": "638a5b36",
   "metadata": {},
   "outputs": [],
   "source": [
    "k=k[::1]"
   ]
  },
  {
   "cell_type": "code",
   "execution_count": 60,
   "id": "b692ebfb",
   "metadata": {},
   "outputs": [
    {
     "data": {
      "text/plain": [
       "['krishna',\n",
       " 'krishna',\n",
       " 'krishna',\n",
       " 'krishna',\n",
       " 'krishna',\n",
       " 140,\n",
       " 130,\n",
       " 120,\n",
       " 110,\n",
       " 100,\n",
       " 90]"
      ]
     },
     "execution_count": 60,
     "metadata": {},
     "output_type": "execute_result"
    }
   ],
   "source": [
    "k"
   ]
  },
  {
   "cell_type": "code",
   "execution_count": 61,
   "id": "08185e08",
   "metadata": {},
   "outputs": [],
   "source": [
    "l1=[9,6,8,4,7,1,\"krishna\",True,8.38]"
   ]
  },
  {
   "cell_type": "code",
   "execution_count": 62,
   "id": "b44f2e8a",
   "metadata": {},
   "outputs": [],
   "source": [
    "l1.reverse()"
   ]
  },
  {
   "cell_type": "code",
   "execution_count": 63,
   "id": "d030d369",
   "metadata": {},
   "outputs": [
    {
     "data": {
      "text/plain": [
       "[8.38, True, 'krishna', 1, 7, 4, 8, 6, 9]"
      ]
     },
     "execution_count": 63,
     "metadata": {},
     "output_type": "execute_result"
    }
   ],
   "source": [
    "l1"
   ]
  },
  {
   "cell_type": "code",
   "execution_count": 64,
   "id": "35a273f4",
   "metadata": {},
   "outputs": [
    {
     "ename": "TypeError",
     "evalue": "'<' not supported between instances of 'str' and 'bool'",
     "output_type": "error",
     "traceback": [
      "\u001b[1;31m---------------------------------------------------------------------------\u001b[0m",
      "\u001b[1;31mTypeError\u001b[0m                                 Traceback (most recent call last)",
      "Input \u001b[1;32mIn [64]\u001b[0m, in \u001b[0;36m<cell line: 1>\u001b[1;34m()\u001b[0m\n\u001b[1;32m----> 1\u001b[0m \u001b[38;5;28;43mmin\u001b[39;49m\u001b[43m(\u001b[49m\u001b[43ml1\u001b[49m\u001b[43m)\u001b[49m\n",
      "\u001b[1;31mTypeError\u001b[0m: '<' not supported between instances of 'str' and 'bool'"
     ]
    }
   ],
   "source": [
    "min(l1)\n"
   ]
  },
  {
   "cell_type": "code",
   "execution_count": 65,
   "id": "93a65f2d",
   "metadata": {},
   "outputs": [
    {
     "ename": "TypeError",
     "evalue": "'<' not supported between instances of 'str' and 'bool'",
     "output_type": "error",
     "traceback": [
      "\u001b[1;31m---------------------------------------------------------------------------\u001b[0m",
      "\u001b[1;31mTypeError\u001b[0m                                 Traceback (most recent call last)",
      "Input \u001b[1;32mIn [65]\u001b[0m, in \u001b[0;36m<cell line: 1>\u001b[1;34m()\u001b[0m\n\u001b[1;32m----> 1\u001b[0m \u001b[43ml1\u001b[49m\u001b[38;5;241;43m.\u001b[39;49m\u001b[43msort\u001b[49m\u001b[43m(\u001b[49m\u001b[43m)\u001b[49m\n",
      "\u001b[1;31mTypeError\u001b[0m: '<' not supported between instances of 'str' and 'bool'"
     ]
    }
   ],
   "source": [
    "l1.sort()"
   ]
  },
  {
   "cell_type": "code",
   "execution_count": 66,
   "id": "45219d0c",
   "metadata": {},
   "outputs": [],
   "source": [
    "m=[5,7,8,3,2,26,27,22.5]"
   ]
  },
  {
   "cell_type": "code",
   "execution_count": 67,
   "id": "7eac7263",
   "metadata": {},
   "outputs": [],
   "source": [
    "m.sort()"
   ]
  },
  {
   "cell_type": "code",
   "execution_count": 68,
   "id": "8d353f8c",
   "metadata": {},
   "outputs": [
    {
     "data": {
      "text/plain": [
       "[2, 3, 5, 7, 8, 22.5, 26, 27]"
      ]
     },
     "execution_count": 68,
     "metadata": {},
     "output_type": "execute_result"
    }
   ],
   "source": [
    "m"
   ]
  },
  {
   "cell_type": "code",
   "execution_count": 75,
   "id": "fdad3533",
   "metadata": {},
   "outputs": [],
   "source": [
    "m.sort(reverse= True)"
   ]
  },
  {
   "cell_type": "code",
   "execution_count": 70,
   "id": "2c9a2194",
   "metadata": {},
   "outputs": [
    {
     "data": {
      "text/plain": [
       "[27, 26, 22.5, 8, 7, 5, 3, 2]"
      ]
     },
     "execution_count": 70,
     "metadata": {},
     "output_type": "execute_result"
    }
   ],
   "source": [
    "m"
   ]
  },
  {
   "cell_type": "code",
   "execution_count": 71,
   "id": "07d9eb98",
   "metadata": {},
   "outputs": [],
   "source": [
    "m.sort(reverse= False)"
   ]
  },
  {
   "cell_type": "code",
   "execution_count": 73,
   "id": "95ade65b",
   "metadata": {},
   "outputs": [
    {
     "data": {
      "text/plain": [
       "[2, 3, 5, 7, 8, 22.5, 26, 27]"
      ]
     },
     "execution_count": 73,
     "metadata": {},
     "output_type": "execute_result"
    }
   ],
   "source": [
    "m"
   ]
  },
  {
   "cell_type": "code",
   "execution_count": 76,
   "id": "f105059b",
   "metadata": {},
   "outputs": [],
   "source": [
    "a1 =[2,3,4]\n",
    "a2 =[5,6,7]\n",
    "a3 =[8,9,0]"
   ]
  },
  {
   "cell_type": "code",
   "execution_count": 77,
   "id": "14b90122",
   "metadata": {},
   "outputs": [],
   "source": [
    "a4=[a1,a2,a3]"
   ]
  },
  {
   "cell_type": "code",
   "execution_count": 78,
   "id": "2de5c42c",
   "metadata": {},
   "outputs": [
    {
     "data": {
      "text/plain": [
       "[[2, 3, 4], [5, 6, 7], [8, 9, 0]]"
      ]
     },
     "execution_count": 78,
     "metadata": {},
     "output_type": "execute_result"
    }
   ],
   "source": [
    "a4"
   ]
  },
  {
   "cell_type": "code",
   "execution_count": 82,
   "id": "165b22a3",
   "metadata": {},
   "outputs": [
    {
     "data": {
      "text/plain": [
       "9"
      ]
     },
     "execution_count": 82,
     "metadata": {},
     "output_type": "execute_result"
    }
   ],
   "source": [
    "a4[2][1]"
   ]
  },
  {
   "cell_type": "code",
   "execution_count": 91,
   "id": "550fc7ae",
   "metadata": {},
   "outputs": [
    {
     "data": {
      "text/plain": [
       "1"
      ]
     },
     "execution_count": 91,
     "metadata": {},
     "output_type": "execute_result"
    }
   ],
   "source": [
    "a3.count(0)"
   ]
  },
  {
   "cell_type": "code",
   "execution_count": 87,
   "id": "15476cbd",
   "metadata": {},
   "outputs": [],
   "source": [
    "a=[0]"
   ]
  },
  {
   "cell_type": "code",
   "execution_count": 89,
   "id": "f94a5d7a",
   "metadata": {},
   "outputs": [
    {
     "data": {
      "text/plain": [
       "1"
      ]
     },
     "execution_count": 89,
     "metadata": {},
     "output_type": "execute_result"
    }
   ],
   "source": [
    "a.count(0)"
   ]
  },
  {
   "cell_type": "code",
   "execution_count": 97,
   "id": "c5fea637",
   "metadata": {},
   "outputs": [
    {
     "data": {
      "text/plain": [
       "[8.38, True, 'krishna', 1, 7, 4, 8, 6, 9]"
      ]
     },
     "execution_count": 97,
     "metadata": {},
     "output_type": "execute_result"
    }
   ],
   "source": [
    "l1"
   ]
  },
  {
   "cell_type": "code",
   "execution_count": 98,
   "id": "b562e61c",
   "metadata": {},
   "outputs": [],
   "source": [
    "l1.append(21)"
   ]
  },
  {
   "cell_type": "code",
   "execution_count": 101,
   "id": "8e59a206",
   "metadata": {},
   "outputs": [],
   "source": [
    "l1.extend([44])"
   ]
  },
  {
   "cell_type": "code",
   "execution_count": 102,
   "id": "b407dcfc",
   "metadata": {},
   "outputs": [
    {
     "data": {
      "text/plain": [
       "[8.38, True, 'krishna', 1, 7, 4, 8, 6, 9, 21, 44, 44]"
      ]
     },
     "execution_count": 102,
     "metadata": {},
     "output_type": "execute_result"
    }
   ],
   "source": [
    "l1"
   ]
  },
  {
   "cell_type": "code",
   "execution_count": 104,
   "id": "aa22f19b",
   "metadata": {},
   "outputs": [],
   "source": [
    "l1.extend([\"krishna\",2,])"
   ]
  },
  {
   "cell_type": "code",
   "execution_count": 105,
   "id": "5da1c39b",
   "metadata": {},
   "outputs": [
    {
     "data": {
      "text/plain": [
       "[8.38, True, 'krishna', 1, 7, 4, 8, 6, 9, 21, 44, 44, 'krishna', 2]"
      ]
     },
     "execution_count": 105,
     "metadata": {},
     "output_type": "execute_result"
    }
   ],
   "source": [
    "l1"
   ]
  },
  {
   "cell_type": "code",
   "execution_count": 109,
   "id": "d3be214e",
   "metadata": {},
   "outputs": [],
   "source": [
    "l1.extend([\"sundar pichai\",2])"
   ]
  },
  {
   "cell_type": "code",
   "execution_count": 107,
   "id": "0cb755e3",
   "metadata": {},
   "outputs": [
    {
     "data": {
      "text/plain": [
       "[8.38,\n",
       " True,\n",
       " 'krishna',\n",
       " 1,\n",
       " 7,\n",
       " 4,\n",
       " 8,\n",
       " 6,\n",
       " 9,\n",
       " 21,\n",
       " 44,\n",
       " 44,\n",
       " 'krishna',\n",
       " 2,\n",
       " 's',\n",
       " 'u',\n",
       " 'n',\n",
       " 'd',\n",
       " 'a',\n",
       " 'r',\n",
       " ' ',\n",
       " 'p',\n",
       " 'i',\n",
       " 'c',\n",
       " 'h',\n",
       " 'a',\n",
       " 'i']"
      ]
     },
     "execution_count": 107,
     "metadata": {},
     "output_type": "execute_result"
    }
   ],
   "source": [
    "l1"
   ]
  },
  {
   "cell_type": "code",
   "execution_count": 110,
   "id": "731a72e5",
   "metadata": {},
   "outputs": [
    {
     "data": {
      "text/plain": [
       "[8.38,\n",
       " True,\n",
       " 'krishna',\n",
       " 1,\n",
       " 7,\n",
       " 4,\n",
       " 8,\n",
       " 6,\n",
       " 9,\n",
       " 21,\n",
       " 44,\n",
       " 44,\n",
       " 'krishna',\n",
       " 2,\n",
       " 's',\n",
       " 'u',\n",
       " 'n',\n",
       " 'd',\n",
       " 'a',\n",
       " 'r',\n",
       " ' ',\n",
       " 'p',\n",
       " 'i',\n",
       " 'c',\n",
       " 'h',\n",
       " 'a',\n",
       " 'i',\n",
       " 'sundar pichai',\n",
       " 2]"
      ]
     },
     "execution_count": 110,
     "metadata": {},
     "output_type": "execute_result"
    }
   ],
   "source": [
    "l1"
   ]
  },
  {
   "cell_type": "code",
   "execution_count": 111,
   "id": "6b980bb4",
   "metadata": {},
   "outputs": [],
   "source": [
    "l2=[1,2,3,4,\"krishna\"]"
   ]
  },
  {
   "cell_type": "code",
   "execution_count": 113,
   "id": "e13ca329",
   "metadata": {},
   "outputs": [
    {
     "data": {
      "text/plain": [
       "3"
      ]
     },
     "execution_count": 113,
     "metadata": {},
     "output_type": "execute_result"
    }
   ],
   "source": [
    "l2.index(4)"
   ]
  },
  {
   "cell_type": "code",
   "execution_count": 116,
   "id": "74a75dbb",
   "metadata": {},
   "outputs": [],
   "source": [
    "l2.insert(4,5)"
   ]
  },
  {
   "cell_type": "code",
   "execution_count": 117,
   "id": "767928a4",
   "metadata": {},
   "outputs": [
    {
     "data": {
      "text/plain": [
       "[1, 2, 3, 4, 5, 'krishna', 5]"
      ]
     },
     "execution_count": 117,
     "metadata": {},
     "output_type": "execute_result"
    }
   ],
   "source": [
    "l2"
   ]
  },
  {
   "cell_type": "code",
   "execution_count": 118,
   "id": "730f96ba",
   "metadata": {},
   "outputs": [
    {
     "data": {
      "text/plain": [
       "5"
      ]
     },
     "execution_count": 118,
     "metadata": {},
     "output_type": "execute_result"
    }
   ],
   "source": [
    "l2.pop()"
   ]
  },
  {
   "cell_type": "code",
   "execution_count": 3,
   "id": "6aea456f",
   "metadata": {},
   "outputs": [],
   "source": [
    "l2=[1, 2, 3, 4, 5, 'krishna', 5]"
   ]
  },
  {
   "cell_type": "code",
   "execution_count": 4,
   "id": "0a29e9fc",
   "metadata": {},
   "outputs": [],
   "source": [
    "l2.remove(5)"
   ]
  },
  {
   "cell_type": "code",
   "execution_count": 5,
   "id": "a4c5490a",
   "metadata": {},
   "outputs": [
    {
     "data": {
      "text/plain": [
       "[1, 2, 3, 4, 'krishna', 5]"
      ]
     },
     "execution_count": 5,
     "metadata": {},
     "output_type": "execute_result"
    }
   ],
   "source": [
    "l2\n"
   ]
  },
  {
   "cell_type": "code",
   "execution_count": 8,
   "id": "06e32f66",
   "metadata": {},
   "outputs": [
    {
     "data": {
      "text/plain": [
       "4"
      ]
     },
     "execution_count": 8,
     "metadata": {},
     "output_type": "execute_result"
    }
   ],
   "source": [
    "l2.pop(3)"
   ]
  },
  {
   "cell_type": "code",
   "execution_count": 9,
   "id": "06a95935",
   "metadata": {},
   "outputs": [
    {
     "data": {
      "text/plain": [
       "[1, 2, 3, 'krishna']"
      ]
     },
     "execution_count": 9,
     "metadata": {},
     "output_type": "execute_result"
    }
   ],
   "source": [
    "l2"
   ]
  },
  {
   "cell_type": "code",
   "execution_count": 10,
   "id": "6fd6b213",
   "metadata": {},
   "outputs": [
    {
     "data": {
      "text/plain": [
       "3"
      ]
     },
     "execution_count": 10,
     "metadata": {},
     "output_type": "execute_result"
    }
   ],
   "source": [
    "l2[2]"
   ]
  },
  {
   "cell_type": "code",
   "execution_count": 11,
   "id": "c9990314",
   "metadata": {},
   "outputs": [],
   "source": [
    "l2[2]= \"krishna\""
   ]
  },
  {
   "cell_type": "code",
   "execution_count": 12,
   "id": "8b631438",
   "metadata": {},
   "outputs": [
    {
     "data": {
      "text/plain": [
       "[1, 2, 'krishna', 'krishna']"
      ]
     },
     "execution_count": 12,
     "metadata": {},
     "output_type": "execute_result"
    }
   ],
   "source": [
    "l2"
   ]
  },
  {
   "cell_type": "code",
   "execution_count": 13,
   "id": "07ffbc50",
   "metadata": {},
   "outputs": [],
   "source": [
    "s=\"krishna\""
   ]
  },
  {
   "cell_type": "code",
   "execution_count": 14,
   "id": "d92a802e",
   "metadata": {},
   "outputs": [
    {
     "data": {
      "text/plain": [
       "'i'"
      ]
     },
     "execution_count": 14,
     "metadata": {},
     "output_type": "execute_result"
    }
   ],
   "source": [
    "s[2]"
   ]
  },
  {
   "cell_type": "code",
   "execution_count": 15,
   "id": "3202fad3",
   "metadata": {},
   "outputs": [
    {
     "ename": "TypeError",
     "evalue": "'str' object does not support item assignment",
     "output_type": "error",
     "traceback": [
      "\u001b[1;31m---------------------------------------------------------------------------\u001b[0m",
      "\u001b[1;31mTypeError\u001b[0m                                 Traceback (most recent call last)",
      "Input \u001b[1;32mIn [15]\u001b[0m, in \u001b[0;36m<cell line: 1>\u001b[1;34m()\u001b[0m\n\u001b[1;32m----> 1\u001b[0m s[\u001b[38;5;241m2\u001b[39m]\u001b[38;5;241m=\u001b[39m\u001b[38;5;124m\"\u001b[39m\u001b[38;5;124mk\u001b[39m\u001b[38;5;124m\"\u001b[39m\n",
      "\u001b[1;31mTypeError\u001b[0m: 'str' object does not support item assignment"
     ]
    }
   ],
   "source": [
    "s[2]=\"k\""
   ]
  },
  {
   "cell_type": "markdown",
   "id": "299fc9e4",
   "metadata": {},
   "source": [
    "Because string and tuple are immutable,\n",
    "list is mutable.\n",
    "\n",
    "\n",
    "* Mutable: it is concept that we will be able to mutate an element and we will be able to assignment operation/reassignment operation between iterable.\n",
    "* Immutability : it is concept thatsimply means that we will not be able to do an item reassignment operation inside iterable.    \n",
    "    "
   ]
  },
  {
   "cell_type": "code",
   "execution_count": 2,
   "id": "4c2448ac",
   "metadata": {},
   "outputs": [],
   "source": [
    "t= (1,234,456,\"krishna\",45.8,True)"
   ]
  },
  {
   "cell_type": "code",
   "execution_count": 3,
   "id": "7535b346",
   "metadata": {},
   "outputs": [
    {
     "data": {
      "text/plain": [
       "(1, 234, 456, 'krishna', 45.8, True)"
      ]
     },
     "execution_count": 3,
     "metadata": {},
     "output_type": "execute_result"
    }
   ],
   "source": [
    "t"
   ]
  },
  {
   "cell_type": "code",
   "execution_count": 4,
   "id": "2d424673",
   "metadata": {},
   "outputs": [
    {
     "data": {
      "text/plain": [
       "'krishna'"
      ]
     },
     "execution_count": 4,
     "metadata": {},
     "output_type": "execute_result"
    }
   ],
   "source": [
    "t[3]"
   ]
  },
  {
   "cell_type": "code",
   "execution_count": 7,
   "id": "b5df653a",
   "metadata": {},
   "outputs": [
    {
     "ename": "TypeError",
     "evalue": "'tuple' object does not support item assignment",
     "output_type": "error",
     "traceback": [
      "\u001b[1;31m---------------------------------------------------------------------------\u001b[0m",
      "\u001b[1;31mTypeError\u001b[0m                                 Traceback (most recent call last)",
      "Input \u001b[1;32mIn [7]\u001b[0m, in \u001b[0;36m<cell line: 1>\u001b[1;34m()\u001b[0m\n\u001b[1;32m----> 1\u001b[0m t[\u001b[38;5;241m3\u001b[39m]\u001b[38;5;241m=\u001b[39m\u001b[38;5;124m\"\u001b[39m\u001b[38;5;124mramanna\u001b[39m\u001b[38;5;124m\"\u001b[39m\n",
      "\u001b[1;31mTypeError\u001b[0m: 'tuple' object does not support item assignment"
     ]
    }
   ],
   "source": [
    "t[3]=\"ramanna\""
   ]
  },
  {
   "cell_type": "code",
   "execution_count": 8,
   "id": "9ceffa9d",
   "metadata": {},
   "outputs": [
    {
     "data": {
      "text/plain": [
       "(234, 456, 'krishna', 45.8, True)"
      ]
     },
     "execution_count": 8,
     "metadata": {},
     "output_type": "execute_result"
    }
   ],
   "source": [
    "t[1:8:]"
   ]
  },
  {
   "cell_type": "code",
   "execution_count": 9,
   "id": "f2ea61a9",
   "metadata": {},
   "outputs": [
    {
     "data": {
      "text/plain": [
       "('krishna', 45.8, True)"
      ]
     },
     "execution_count": 9,
     "metadata": {},
     "output_type": "execute_result"
    }
   ],
   "source": [
    "t[3:100]"
   ]
  },
  {
   "cell_type": "code",
   "execution_count": 10,
   "id": "c4782536",
   "metadata": {},
   "outputs": [
    {
     "data": {
      "text/plain": [
       "True"
      ]
     },
     "execution_count": 10,
     "metadata": {},
     "output_type": "execute_result"
    }
   ],
   "source": [
    "t[-1]"
   ]
  },
  {
   "cell_type": "code",
   "execution_count": 48,
   "id": "bcafe828",
   "metadata": {},
   "outputs": [
    {
     "data": {
      "text/plain": [
       "(True, False, 98.8, 123, 'krishna')"
      ]
     },
     "execution_count": 48,
     "metadata": {},
     "output_type": "execute_result"
    }
   ],
   "source": [
    "t[::-1]"
   ]
  },
  {
   "cell_type": "code",
   "execution_count": 49,
   "id": "c9e50443",
   "metadata": {},
   "outputs": [
    {
     "data": {
      "text/plain": [
       "('krishna', 123, 98.8, False, True)"
      ]
     },
     "execution_count": 49,
     "metadata": {},
     "output_type": "execute_result"
    }
   ],
   "source": [
    "t"
   ]
  },
  {
   "cell_type": "code",
   "execution_count": 14,
   "id": "0e572e47",
   "metadata": {},
   "outputs": [
    {
     "ename": "TypeError",
     "evalue": "'tuple' object does not support item assignment",
     "output_type": "error",
     "traceback": [
      "\u001b[1;31m---------------------------------------------------------------------------\u001b[0m",
      "\u001b[1;31mTypeError\u001b[0m                                 Traceback (most recent call last)",
      "Input \u001b[1;32mIn [14]\u001b[0m, in \u001b[0;36m<cell line: 1>\u001b[1;34m()\u001b[0m\n\u001b[1;32m----> 1\u001b[0m t[\u001b[38;5;241m3\u001b[39m]\u001b[38;5;241m=\u001b[39m [\u001b[38;5;241m222\u001b[39m]\n",
      "\u001b[1;31mTypeError\u001b[0m: 'tuple' object does not support item assignment"
     ]
    }
   ],
   "source": [
    "    t[3]= [222]"
   ]
  },
  {
   "cell_type": "code",
   "execution_count": 15,
   "id": "f09c65f9",
   "metadata": {},
   "outputs": [],
   "source": [
    "t1=(123,456,\"gkjfhd\")"
   ]
  },
  {
   "cell_type": "code",
   "execution_count": 16,
   "id": "57a29e29",
   "metadata": {},
   "outputs": [
    {
     "data": {
      "text/plain": [
       "(1, 234, 456, 'krishna', 45.8, True, 123, 456, 'gkjfhd')"
      ]
     },
     "execution_count": 16,
     "metadata": {},
     "output_type": "execute_result"
    }
   ],
   "source": [
    "t+t1"
   ]
  },
  {
   "cell_type": "code",
   "execution_count": 19,
   "id": "16026de7",
   "metadata": {},
   "outputs": [
    {
     "data": {
      "text/plain": [
       "0"
      ]
     },
     "execution_count": 19,
     "metadata": {},
     "output_type": "execute_result"
    }
   ],
   "source": [
    "t1.count('%')"
   ]
  },
  {
   "cell_type": "code",
   "execution_count": 21,
   "id": "d57cffa6",
   "metadata": {},
   "outputs": [
    {
     "data": {
      "text/plain": [
       "0"
      ]
     },
     "execution_count": 21,
     "metadata": {},
     "output_type": "execute_result"
    }
   ],
   "source": [
    "t.count(',')"
   ]
  },
  {
   "cell_type": "code",
   "execution_count": 24,
   "id": "a76366f5",
   "metadata": {},
   "outputs": [
    {
     "data": {
      "text/plain": [
       "(1, 234, 456, 'krishna', 45.8, True)"
      ]
     },
     "execution_count": 24,
     "metadata": {},
     "output_type": "execute_result"
    }
   ],
   "source": [
    "t"
   ]
  },
  {
   "cell_type": "code",
   "execution_count": 26,
   "id": "41ef10f3",
   "metadata": {},
   "outputs": [
    {
     "data": {
      "text/plain": [
       "1"
      ]
     },
     "execution_count": 26,
     "metadata": {},
     "output_type": "execute_result"
    }
   ],
   "source": [
    "t.index(234)"
   ]
  },
  {
   "cell_type": "code",
   "execution_count": 36,
   "id": "1794e396",
   "metadata": {},
   "outputs": [
    {
     "data": {
      "text/plain": [
       "0"
      ]
     },
     "execution_count": 36,
     "metadata": {},
     "output_type": "execute_result"
    }
   ],
   "source": [
    "t.index(True)"
   ]
  },
  {
   "cell_type": "code",
   "execution_count": 30,
   "id": "15aa4474",
   "metadata": {},
   "outputs": [
    {
     "data": {
      "text/plain": [
       "4"
      ]
     },
     "execution_count": 30,
     "metadata": {},
     "output_type": "execute_result"
    }
   ],
   "source": [
    "t.index(45.8)"
   ]
  },
  {
   "cell_type": "code",
   "execution_count": 31,
   "id": "54e733fb",
   "metadata": {},
   "outputs": [
    {
     "ename": "ValueError",
     "evalue": "tuple.index(x): x not in tuple",
     "output_type": "error",
     "traceback": [
      "\u001b[1;31m---------------------------------------------------------------------------\u001b[0m",
      "\u001b[1;31mValueError\u001b[0m                                Traceback (most recent call last)",
      "Input \u001b[1;32mIn [31]\u001b[0m, in \u001b[0;36m<cell line: 1>\u001b[1;34m()\u001b[0m\n\u001b[1;32m----> 1\u001b[0m \u001b[43mt\u001b[49m\u001b[38;5;241;43m.\u001b[39;49m\u001b[43mindex\u001b[49m\u001b[43m(\u001b[49m\u001b[38;5;241;43m5\u001b[39;49m\u001b[43m)\u001b[49m\n",
      "\u001b[1;31mValueError\u001b[0m: tuple.index(x): x not in tuple"
     ]
    }
   ],
   "source": [
    "t.index(5)"
   ]
  },
  {
   "cell_type": "code",
   "execution_count": 32,
   "id": "6fad0eb9",
   "metadata": {},
   "outputs": [
    {
     "ename": "ValueError",
     "evalue": "tuple.index(x): x not in tuple",
     "output_type": "error",
     "traceback": [
      "\u001b[1;31m---------------------------------------------------------------------------\u001b[0m",
      "\u001b[1;31mValueError\u001b[0m                                Traceback (most recent call last)",
      "Input \u001b[1;32mIn [32]\u001b[0m, in \u001b[0;36m<cell line: 1>\u001b[1;34m()\u001b[0m\n\u001b[1;32m----> 1\u001b[0m \u001b[43mt\u001b[49m\u001b[38;5;241;43m.\u001b[39;49m\u001b[43mindex\u001b[49m\u001b[43m(\u001b[49m\u001b[38;5;241;43m4\u001b[39;49m\u001b[43m)\u001b[49m\n",
      "\u001b[1;31mValueError\u001b[0m: tuple.index(x): x not in tuple"
     ]
    }
   ],
   "source": [
    "t.index(4)"
   ]
  },
  {
   "cell_type": "code",
   "execution_count": 33,
   "id": "34d45391",
   "metadata": {},
   "outputs": [
    {
     "data": {
      "text/plain": [
       "1"
      ]
     },
     "execution_count": 33,
     "metadata": {},
     "output_type": "execute_result"
    }
   ],
   "source": [
    "t[0]"
   ]
  },
  {
   "cell_type": "code",
   "execution_count": 34,
   "id": "3ff87d96",
   "metadata": {},
   "outputs": [
    {
     "ename": "SyntaxError",
     "evalue": "invalid syntax (1935599512.py, line 1)",
     "output_type": "error",
     "traceback": [
      "\u001b[1;36m  Input \u001b[1;32mIn [34]\u001b[1;36m\u001b[0m\n\u001b[1;33m    ok sir\u001b[0m\n\u001b[1;37m       ^\u001b[0m\n\u001b[1;31mSyntaxError\u001b[0m\u001b[1;31m:\u001b[0m invalid syntax\n"
     ]
    }
   ],
   "source": [
    "ok sir \n",
    "but what about t.index(true) actually True is in 5th index"
   ]
  },
  {
   "cell_type": "code",
   "execution_count": 35,
   "id": "364f6151",
   "metadata": {},
   "outputs": [
    {
     "data": {
      "text/plain": [
       "True"
      ]
     },
     "execution_count": 35,
     "metadata": {},
     "output_type": "execute_result"
    }
   ],
   "source": [
    "t[5]"
   ]
  },
  {
   "cell_type": "code",
   "execution_count": 37,
   "id": "cfcc14a4",
   "metadata": {},
   "outputs": [
    {
     "data": {
      "text/plain": [
       "0"
      ]
     },
     "execution_count": 37,
     "metadata": {},
     "output_type": "execute_result"
    }
   ],
   "source": [
    "t.index(True)"
   ]
  },
  {
   "cell_type": "code",
   "execution_count": 38,
   "id": "fae43837",
   "metadata": {},
   "outputs": [
    {
     "data": {
      "text/plain": [
       "1"
      ]
     },
     "execution_count": 38,
     "metadata": {},
     "output_type": "execute_result"
    }
   ],
   "source": [
    "t.index(234)"
   ]
  },
  {
   "cell_type": "code",
   "execution_count": 39,
   "id": "62e994d6",
   "metadata": {},
   "outputs": [
    {
     "data": {
      "text/plain": [
       "(1, 234, 456, 'krishna', 45.8, True)"
      ]
     },
     "execution_count": 39,
     "metadata": {},
     "output_type": "execute_result"
    }
   ],
   "source": [
    "t"
   ]
  },
  {
   "cell_type": "code",
   "execution_count": 45,
   "id": "5f9fa37c",
   "metadata": {},
   "outputs": [],
   "source": [
    "t = (\"krishna\",123, 98.8,False,True)"
   ]
  },
  {
   "cell_type": "code",
   "execution_count": 46,
   "id": "cbca1a81",
   "metadata": {},
   "outputs": [
    {
     "data": {
      "text/plain": [
       "3"
      ]
     },
     "execution_count": 46,
     "metadata": {},
     "output_type": "execute_result"
    }
   ],
   "source": [
    "t.index(False)"
   ]
  },
  {
   "cell_type": "code",
   "execution_count": 47,
   "id": "068b66d7",
   "metadata": {},
   "outputs": [
    {
     "data": {
      "text/plain": [
       "4"
      ]
     },
     "execution_count": 47,
     "metadata": {},
     "output_type": "execute_result"
    }
   ],
   "source": [
    "t.index(True) "
   ]
  },
  {
   "cell_type": "code",
   "execution_count": 50,
   "id": "40662e28",
   "metadata": {},
   "outputs": [
    {
     "ename": "SyntaxError",
     "evalue": "invalid syntax (1384033208.py, line 1)",
     "output_type": "error",
     "traceback": [
      "\u001b[1;36m  Input \u001b[1;32mIn [50]\u001b[1;36m\u001b[0m\n\u001b[1;33m    ok fault is with me . i will show you.\u001b[0m\n\u001b[1;37m       ^\u001b[0m\n\u001b[1;31mSyntaxError\u001b[0m\u001b[1;31m:\u001b[0m invalid syntax\n"
     ]
    }
   ],
   "source": [
    "ok fault is with me . i will show you."
   ]
  },
  {
   "cell_type": "code",
   "execution_count": 52,
   "id": "2fdf29e4",
   "metadata": {},
   "outputs": [],
   "source": [
    "t=(88,99,77,\"kk\",True,False)"
   ]
  },
  {
   "cell_type": "code",
   "execution_count": 53,
   "id": "54b50e44",
   "metadata": {},
   "outputs": [
    {
     "data": {
      "text/plain": [
       "4"
      ]
     },
     "execution_count": 53,
     "metadata": {},
     "output_type": "execute_result"
    }
   ],
   "source": [
    "t.index(True)"
   ]
  },
  {
   "cell_type": "code",
   "execution_count": 54,
   "id": "a0bb5eaa",
   "metadata": {},
   "outputs": [
    {
     "data": {
      "text/plain": [
       "5"
      ]
     },
     "execution_count": 54,
     "metadata": {},
     "output_type": "execute_result"
    }
   ],
   "source": [
    "t.index(False)"
   ]
  },
  {
   "cell_type": "code",
   "execution_count": 55,
   "id": "b4d8846d",
   "metadata": {},
   "outputs": [
    {
     "data": {
      "text/plain": [
       "3"
      ]
     },
     "execution_count": 55,
     "metadata": {},
     "output_type": "execute_result"
    }
   ],
   "source": [
    "t.index(\"kk\")"
   ]
  },
  {
   "cell_type": "code",
   "execution_count": 56,
   "id": "e9899602",
   "metadata": {},
   "outputs": [
    {
     "ename": "SyntaxError",
     "evalue": "invalid syntax (319501485.py, line 1)",
     "output_type": "error",
     "traceback": [
      "\u001b[1;36m  Input \u001b[1;32mIn [56]\u001b[1;36m\u001b[0m\n\u001b[1;33m    ok sir thank you\u001b[0m\n\u001b[1;37m       ^\u001b[0m\n\u001b[1;31mSyntaxError\u001b[0m\u001b[1;31m:\u001b[0m invalid syntax\n"
     ]
    }
   ],
   "source": [
    "ok sir thank you"
   ]
  },
  {
   "cell_type": "code",
   "execution_count": 57,
   "id": "3151d260",
   "metadata": {},
   "outputs": [
    {
     "data": {
      "text/plain": [
       "(88, 99, 77, 'kk', True, False)"
      ]
     },
     "execution_count": 57,
     "metadata": {},
     "output_type": "execute_result"
    }
   ],
   "source": [
    "t"
   ]
  },
  {
   "cell_type": "code",
   "execution_count": 62,
   "id": "46ce652b",
   "metadata": {},
   "outputs": [],
   "source": [
    "t1= list(t)"
   ]
  },
  {
   "cell_type": "code",
   "execution_count": 63,
   "id": "1d8ebab2",
   "metadata": {},
   "outputs": [
    {
     "data": {
      "text/plain": [
       "[88, 99, 77, 'kk', True, False]"
      ]
     },
     "execution_count": 63,
     "metadata": {},
     "output_type": "execute_result"
    }
   ],
   "source": [
    "t1"
   ]
  },
  {
   "cell_type": "code",
   "execution_count": 64,
   "id": "15f28c89",
   "metadata": {},
   "outputs": [],
   "source": [
    "t2= tuple(t1)"
   ]
  },
  {
   "cell_type": "code",
   "execution_count": 65,
   "id": "6971fb65",
   "metadata": {},
   "outputs": [
    {
     "data": {
      "text/plain": [
       "(88, 99, 77, 'kk', True, False)"
      ]
     },
     "execution_count": 65,
     "metadata": {},
     "output_type": "execute_result"
    }
   ],
   "source": [
    "t2"
   ]
  },
  {
   "cell_type": "code",
   "execution_count": 66,
   "id": "4e19a46f",
   "metadata": {},
   "outputs": [
    {
     "data": {
      "text/plain": [
       "[88, 99, 77, 'kk', True, False]"
      ]
     },
     "execution_count": 66,
     "metadata": {},
     "output_type": "execute_result"
    }
   ],
   "source": [
    "list(t2)"
   ]
  },
  {
   "cell_type": "code",
   "execution_count": 67,
   "id": "68b38c92",
   "metadata": {},
   "outputs": [
    {
     "data": {
      "text/plain": [
       "(88, 99, 77, 'kk', True, False)"
      ]
     },
     "execution_count": 67,
     "metadata": {},
     "output_type": "execute_result"
    }
   ],
   "source": [
    "tuple(t1)"
   ]
  },
  {
   "cell_type": "code",
   "execution_count": 68,
   "id": "2284689b",
   "metadata": {},
   "outputs": [],
   "source": [
    "d={}"
   ]
  },
  {
   "cell_type": "code",
   "execution_count": 69,
   "id": "26286d37",
   "metadata": {},
   "outputs": [
    {
     "data": {
      "text/plain": [
       "dict"
      ]
     },
     "execution_count": 69,
     "metadata": {},
     "output_type": "execute_result"
    }
   ],
   "source": [
    "type(d)"
   ]
  },
  {
   "cell_type": "code",
   "execution_count": 70,
   "id": "02531ced",
   "metadata": {},
   "outputs": [],
   "source": [
    "d={123}"
   ]
  },
  {
   "cell_type": "code",
   "execution_count": 73,
   "id": "1c8736b0",
   "metadata": {},
   "outputs": [
    {
     "data": {
      "text/plain": [
       "set"
      ]
     },
     "execution_count": 73,
     "metadata": {},
     "output_type": "execute_result"
    }
   ],
   "source": [
    "type(d)"
   ]
  },
  {
   "cell_type": "code",
   "execution_count": 86,
   "id": "8c083d80",
   "metadata": {},
   "outputs": [],
   "source": [
    "d1={\"key\":\"value\",\"name\":\"Krishna Biradar\",\"age\":22,\"DOB\":2000}"
   ]
  },
  {
   "cell_type": "code",
   "execution_count": 87,
   "id": "49e9dd20",
   "metadata": {},
   "outputs": [
    {
     "data": {
      "text/plain": [
       "{'key': 'value', 'name': 'Krishna Biradar', 'age': 22, 'DOB': 2000}"
      ]
     },
     "execution_count": 87,
     "metadata": {},
     "output_type": "execute_result"
    }
   ],
   "source": [
    "d1"
   ]
  },
  {
   "cell_type": "code",
   "execution_count": 92,
   "id": "f8863e0b",
   "metadata": {},
   "outputs": [
    {
     "data": {
      "text/plain": [
       "'Krishna Biradar'"
      ]
     },
     "execution_count": 92,
     "metadata": {},
     "output_type": "execute_result"
    }
   ],
   "source": [
    "d1[\"name\"]"
   ]
  },
  {
   "cell_type": "code",
   "execution_count": 3,
   "id": "6850af5a",
   "metadata": {},
   "outputs": [],
   "source": [
    "d2={\"name\":\"krishna\", \"contact-no\":8861937985, \"name\":\"sundar\"}"
   ]
  },
  {
   "cell_type": "code",
   "execution_count": 4,
   "id": "3d2ddb08",
   "metadata": {},
   "outputs": [
    {
     "data": {
      "text/plain": [
       "{'name': 'sundar', 'contact-no': 8861937985}"
      ]
     },
     "execution_count": 4,
     "metadata": {},
     "output_type": "execute_result"
    }
   ],
   "source": [
    "d2"
   ]
  },
  {
   "cell_type": "code",
   "execution_count": 5,
   "id": "7b6cb583",
   "metadata": {},
   "outputs": [],
   "source": [
    "d2[\"g2\"]=\"USA\""
   ]
  },
  {
   "cell_type": "code",
   "execution_count": 6,
   "id": "8a22988b",
   "metadata": {},
   "outputs": [
    {
     "data": {
      "text/plain": [
       "{'name': 'sundar', 'contact-no': 8861937985, 'g2': 'USA'}"
      ]
     },
     "execution_count": 6,
     "metadata": {},
     "output_type": "execute_result"
    }
   ],
   "source": [
    "d2"
   ]
  },
  {
   "cell_type": "code",
   "execution_count": 13,
   "id": "c79849e6",
   "metadata": {},
   "outputs": [],
   "source": [
    "d2[\"g3\"]={\"class\":10,\"sub\":\"maths\",\"marks\":100}"
   ]
  },
  {
   "cell_type": "code",
   "execution_count": 14,
   "id": "0d6b7f5a",
   "metadata": {},
   "outputs": [
    {
     "data": {
      "text/plain": [
       "{'name': 'sundar',\n",
       " 'contact-no': 8861937985,\n",
       " 'g2': 'USA',\n",
       " 'g3': {'class': 10, 'sub': 'maths', 'marks': 100}}"
      ]
     },
     "execution_count": 14,
     "metadata": {},
     "output_type": "execute_result"
    }
   ],
   "source": [
    "d2"
   ]
  },
  {
   "cell_type": "code",
   "execution_count": 16,
   "id": "58ebc9db",
   "metadata": {},
   "outputs": [
    {
     "data": {
      "text/plain": [
       "100"
      ]
     },
     "execution_count": 16,
     "metadata": {},
     "output_type": "execute_result"
    }
   ],
   "source": [
    "d2[\"g3\"][\"marks\"]"
   ]
  },
  {
   "cell_type": "code",
   "execution_count": 17,
   "id": "4dfb5c3d",
   "metadata": {},
   "outputs": [],
   "source": [
    "d3={_:\"rs\"}\n"
   ]
  },
  {
   "cell_type": "code",
   "execution_count": 18,
   "id": "580537d5",
   "metadata": {},
   "outputs": [
    {
     "data": {
      "text/plain": [
       "{100: 'rs'}"
      ]
     },
     "execution_count": 18,
     "metadata": {},
     "output_type": "execute_result"
    }
   ],
   "source": [
    "d3"
   ]
  },
  {
   "cell_type": "code",
   "execution_count": 19,
   "id": "3114887a",
   "metadata": {},
   "outputs": [],
   "source": [
    "d4={(1234):\"krishna\"}"
   ]
  },
  {
   "cell_type": "code",
   "execution_count": 20,
   "id": "ee93d551",
   "metadata": {},
   "outputs": [
    {
     "data": {
      "text/plain": [
       "{1234: 'krishna'}"
      ]
     },
     "execution_count": 20,
     "metadata": {},
     "output_type": "execute_result"
    }
   ],
   "source": [
    "d4"
   ]
  },
  {
   "cell_type": "markdown",
   "id": "126b3387",
   "metadata": {},
   "source": [
    "keys must be immutable\n",
    "concatenate operations are not allowed in dict"
   ]
  },
  {
   "cell_type": "code",
   "execution_count": 23,
   "id": "8b9b2a31",
   "metadata": {},
   "outputs": [
    {
     "ename": "TypeError",
     "evalue": "unhashable type: 'list'",
     "output_type": "error",
     "traceback": [
      "\u001b[1;31m---------------------------------------------------------------------------\u001b[0m",
      "\u001b[1;31mTypeError\u001b[0m                                 Traceback (most recent call last)",
      "Input \u001b[1;32mIn [23]\u001b[0m, in \u001b[0;36m<cell line: 1>\u001b[1;34m()\u001b[0m\n\u001b[1;32m----> 1\u001b[0m d5 \u001b[38;5;241m=\u001b[39m{[\u001b[38;5;124m\"\u001b[39m\u001b[38;5;124mpassword\u001b[39m\u001b[38;5;124m\"\u001b[39m]:\u001b[38;5;241m1234567\u001b[39m}\n",
      "\u001b[1;31mTypeError\u001b[0m: unhashable type: 'list'"
     ]
    }
   ],
   "source": [
    "d5 ={[\"password\"]:1234567}"
   ]
  },
  {
   "cell_type": "code",
   "execution_count": 24,
   "id": "a115592d",
   "metadata": {},
   "outputs": [
    {
     "ename": "TypeError",
     "evalue": "unhashable type: 'dict'",
     "output_type": "error",
     "traceback": [
      "\u001b[1;31m---------------------------------------------------------------------------\u001b[0m",
      "\u001b[1;31mTypeError\u001b[0m                                 Traceback (most recent call last)",
      "Input \u001b[1;32mIn [24]\u001b[0m, in \u001b[0;36m<cell line: 1>\u001b[1;34m()\u001b[0m\n\u001b[1;32m----> 1\u001b[0m d6\u001b[38;5;241m=\u001b[39m{{\u001b[38;5;124m\"\u001b[39m\u001b[38;5;124mpassword\u001b[39m\u001b[38;5;124m\"\u001b[39m:\u001b[38;5;241m1234\u001b[39m}:\u001b[38;5;124m\"\u001b[39m\u001b[38;5;124msecured\u001b[39m\u001b[38;5;124m\"\u001b[39m}\n",
      "\u001b[1;31mTypeError\u001b[0m: unhashable type: 'dict'"
     ]
    }
   ],
   "source": [
    "d6={{\"password\":1234}:\"secured\"}"
   ]
  },
  {
   "cell_type": "code",
   "execution_count": 26,
   "id": "fb9454eb",
   "metadata": {},
   "outputs": [
    {
     "data": {
      "text/plain": [
       "{'name': 'sundar',\n",
       " 'contact-no': 8861937985,\n",
       " 'g2': 'USA',\n",
       " 'g3': {'class': 10, 'sub': 'maths', 'marks': 100}}"
      ]
     },
     "execution_count": 26,
     "metadata": {},
     "output_type": "execute_result"
    }
   ],
   "source": [
    "d2"
   ]
  },
  {
   "cell_type": "code",
   "execution_count": 27,
   "id": "db61eff3",
   "metadata": {},
   "outputs": [
    {
     "data": {
      "text/plain": [
       "dict_keys(['name', 'contact-no', 'g2', 'g3'])"
      ]
     },
     "execution_count": 27,
     "metadata": {},
     "output_type": "execute_result"
    }
   ],
   "source": [
    "d2.keys()"
   ]
  },
  {
   "cell_type": "code",
   "execution_count": 28,
   "id": "0c524f67",
   "metadata": {},
   "outputs": [
    {
     "data": {
      "text/plain": [
       "dict_values(['sundar', 8861937985, 'USA', {'class': 10, 'sub': 'maths', 'marks': 100}])"
      ]
     },
     "execution_count": 28,
     "metadata": {},
     "output_type": "execute_result"
    }
   ],
   "source": [
    "d2.values()"
   ]
  },
  {
   "cell_type": "code",
   "execution_count": 29,
   "id": "8c07e407",
   "metadata": {},
   "outputs": [
    {
     "data": {
      "text/plain": [
       "dict_items([('name', 'sundar'), ('contact-no', 8861937985), ('g2', 'USA'), ('g3', {'class': 10, 'sub': 'maths', 'marks': 100})])"
      ]
     },
     "execution_count": 29,
     "metadata": {},
     "output_type": "execute_result"
    }
   ],
   "source": [
    "d2.items()\n"
   ]
  },
  {
   "cell_type": "code",
   "execution_count": 30,
   "id": "1de0b31f",
   "metadata": {},
   "outputs": [],
   "source": [
    "s={1,2,3,4,5,6}"
   ]
  },
  {
   "cell_type": "code",
   "execution_count": 31,
   "id": "cc9cac4d",
   "metadata": {},
   "outputs": [
    {
     "data": {
      "text/plain": [
       "set"
      ]
     },
     "execution_count": 31,
     "metadata": {},
     "output_type": "execute_result"
    }
   ],
   "source": [
    "type(s)"
   ]
  },
  {
   "cell_type": "code",
   "execution_count": 32,
   "id": "60903ddc",
   "metadata": {},
   "outputs": [],
   "source": [
    "s1={1,1,2,2,3,3,4,4,0,0}"
   ]
  },
  {
   "cell_type": "code",
   "execution_count": 33,
   "id": "caeffc15",
   "metadata": {},
   "outputs": [
    {
     "data": {
      "text/plain": [
       "{0, 1, 2, 3, 4}"
      ]
     },
     "execution_count": 33,
     "metadata": {},
     "output_type": "execute_result"
    }
   ],
   "source": [
    "s1"
   ]
  },
  {
   "cell_type": "code",
   "execution_count": 34,
   "id": "65fb1c7d",
   "metadata": {},
   "outputs": [],
   "source": [
    "s2={9834,3532.2842,5687,3517,5242,2765}"
   ]
  },
  {
   "cell_type": "code",
   "execution_count": 35,
   "id": "4c2d1ad7",
   "metadata": {},
   "outputs": [
    {
     "data": {
      "text/plain": [
       "{2765, 3517, 3532.2842, 5242, 5687, 9834}"
      ]
     },
     "execution_count": 35,
     "metadata": {},
     "output_type": "execute_result"
    }
   ],
   "source": [
    "s2\n"
   ]
  },
  {
   "cell_type": "code",
   "execution_count": 36,
   "id": "61093a20",
   "metadata": {},
   "outputs": [],
   "source": [
    "s3={\"k\",'b','n'}"
   ]
  },
  {
   "cell_type": "code",
   "execution_count": 37,
   "id": "7ecd141b",
   "metadata": {},
   "outputs": [
    {
     "data": {
      "text/plain": [
       "{'b', 'k', 'n'}"
      ]
     },
     "execution_count": 37,
     "metadata": {},
     "output_type": "execute_result"
    }
   ],
   "source": [
    "s3"
   ]
  },
  {
   "cell_type": "code",
   "execution_count": 38,
   "id": "f2317a0e",
   "metadata": {},
   "outputs": [
    {
     "data": {
      "text/plain": [
       "[5242, 5687, 9834, 3532.2842, 2765, 3517]"
      ]
     },
     "execution_count": 38,
     "metadata": {},
     "output_type": "execute_result"
    }
   ],
   "source": [
    "list(s2)"
   ]
  },
  {
   "cell_type": "code",
   "execution_count": 39,
   "id": "c319c400",
   "metadata": {},
   "outputs": [
    {
     "data": {
      "text/plain": [
       "(5242, 5687, 9834, 3532.2842, 2765, 3517)"
      ]
     },
     "execution_count": 39,
     "metadata": {},
     "output_type": "execute_result"
    }
   ],
   "source": [
    "tuple(s2)"
   ]
  },
  {
   "cell_type": "code",
   "execution_count": 40,
   "id": "89ff0ba3",
   "metadata": {},
   "outputs": [],
   "source": [
    "s2.add(234)"
   ]
  },
  {
   "cell_type": "code",
   "execution_count": 41,
   "id": "732312b7",
   "metadata": {},
   "outputs": [
    {
     "data": {
      "text/plain": [
       "{234, 2765, 3517, 3532.2842, 5242, 5687, 9834}"
      ]
     },
     "execution_count": 41,
     "metadata": {},
     "output_type": "execute_result"
    }
   ],
   "source": [
    "s2"
   ]
  },
  {
   "cell_type": "code",
   "execution_count": 42,
   "id": "5d704910",
   "metadata": {},
   "outputs": [],
   "source": [
    "s4={(1,2,3,4,5),4,5,6,7}"
   ]
  },
  {
   "cell_type": "code",
   "execution_count": 43,
   "id": "5454b13a",
   "metadata": {},
   "outputs": [
    {
     "data": {
      "text/plain": [
       "{(1, 2, 3, 4, 5), 4, 5, 6, 7}"
      ]
     },
     "execution_count": 43,
     "metadata": {},
     "output_type": "execute_result"
    }
   ],
   "source": [
    "s4"
   ]
  },
  {
   "cell_type": "code",
   "execution_count": 44,
   "id": "0a6713fc",
   "metadata": {},
   "outputs": [],
   "source": [
    "s4.discard(4)"
   ]
  },
  {
   "cell_type": "code",
   "execution_count": 45,
   "id": "058cd9fc",
   "metadata": {},
   "outputs": [
    {
     "data": {
      "text/plain": [
       "{(1, 2, 3, 4, 5), 5, 6, 7}"
      ]
     },
     "execution_count": 45,
     "metadata": {},
     "output_type": "execute_result"
    }
   ],
   "source": [
    "s4"
   ]
  },
  {
   "cell_type": "code",
   "execution_count": 46,
   "id": "79841136",
   "metadata": {},
   "outputs": [],
   "source": [
    "s4.remove(5)"
   ]
  },
  {
   "cell_type": "code",
   "execution_count": 1,
   "id": "eeb0a3ad",
   "metadata": {},
   "outputs": [],
   "source": [
    "m = [1,2,3,4,\"ramu\",45.8,False]"
   ]
  },
  {
   "cell_type": "code",
   "execution_count": 2,
   "id": "d9e98f00",
   "metadata": {},
   "outputs": [
    {
     "ename": "SyntaxError",
     "evalue": "invalid syntax (1964978068.py, line 1)",
     "output_type": "error",
     "traceback": [
      "\u001b[1;36m  Input \u001b[1;32mIn [2]\u001b[1;36m\u001b[0m\n\u001b[1;33m    [::-1]\u001b[0m\n\u001b[1;37m     ^\u001b[0m\n\u001b[1;31mSyntaxError\u001b[0m\u001b[1;31m:\u001b[0m invalid syntax\n"
     ]
    }
   ],
   "source": [
    "[::-1]"
   ]
  },
  {
   "cell_type": "code",
   "execution_count": 3,
   "id": "6cad15cc",
   "metadata": {},
   "outputs": [
    {
     "data": {
      "text/plain": [
       "[1, 2, 3, 4, 'ramu', 45.8, False]"
      ]
     },
     "execution_count": 3,
     "metadata": {},
     "output_type": "execute_result"
    }
   ],
   "source": [
    "m"
   ]
  },
  {
   "cell_type": "code",
   "execution_count": 8,
   "id": "adeca46f",
   "metadata": {},
   "outputs": [],
   "source": [
    "m.reverse()"
   ]
  },
  {
   "cell_type": "code",
   "execution_count": 9,
   "id": "c4161c75",
   "metadata": {},
   "outputs": [
    {
     "data": {
      "text/plain": [
       "[False, 45.8, 'ramu', 4, 3, 2, 1]"
      ]
     },
     "execution_count": 9,
     "metadata": {},
     "output_type": "execute_result"
    }
   ],
   "source": [
    "m"
   ]
  },
  {
   "cell_type": "code",
   "execution_count": 10,
   "id": "a8d2786b",
   "metadata": {},
   "outputs": [
    {
     "data": {
      "text/plain": [
       "3"
      ]
     },
     "execution_count": 10,
     "metadata": {},
     "output_type": "execute_result"
    }
   ],
   "source": [
    "m[4]"
   ]
  },
  {
   "cell_type": "code",
   "execution_count": 11,
   "id": "cd9be394",
   "metadata": {},
   "outputs": [],
   "source": [
    "m.append(\"ramu\")"
   ]
  },
  {
   "cell_type": "code",
   "execution_count": 12,
   "id": "c9d1cc48",
   "metadata": {},
   "outputs": [
    {
     "data": {
      "text/plain": [
       "[False, 45.8, 'ramu', 4, 3, 2, 1, 'ramu']"
      ]
     },
     "execution_count": 12,
     "metadata": {},
     "output_type": "execute_result"
    }
   ],
   "source": [
    "m"
   ]
  },
  {
   "cell_type": "code",
   "execution_count": null,
   "id": "25855db5",
   "metadata": {},
   "outputs": [],
   "source": [
    "m."
   ]
  }
 ],
 "metadata": {
  "kernelspec": {
   "display_name": "Python 3 (ipykernel)",
   "language": "python",
   "name": "python3"
  },
  "language_info": {
   "codemirror_mode": {
    "name": "ipython",
    "version": 3
   },
   "file_extension": ".py",
   "mimetype": "text/x-python",
   "name": "python",
   "nbconvert_exporter": "python",
   "pygments_lexer": "ipython3",
   "version": "3.9.12"
  }
 },
 "nbformat": 4,
 "nbformat_minor": 5
}
