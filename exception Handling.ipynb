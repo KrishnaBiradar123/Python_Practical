{
 "cells": [
  {
   "cell_type": "code",
   "execution_count": 1,
   "id": "d41dee8c",
   "metadata": {},
   "outputs": [
    {
     "name": "stdout",
     "output_type": "stream",
     "text": [
      "enter initial number-10\n",
      "enter final number0\n"
     ]
    },
    {
     "ename": "ZeroDivisionError",
     "evalue": "division by zero",
     "output_type": "error",
     "traceback": [
      "\u001b[1;31m---------------------------------------------------------------------------\u001b[0m",
      "\u001b[1;31mZeroDivisionError\u001b[0m                         Traceback (most recent call last)",
      "Input \u001b[1;32mIn [1]\u001b[0m, in \u001b[0;36m<cell line: 3>\u001b[1;34m()\u001b[0m\n\u001b[0;32m      1\u001b[0m a\u001b[38;5;241m=\u001b[39m\u001b[38;5;28mint\u001b[39m(\u001b[38;5;28minput\u001b[39m(\u001b[38;5;124m\"\u001b[39m\u001b[38;5;124menter initial number-\u001b[39m\u001b[38;5;124m\"\u001b[39m))\n\u001b[0;32m      2\u001b[0m b\u001b[38;5;241m=\u001b[39m\u001b[38;5;28mint\u001b[39m(\u001b[38;5;28minput\u001b[39m(\u001b[38;5;124m\"\u001b[39m\u001b[38;5;124menter final number\u001b[39m\u001b[38;5;124m\"\u001b[39m))\n\u001b[1;32m----> 3\u001b[0m c\u001b[38;5;241m=\u001b[39m\u001b[43ma\u001b[49m\u001b[38;5;241;43m/\u001b[39;49m\u001b[43mb\u001b[49m\n\u001b[0;32m      4\u001b[0m \u001b[38;5;28mprint\u001b[39m(c)\n",
      "\u001b[1;31mZeroDivisionError\u001b[0m: division by zero"
     ]
    },
    {
     "ename": "ZeroDivisionError",
     "evalue": "division by zero",
     "output_type": "error",
     "traceback": [
      "\u001b[1;31m---------------------------------------------------------------------------\u001b[0m",
      "\u001b[1;31mZeroDivisionError\u001b[0m                         Traceback (most recent call last)",
      "Input \u001b[1;32mIn [1]\u001b[0m, in \u001b[0;36m<cell line: 3>\u001b[1;34m()\u001b[0m\n\u001b[0;32m      1\u001b[0m a\u001b[38;5;241m=\u001b[39m\u001b[38;5;28mint\u001b[39m(\u001b[38;5;28minput\u001b[39m(\u001b[38;5;124m\"\u001b[39m\u001b[38;5;124menter initial number-\u001b[39m\u001b[38;5;124m\"\u001b[39m))\n\u001b[0;32m      2\u001b[0m b\u001b[38;5;241m=\u001b[39m\u001b[38;5;28mint\u001b[39m(\u001b[38;5;28minput\u001b[39m(\u001b[38;5;124m\"\u001b[39m\u001b[38;5;124menter final number\u001b[39m\u001b[38;5;124m\"\u001b[39m))\n\u001b[1;32m----> 3\u001b[0m c\u001b[38;5;241m=\u001b[39m\u001b[43ma\u001b[49m\u001b[38;5;241;43m/\u001b[39;49m\u001b[43mb\u001b[49m\n\u001b[0;32m      4\u001b[0m \u001b[38;5;28mprint\u001b[39m(c)\n",
      "\u001b[1;31mZeroDivisionError\u001b[0m: division by zero"
     ]
    }
   ],
   "source": [
    "a=int(input(\"enter initial number-\"))\n",
    "b=int(input(\"enter final number\"))\n",
    "c=a/b\n",
    "print(c)"
   ]
  },
  {
   "cell_type": "code",
   "execution_count": 3,
   "id": "67647f71",
   "metadata": {},
   "outputs": [
    {
     "name": "stdout",
     "output_type": "stream",
     "text": [
      "enter initial number-10\n",
      "enter final number0\n",
      "division by zero\n",
      "division by zero\n"
     ]
    }
   ],
   "source": [
    "try:\n",
    "    a=int(input(\"enter initial number-\"))\n",
    "    b=int(input(\"enter final number\"))\n",
    "    c=a/b\n",
    "    print(c)\n",
    "except Exception as e:\n",
    "    print(e)"
   ]
  },
  {
   "cell_type": "code",
   "execution_count": 5,
   "id": "6295b6ab",
   "metadata": {},
   "outputs": [
    {
     "name": "stdout",
     "output_type": "stream",
     "text": [
      "this is my code to handle an exception\n",
      "this is my code to handle an exception\n"
     ]
    }
   ],
   "source": [
    "a=open(\"kishna.tsc\",\"r\")\n",
    "print(\"this is my code to handle an exception\")"
   ]
  },
  {
   "cell_type": "code",
   "execution_count": 6,
   "id": "ded9abaf",
   "metadata": {},
   "outputs": [
    {
     "data": {
      "text/plain": [
       "''"
      ]
     },
     "execution_count": 6,
     "metadata": {},
     "output_type": "execute_result"
    },
    {
     "data": {
      "text/plain": [
       "''"
      ]
     },
     "execution_count": 6,
     "metadata": {},
     "output_type": "execute_result"
    }
   ],
   "source": [
    "a.read()"
   ]
  },
  {
   "cell_type": "code",
   "execution_count": 7,
   "id": "d67c052f",
   "metadata": {},
   "outputs": [
    {
     "name": "stdout",
     "output_type": "stream",
     "text": [
      "[Errno 2] No such file or directory: 'kishn.tsc'\n",
      "[Errno 2] No such file or directory: 'kishn.tsc'\n"
     ]
    }
   ],
   "source": [
    "try:\n",
    "    a=open(\"kishn.tsc\",\"r\")\n",
    "except Exception as e:\n",
    "    print(e)"
   ]
  },
  {
   "cell_type": "code",
   "execution_count": 8,
   "id": "ccc55023",
   "metadata": {},
   "outputs": [
    {
     "name": "stdout",
     "output_type": "stream",
     "text": [
      "[Errno 2] No such file or directory: 'ytdjgad.py'\n",
      "this code is not suitable for execution.\n",
      "[Errno 2] No such file or directory: 'ytdjgad.py'\n",
      "this code is not suitable for execution.\n"
     ]
    }
   ],
   "source": [
    "try:\n",
    "    f=open(\"ytdjgad.py\",\"r\")\n",
    "    f.write(\"my name is krishna biradar\")\n",
    "except Exception as e:\n",
    "    print(e)\n",
    "    print(\"this code is not suitable for execution.\")"
   ]
  },
  {
   "cell_type": "code",
   "execution_count": 9,
   "id": "8a74f621",
   "metadata": {},
   "outputs": [
    {
     "name": "stdout",
     "output_type": "stream",
     "text": [
      "[Errno 2] No such file or directory: 'ytdjgad.py'\n",
      "this code is not suitable for exicution.\n",
      "this block will be executed at anytime\n",
      "[Errno 2] No such file or directory: 'ytdjgad.py'\n",
      "this code is not suitable for exicution.\n",
      "this block will be executed at anytime\n"
     ]
    }
   ],
   "source": [
    "try:\n",
    "    f=open(\"ytdjgad.py\",\"r\")\n",
    "    f.write(\"my name is krishna biradar\")\n",
    "except Exception as e:\n",
    "    print(e)\n",
    "    print(\"this code is not suitable for exicution.\")\n",
    "finally:\n",
    "    print(\"this block will be executed at anytime\")"
   ]
  },
  {
   "cell_type": "code",
   "execution_count": 22,
   "id": "a91fa7a0",
   "metadata": {},
   "outputs": [],
   "source": [
    "def askint():\n",
    "    while True:\n",
    "        try:\n",
    "            val=int(input(\"enter an intege-\"))\n",
    "            break\n",
    "        except:\n",
    "            print(\"entered value should be an integer\")\n",
    "        finally:\n",
    "            print(\"'operation is completed' if entered value is an integer.\")"
   ]
  },
  {
   "cell_type": "code",
   "execution_count": 24,
   "id": "afaadcc4",
   "metadata": {},
   "outputs": [
    {
     "name": "stdout",
     "output_type": "stream",
     "text": [
      "enter an intege-jo\n",
      "entered value should be an integer\n",
      "'operation is completed' if entered value is an integer.\n",
      "entered value should be an integer\n",
      "'operation is completed' if entered value is an integer.\n",
      "enter an intege-10\n",
      "'operation is completed' if entered value is an integer.\n",
      "'operation is completed' if entered value is an integer.\n"
     ]
    }
   ],
   "source": [
    "askint()"
   ]
  },
  {
   "cell_type": "code",
   "execution_count": null,
   "id": "4895111c",
   "metadata": {},
   "outputs": [],
   "source": []
  },
  {
   "cell_type": "code",
   "execution_count": null,
   "id": "9323dac5",
   "metadata": {},
   "outputs": [],
   "source": []
  },
  {
   "cell_type": "code",
   "execution_count": 1,
   "id": "4f51156c",
   "metadata": {},
   "outputs": [
    {
     "name": "stdout",
     "output_type": "stream",
     "text": [
      "enter initial number-10\n",
      "enter final number-0\n",
      "b should be zero\n",
      "b should be zero\n"
     ]
    }
   ],
   "source": [
    "a=int(input(\"enter initial number-\"))\n",
    "b=int(input(\"enter final number-\"))\n",
    "try:\n",
    "    c=a/b\n",
    "    print(c)\n",
    "except:\n",
    "    print(\"b should be zero\")\n"
   ]
  },
  {
   "cell_type": "code",
   "execution_count": 2,
   "id": "9cb8d171",
   "metadata": {},
   "outputs": [
    {
     "ename": "SyntaxError",
     "evalue": "unexpected EOF while parsing (2148078456.py, line 5)",
     "output_type": "error",
     "traceback": [
      "\u001b[1;36m  Input \u001b[1;32mIn [2]\u001b[1;36m\u001b[0m\n\u001b[1;33m    # above cell have the solution for run time error OR exception.\u001b[0m\n\u001b[1;37m                                                                   ^\u001b[0m\n\u001b[1;31mSyntaxError\u001b[0m\u001b[1;31m:\u001b[0m unexpected EOF while parsing\n"
     ]
    },
    {
     "ename": "SyntaxError",
     "evalue": "unexpected EOF while parsing (2148078456.py, line 5)",
     "output_type": "error",
     "traceback": [
      "\u001b[1;36m  Input \u001b[1;32mIn [2]\u001b[1;36m\u001b[0m\n\u001b[1;33m    # above cell have the solution for run time error OR exception.\u001b[0m\n\u001b[1;37m                                                                   ^\u001b[0m\n\u001b[1;31mSyntaxError\u001b[0m\u001b[1;31m:\u001b[0m unexpected EOF while parsing\n"
     ]
    }
   ],
   "source": [
    "a=int(input(\"enter initial number\"))\n",
    "b=int(input(\"enter final number\"))\n",
    "c=a/b\n",
    "print(c             #this is error occured at compling.\n",
    "                    # above cell have the solution for run time error OR exception."
   ]
  },
  {
   "cell_type": "code",
   "execution_count": 9,
   "id": "cd332a58",
   "metadata": {},
   "outputs": [
    {
     "ename": "SyntaxError",
     "evalue": "unmatched ')' (1972835421.py, line 5)",
     "output_type": "error",
     "traceback": [
      "\u001b[1;36m  Input \u001b[1;32mIn [9]\u001b[1;36m\u001b[0m\n\u001b[1;33m    print(c))\u001b[0m\n\u001b[1;37m            ^\u001b[0m\n\u001b[1;31mSyntaxError\u001b[0m\u001b[1;31m:\u001b[0m unmatched ')'\n"
     ]
    },
    {
     "ename": "SyntaxError",
     "evalue": "unmatched ')' (1972835421.py, line 5)",
     "output_type": "error",
     "traceback": [
      "\u001b[1;36m  Input \u001b[1;32mIn [9]\u001b[1;36m\u001b[0m\n\u001b[1;33m    print(c))\u001b[0m\n\u001b[1;37m            ^\u001b[0m\n\u001b[1;31mSyntaxError\u001b[0m\u001b[1;31m:\u001b[0m unmatched ')'\n"
     ]
    }
   ],
   "source": [
    "a=int(input(\"enter initial number-\"))\n",
    "b=int(input(\"enter final number-\"))\n",
    "try:\n",
    "    c=a/b\n",
    "    print(c))\n",
    "except:\n",
    "    print(\"syntax error\")   #here we cannot handle the syntax error by Try & Except reserved keywords.\n"
   ]
  },
  {
   "cell_type": "code",
   "execution_count": 14,
   "id": "48055920",
   "metadata": {},
   "outputs": [
    {
     "ename": "SyntaxError",
     "evalue": "invalid syntax (3415175947.py, line 9)",
     "output_type": "error",
     "traceback": [
      "\u001b[1;36m  Input \u001b[1;32mIn [14]\u001b[1;36m\u001b[0m\n\u001b[1;33m    d=a+b\u001b[0m\n\u001b[1;37m    ^\u001b[0m\n\u001b[1;31mSyntaxError\u001b[0m\u001b[1;31m:\u001b[0m invalid syntax\n"
     ]
    },
    {
     "ename": "SyntaxError",
     "evalue": "invalid syntax (3415175947.py, line 9)",
     "output_type": "error",
     "traceback": [
      "\u001b[1;36m  Input \u001b[1;32mIn [14]\u001b[1;36m\u001b[0m\n\u001b[1;33m    d=a+b\u001b[0m\n\u001b[1;37m    ^\u001b[0m\n\u001b[1;31mSyntaxError\u001b[0m\u001b[1;31m:\u001b[0m invalid syntax\n"
     ]
    }
   ],
   "source": [
    "try:\n",
    "    a=int(input(\"enter initial number-\"))\n",
    "    b=int(input(\"enter final number-\"))\n",
    "    try:\n",
    "        c=a/b\n",
    "        print(c)\n",
    "    except:\n",
    "        print(\"b should be zero\")\n",
    "d=a+b\n",
    "print(d)"
   ]
  },
  {
   "cell_type": "code",
   "execution_count": null,
   "id": "7b5a5353",
   "metadata": {},
   "outputs": [],
   "source": [
    "Write a program to ask the user to input 2 integers and calculate and print their division. Make sure your program behaves as follows:\n",
    "- If the user enters a non integer value then ask him to enter only integers\n",
    "If denominator is 0, then ask him to input non-zero denominator Repeat the process until correct input is given\n",
    "Only if the inputs are correct then display their division and terminate the code"
   ]
  },
  {
   "cell_type": "code",
   "execution_count": 8,
   "id": "bfb17a43",
   "metadata": {},
   "outputs": [
    {
     "name": "stdout",
     "output_type": "stream",
     "text": [
      "enter input a-sdfg\n",
      "#input should be in integer\n",
      "#input should be in integer\n"
     ]
    }
   ],
   "source": [
    "try:\n",
    "    a=int(input(\"enter input a-\"))\n",
    "    b=int(input(\"enter input b--\"))\n",
    "except ValueError:\n",
    "    print(\"#input should be in integer\")\n",
    "else:\n",
    "    try:\n",
    "        c=a/b\n",
    "        print(c)\n",
    "    except ZeroDivisionError:\n",
    "        print(\"input for denominator shoulde be zero\")\n",
    "\n",
    " "
   ]
  },
  {
   "cell_type": "code",
   "execution_count": null,
   "id": "ecbff269",
   "metadata": {},
   "outputs": [],
   "source": [
    "while True: \n",
    "    try:\n",
    "        a=int(input(\"initial number-\"))\n",
    "        b=int(input(\"final number-\"))\n",
    "        c=a/b\n",
    "        print(\"div:\",c)\n",
    "        break\n",
    "    except ZeroDivisionError as e:\n",
    "        print(e)\n",
    "        "
   ]
  },
  {
   "cell_type": "code",
   "execution_count": null,
   "id": "e767755d",
   "metadata": {},
   "outputs": [],
   "source": [
    "import sys\n",
    "while True: \n",
    "    try:\n",
    "        a=int(input(\"initial number-\"))\n",
    "        b=int(input(\"final number-\"))\n",
    "        c=a/b\n",
    "        print(\"div:\",c)\n",
    "        break\n",
    "    except:\n",
    "        a,b,c=sys.exc_info()\n",
    "        print(\"exception class-\",a)\n",
    "        print(\"exception messege-\",b)\n",
    "        print(\"line number-\",c.tb_lineno)        #sys module\n",
    "    \n",
    "        "
   ]
  },
  {
   "cell_type": "code",
   "execution_count": null,
   "id": "2382fa26",
   "metadata": {},
   "outputs": [],
   "source": [
    "import traceback\n",
    "while True: \n",
    "    try:\n",
    "        a=int(input(\"initial number-\"))\n",
    "        b=int(input(\"final number-\"))\n",
    "        c=a/b\n",
    "        print(\"div:\",c)\n",
    "        break\n",
    "    except :\n",
    "        print(traceback.format_exc())            #traceback module\n",
    "        "
   ]
  },
  {
   "cell_type": "code",
   "execution_count": null,
   "id": "eee017c8",
   "metadata": {},
   "outputs": [],
   "source": [
    "#Raise exception #at custom line."
   ]
  },
  {
   "cell_type": "code",
   "execution_count": null,
   "id": "d05a329c",
   "metadata": {},
   "outputs": [],
   "source": [
    "while True:\n",
    "    try:\n",
    "        a=int(input(\"enter initial number-\"))\n",
    "        b=int(input(\"enter final number-\"))\n",
    "        if a<0 or b<0: \n",
    "            raise Exception(\"#input should be in positive integer.\")\n",
    "        c=a/b\n",
    "        print(c)\n",
    "        break\n",
    "    except ValueError:\n",
    "        print(\"#entered input should be in integer.\")\n",
    "    except ZeroDivisionError :\n",
    "        print(\"#entered integer should not be zero.\")\n",
    "    except Exception as k:\n",
    "        print(k)\n",
    "        \n",
    "        \n",
    "        \n",
    "    "
   ]
  },
  {
   "cell_type": "code",
   "execution_count": null,
   "id": "573a7265",
   "metadata": {},
   "outputs": [],
   "source": [
    "def division():\n",
    "    while True:\n",
    "        try:\n",
    "            a=int(input(\"enter initial number-\"))\n",
    "            b=int(input(\"enter final number-\"))\n",
    "            if a<0 or b<0: \n",
    "                raise Exception(\"#input should be in positive integer.\")\n",
    "            c=a/b\n",
    "            print(c)\n",
    "            break\n",
    "        except ValueError:\n",
    "            print(\"#entered input should be in integer.\")\n",
    "        except ZeroDivisionError :\n",
    "            print(\"#entered integer should not be zero.\")\n",
    "        except Exception as k:\n",
    "            print(k)\n",
    "        \n",
    "        "
   ]
  },
  {
   "cell_type": "code",
   "execution_count": null,
   "id": "4d51d267",
   "metadata": {},
   "outputs": [],
   "source": [
    "division() #i am created a function by handling all exception."
   ]
  },
  {
   "cell_type": "code",
   "execution_count": null,
   "id": "51239992",
   "metadata": {},
   "outputs": [],
   "source": [
    "class krishna(Exception):\n",
    "    pass\n",
    "while True:\n",
    "    try:\n",
    "        a=int(input(\"enter initial number-\"))\n",
    "        b=int(input(\"enter final number-\"))\n",
    "        if a<0 or b<0: \n",
    "            raise krishna(\"#input should be in positive integer.\")\n",
    "        c=a/b\n",
    "        print(c)\n",
    "        break\n",
    "    except ValueError:\n",
    "        print(\"#entered input should be in integer.\")\n",
    "    except ZeroDivisionError :\n",
    "        print(\"#entered integer should not be zero.\")\n",
    "    except Exception as k:\n",
    "        print(k)\n",
    "    except krishna as e:\n",
    "        print(e)                              #we can define our own class.just like function.\n",
    "                                              #customing own exception.\n",
    "        \n",
    "        \n",
    "\n",
    "        "
   ]
  },
  {
   "cell_type": "code",
   "execution_count": null,
   "id": "232ba2eb",
   "metadata": {},
   "outputs": [],
   "source": []
  },
  {
   "cell_type": "code",
   "execution_count": null,
   "id": "1f5ad3bd",
   "metadata": {},
   "outputs": [],
   "source": []
  },
  {
   "cell_type": "code",
   "execution_count": null,
   "id": "1301a789",
   "metadata": {},
   "outputs": [],
   "source": [
    "\n"
   ]
  },
  {
   "cell_type": "code",
   "execution_count": null,
   "id": "e10dc84e",
   "metadata": {},
   "outputs": [],
   "source": []
  },
  {
   "cell_type": "code",
   "execution_count": null,
   "id": "5896e1b1",
   "metadata": {},
   "outputs": [],
   "source": []
  }
 ],
 "metadata": {
  "kernelspec": {
   "display_name": "Python 3 (ipykernel)",
   "language": "python",
   "name": "python3"
  },
  "language_info": {
   "codemirror_mode": {
    "name": "ipython",
    "version": 3
   },
   "file_extension": ".py",
   "mimetype": "text/x-python",
   "name": "python",
   "nbconvert_exporter": "python",
   "pygments_lexer": "ipython3",
   "version": "3.9.12"
  }
 },
 "nbformat": 4,
 "nbformat_minor": 5
}
