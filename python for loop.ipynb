{
 "cells": [
  {
   "cell_type": "code",
   "execution_count": 10,
   "id": "0fddd906",
   "metadata": {},
   "outputs": [],
   "source": [
    "l=[1,2,3,4.5,\"krishna\"]"
   ]
  },
  {
   "cell_type": "code",
   "execution_count": 11,
   "id": "713e69b6",
   "metadata": {},
   "outputs": [
    {
     "data": {
      "text/plain": [
       "[1, 2, 3, 4.5, 'krishna']"
      ]
     },
     "execution_count": 11,
     "metadata": {},
     "output_type": "execute_result"
    }
   ],
   "source": [
    "l"
   ]
  },
  {
   "cell_type": "code",
   "execution_count": 12,
   "id": "5c6f3e4f",
   "metadata": {},
   "outputs": [
    {
     "name": "stdout",
     "output_type": "stream",
     "text": [
      "1\n",
      "2\n",
      "3\n",
      "4.5\n",
      "krishna\n"
     ]
    }
   ],
   "source": [
    "for i in l:\n",
    "    print(i)"
   ]
  },
  {
   "cell_type": "code",
   "execution_count": 13,
   "id": "0bf53b84",
   "metadata": {},
   "outputs": [
    {
     "name": "stdout",
     "output_type": "stream",
     "text": [
      "2\n",
      "3\n",
      "4\n",
      "5.5\n",
      "krishnabiradar\n"
     ]
    }
   ],
   "source": [
    "for i in l:\n",
    "    if type(i)==str:\n",
    "        print(i+\"biradar\")\n",
    "    elif type(i)==int or type(i)==float:\n",
    "        print(i+1)"
   ]
  },
  {
   "cell_type": "code",
   "execution_count": 14,
   "id": "e83cb364",
   "metadata": {},
   "outputs": [
    {
     "name": "stdout",
     "output_type": "stream",
     "text": [
      "2\n",
      "3\n",
      "4\n",
      "5.5\n"
     ]
    },
    {
     "ename": "TypeError",
     "evalue": "can only concatenate str (not \"int\") to str",
     "output_type": "error",
     "traceback": [
      "\u001b[1;31m---------------------------------------------------------------------------\u001b[0m",
      "\u001b[1;31mTypeError\u001b[0m                                 Traceback (most recent call last)",
      "Input \u001b[1;32mIn [14]\u001b[0m, in \u001b[0;36m<cell line: 1>\u001b[1;34m()\u001b[0m\n\u001b[0;32m      1\u001b[0m \u001b[38;5;28;01mfor\u001b[39;00m i \u001b[38;5;129;01min\u001b[39;00m l:\n\u001b[0;32m      2\u001b[0m     \u001b[38;5;28;01mif\u001b[39;00m \u001b[38;5;28mtype\u001b[39m(i)\u001b[38;5;241m==\u001b[39m\u001b[38;5;28mint\u001b[39m \u001b[38;5;129;01mor\u001b[39;00m \u001b[38;5;28mtype\u001b[39m(i)\u001b[38;5;241m==\u001b[39m\u001b[38;5;28mfloat\u001b[39m \u001b[38;5;129;01mor\u001b[39;00m \u001b[38;5;28mtype\u001b[39m(i)\u001b[38;5;241m==\u001b[39m\u001b[38;5;28mstr\u001b[39m:\n\u001b[1;32m----> 3\u001b[0m         \u001b[38;5;28mprint\u001b[39m(\u001b[43mi\u001b[49m\u001b[38;5;241;43m+\u001b[39;49m\u001b[38;5;241;43m1\u001b[39;49m)\n",
      "\u001b[1;31mTypeError\u001b[0m: can only concatenate str (not \"int\") to str"
     ]
    }
   ],
   "source": [
    "for i in l:\n",
    "    if type(i)==int or type(i)==float or type(i)==str:\n",
    "        print(i+1)"
   ]
  },
  {
   "cell_type": "code",
   "execution_count": 15,
   "id": "f40a9f80",
   "metadata": {},
   "outputs": [
    {
     "name": "stdout",
     "output_type": "stream",
     "text": [
      "1\n",
      "2\n",
      "3\n"
     ]
    }
   ],
   "source": [
    "for i in l:\n",
    "    if type(i)==int:\n",
    "        if i==4:\n",
    "            break\n",
    "        print(i)"
   ]
  },
  {
   "cell_type": "code",
   "execution_count": 16,
   "id": "1bc8b217",
   "metadata": {},
   "outputs": [
    {
     "name": "stdout",
     "output_type": "stream",
     "text": [
      "\n"
     ]
    },
    {
     "ename": "ValueError",
     "evalue": "invalid literal for int() with base 10: ''",
     "output_type": "error",
     "traceback": [
      "\u001b[1;31m---------------------------------------------------------------------------\u001b[0m",
      "\u001b[1;31mValueError\u001b[0m                                Traceback (most recent call last)",
      "Input \u001b[1;32mIn [16]\u001b[0m, in \u001b[0;36m<cell line: 1>\u001b[1;34m()\u001b[0m\n\u001b[1;32m----> 1\u001b[0m price\u001b[38;5;241m=\u001b[39m \u001b[38;5;28;43mint\u001b[39;49m\u001b[43m(\u001b[49m\u001b[38;5;28;43minput\u001b[39;49m\u001b[43m(\u001b[49m\u001b[43m)\u001b[49m\u001b[43m)\u001b[49m\n\u001b[0;32m      2\u001b[0m \u001b[38;5;28;01mif\u001b[39;00m price \u001b[38;5;129;01min\u001b[39;00m \u001b[38;5;28mrange\u001b[39m(\u001b[38;5;241m1500\u001b[39m,\u001b[38;5;241m1999\u001b[39m):\n\u001b[0;32m      3\u001b[0m     \u001b[38;5;28mprint\u001b[39m(\u001b[38;5;124m\"\u001b[39m\u001b[38;5;124mi will buy a louis philippe shirt\u001b[39m\u001b[38;5;124m\"\u001b[39m)\n",
      "\u001b[1;31mValueError\u001b[0m: invalid literal for int() with base 10: ''"
     ]
    }
   ],
   "source": [
    "price= int(input())\n",
    "if price in range(1500,1999):\n",
    "    print(\"i will buy a louis philippe shirt\")\n",
    "elif price in range(1000,1500):\n",
    "    print(\"i will buy a DNMX shirt\")\n",
    "elif price in range(500,1000):\n",
    "    print(\"i will buy a NETPLAY shirt\")\n",
    "else:\n",
    "    pass"
   ]
  },
  {
   "cell_type": "code",
   "execution_count": 17,
   "id": "41d97edc",
   "metadata": {},
   "outputs": [],
   "source": [
    "l=[1,2,3,4,\"krishna\",8.38]"
   ]
  },
  {
   "cell_type": "code",
   "execution_count": 18,
   "id": "7521e3ff",
   "metadata": {},
   "outputs": [
    {
     "data": {
      "text/plain": [
       "[1, 2, 3, 4, 'krishna', 8.38]"
      ]
     },
     "execution_count": 18,
     "metadata": {},
     "output_type": "execute_result"
    }
   ],
   "source": [
    "l"
   ]
  },
  {
   "cell_type": "code",
   "execution_count": 19,
   "id": "e76ca9e4",
   "metadata": {},
   "outputs": [
    {
     "name": "stdout",
     "output_type": "stream",
     "text": [
      "1\n",
      "2\n",
      "3\n",
      "4\n",
      "krishna\n",
      "8.38\n"
     ]
    }
   ],
   "source": [
    "for i in l:\n",
    "    print(i)"
   ]
  },
  {
   "cell_type": "code",
   "execution_count": 20,
   "id": "135b8e4e",
   "metadata": {},
   "outputs": [],
   "source": [
    "for i in l:\n",
    "        pass"
   ]
  },
  {
   "cell_type": "code",
   "execution_count": 21,
   "id": "69ca0188",
   "metadata": {},
   "outputs": [],
   "source": [
    "s=\"krish,na\""
   ]
  },
  {
   "cell_type": "code",
   "execution_count": 22,
   "id": "349fe8b5",
   "metadata": {},
   "outputs": [
    {
     "name": "stdout",
     "output_type": "stream",
     "text": [
      "k\n",
      "r\n",
      "i\n",
      "s\n",
      "h\n",
      ",\n",
      "n\n",
      "a\n"
     ]
    }
   ],
   "source": [
    "for i in s:\n",
    "    print(i)"
   ]
  },
  {
   "cell_type": "code",
   "execution_count": 23,
   "id": "75917e24",
   "metadata": {},
   "outputs": [
    {
     "name": "stdout",
     "output_type": "stream",
     "text": [
      "1\n",
      "2\n",
      "3\n",
      "4\n",
      "krishna\n",
      "8.38\n",
      "given statement is wrong\n"
     ]
    }
   ],
   "source": [
    "for i in l:\n",
    "    print(i)\n",
    "else:\n",
    "    print(\"given statement is wrong\")"
   ]
  },
  {
   "cell_type": "code",
   "execution_count": 24,
   "id": "a334de8d",
   "metadata": {},
   "outputs": [
    {
     "name": "stdout",
     "output_type": "stream",
     "text": [
      "1\n",
      "2\n",
      "3\n"
     ]
    }
   ],
   "source": [
    "for i in l:\n",
    "    if i==4:\n",
    "        break\n",
    "    print(i)\n",
    "else:\n",
    "    print(\"given statement is wrong\")\n",
    "    \n"
   ]
  },
  {
   "cell_type": "code",
   "execution_count": 25,
   "id": "944fc9e5",
   "metadata": {},
   "outputs": [
    {
     "data": {
      "text/plain": [
       "'krish,na'"
      ]
     },
     "execution_count": 25,
     "metadata": {},
     "output_type": "execute_result"
    }
   ],
   "source": [
    "s"
   ]
  },
  {
   "cell_type": "code",
   "execution_count": 26,
   "id": "2139cef4",
   "metadata": {},
   "outputs": [
    {
     "name": "stdout",
     "output_type": "stream",
     "text": [
      "k\n",
      "r\n",
      "i\n",
      "s\n",
      "h\n"
     ]
    }
   ],
   "source": [
    "for i in s:\n",
    "    if i==\",\":\n",
    "          break\n",
    "    print(i)\n",
    "else:\n",
    "    print(\"given statement is wrong\")\n",
    "        "
   ]
  },
  {
   "cell_type": "code",
   "execution_count": 27,
   "id": "21615521",
   "metadata": {},
   "outputs": [],
   "source": [
    "t=(1,2,3,\"krishna\",8.38)"
   ]
  },
  {
   "cell_type": "code",
   "execution_count": 28,
   "id": "997ef29b",
   "metadata": {},
   "outputs": [
    {
     "data": {
      "text/plain": [
       "(1, 2, 3, 'krishna', 8.38)"
      ]
     },
     "execution_count": 28,
     "metadata": {},
     "output_type": "execute_result"
    }
   ],
   "source": [
    "t"
   ]
  },
  {
   "cell_type": "code",
   "execution_count": 29,
   "id": "22f69a5f",
   "metadata": {},
   "outputs": [
    {
     "name": "stdout",
     "output_type": "stream",
     "text": [
      "1\n",
      "2\n",
      "3\n",
      "krishna\n"
     ]
    }
   ],
   "source": [
    "for i in t:\n",
    "    if i==8.38:\n",
    "        break\n",
    "    print(i)\n",
    "else:\n",
    "    print(\"the above given stament is wrong\")"
   ]
  },
  {
   "cell_type": "code",
   "execution_count": 30,
   "id": "99810b48",
   "metadata": {},
   "outputs": [],
   "source": [
    "k={1,1,1,2,2,3,3,4,4,\"krishna\",\"krishna\",8.38,8.38}"
   ]
  },
  {
   "cell_type": "code",
   "execution_count": 31,
   "id": "03613028",
   "metadata": {},
   "outputs": [
    {
     "data": {
      "text/plain": [
       "{1, 2, 3, 4, 8.38, 'krishna'}"
      ]
     },
     "execution_count": 31,
     "metadata": {},
     "output_type": "execute_result"
    }
   ],
   "source": [
    "k"
   ]
  },
  {
   "cell_type": "code",
   "execution_count": 32,
   "id": "6f5dca93",
   "metadata": {},
   "outputs": [
    {
     "name": "stdout",
     "output_type": "stream",
     "text": [
      "1\n",
      "2\n",
      "3\n",
      "4\n",
      "8.38\n",
      "krishna\n"
     ]
    }
   ],
   "source": [
    "for i in  k:\n",
    "    print(i)"
   ]
  },
  {
   "cell_type": "code",
   "execution_count": 33,
   "id": "0b982578",
   "metadata": {},
   "outputs": [],
   "source": [
    "d={'name':'krishna','name1':'nehal y','name2':'nandeesh'}"
   ]
  },
  {
   "cell_type": "code",
   "execution_count": 34,
   "id": "c305085f",
   "metadata": {},
   "outputs": [
    {
     "name": "stdout",
     "output_type": "stream",
     "text": [
      "name\n",
      "name1\n",
      "name2\n"
     ]
    }
   ],
   "source": [
    "for i in d:\n",
    "     print(i)\n",
    "        "
   ]
  },
  {
   "cell_type": "code",
   "execution_count": 35,
   "id": "48b8a720",
   "metadata": {},
   "outputs": [
    {
     "name": "stdout",
     "output_type": "stream",
     "text": [
      "krishna\n",
      "nehal y\n",
      "nandeesh\n"
     ]
    }
   ],
   "source": [
    "for i in d:\n",
    "    print(d[i])"
   ]
  },
  {
   "cell_type": "code",
   "execution_count": 36,
   "id": "dd004394",
   "metadata": {},
   "outputs": [
    {
     "name": "stdout",
     "output_type": "stream",
     "text": [
      "name : krishna\n",
      "name1 : nehal y\n",
      "name2 : nandeesh\n"
     ]
    }
   ],
   "source": [
    "for i in d:\n",
    "    print(i,\":\",d[i])"
   ]
  },
  {
   "cell_type": "code",
   "execution_count": 37,
   "id": "0c5cb620",
   "metadata": {},
   "outputs": [
    {
     "data": {
      "text/plain": [
       "dict_keys(['name', 'name1', 'name2'])"
      ]
     },
     "execution_count": 37,
     "metadata": {},
     "output_type": "execute_result"
    }
   ],
   "source": [
    "d.keys()"
   ]
  },
  {
   "cell_type": "code",
   "execution_count": 38,
   "id": "47520b89",
   "metadata": {},
   "outputs": [
    {
     "data": {
      "text/plain": [
       "dict_values(['krishna', 'nehal y', 'nandeesh'])"
      ]
     },
     "execution_count": 38,
     "metadata": {},
     "output_type": "execute_result"
    }
   ],
   "source": [
    "d.values()"
   ]
  },
  {
   "cell_type": "code",
   "execution_count": 39,
   "id": "3c9aaada",
   "metadata": {},
   "outputs": [
    {
     "data": {
      "text/plain": [
       "range(0, 9)"
      ]
     },
     "execution_count": 39,
     "metadata": {},
     "output_type": "execute_result"
    }
   ],
   "source": [
    "range(0,9)"
   ]
  },
  {
   "cell_type": "code",
   "execution_count": 40,
   "id": "2c85773b",
   "metadata": {},
   "outputs": [
    {
     "data": {
      "text/plain": [
       "[0, 1, 2, 3, 4, 5, 6, 7, 8]"
      ]
     },
     "execution_count": 40,
     "metadata": {},
     "output_type": "execute_result"
    }
   ],
   "source": [
    "list(range(0,9))"
   ]
  },
  {
   "cell_type": "code",
   "execution_count": 41,
   "id": "81275706",
   "metadata": {},
   "outputs": [
    {
     "data": {
      "text/plain": [
       "(0, 1, 2, 3, 4, 5, 6, 7, 8)"
      ]
     },
     "execution_count": 41,
     "metadata": {},
     "output_type": "execute_result"
    }
   ],
   "source": [
    "tuple(range(9))"
   ]
  },
  {
   "cell_type": "code",
   "execution_count": 42,
   "id": "f49c789b",
   "metadata": {},
   "outputs": [
    {
     "data": {
      "text/plain": [
       "{0, 1, 2, 3, 4, 5, 6, 7, 8}"
      ]
     },
     "execution_count": 42,
     "metadata": {},
     "output_type": "execute_result"
    }
   ],
   "source": [
    "set(range(9))"
   ]
  },
  {
   "cell_type": "code",
   "execution_count": 43,
   "id": "c122efeb",
   "metadata": {},
   "outputs": [
    {
     "ename": "TypeError",
     "evalue": "cannot convert dictionary update sequence element #0 to a sequence",
     "output_type": "error",
     "traceback": [
      "\u001b[1;31m---------------------------------------------------------------------------\u001b[0m",
      "\u001b[1;31mTypeError\u001b[0m                                 Traceback (most recent call last)",
      "Input \u001b[1;32mIn [43]\u001b[0m, in \u001b[0;36m<cell line: 1>\u001b[1;34m()\u001b[0m\n\u001b[1;32m----> 1\u001b[0m \u001b[38;5;28;43mdict\u001b[39;49m\u001b[43m(\u001b[49m\u001b[38;5;28;43mrange\u001b[39;49m\u001b[43m(\u001b[49m\u001b[38;5;241;43m9\u001b[39;49m\u001b[43m)\u001b[49m\u001b[43m)\u001b[49m\n",
      "\u001b[1;31mTypeError\u001b[0m: cannot convert dictionary update sequence element #0 to a sequence"
     ]
    }
   ],
   "source": [
    "dict(range(9))"
   ]
  },
  {
   "cell_type": "code",
   "execution_count": 44,
   "id": "870fcd5f",
   "metadata": {},
   "outputs": [
    {
     "name": "stdout",
     "output_type": "stream",
     "text": [
      "0\n",
      "1\n",
      "2\n",
      "3\n",
      "4\n",
      "5\n",
      "6\n",
      "7\n",
      "8\n"
     ]
    }
   ],
   "source": [
    "for i in range(0,9):\n",
    "\n",
    "    print(i)"
   ]
  },
  {
   "cell_type": "code",
   "execution_count": 45,
   "id": "33de8da3",
   "metadata": {},
   "outputs": [
    {
     "name": "stdout",
     "output_type": "stream",
     "text": [
      "krishna \n",
      "\n",
      "krishna krishna \n",
      "\n",
      "krishna krishna krishna \n",
      "\n",
      "krishna krishna krishna krishna \n",
      "\n"
     ]
    }
   ],
   "source": [
    "n=4\n",
    "for i in range(4):\n",
    "    for j in range(0,i+1):\n",
    "        print(\"krishna\",end=\" \")\n",
    "    print(\"\\n\")"
   ]
  },
  {
   "cell_type": "code",
   "execution_count": 86,
   "id": "c686ed43",
   "metadata": {},
   "outputs": [
    {
     "name": "stdout",
     "output_type": "stream",
     "text": [
      "\t\t\t krishna\n",
      "\n",
      "\n",
      "\t\t krishna \tkrishna \t\n",
      "\n",
      "\n",
      "\t krishna \tkrishna \tkrishna \t\n",
      "\n",
      "\n",
      "krishna \tkrishna \tkrishna \tkrishna \t\n",
      "\n",
      "\n"
     ]
    }
   ],
   "source": [
    "n=4\n",
    "\n",
    "for j in range(1):\n",
    "    print(\"\\t\"*3,\"krishna\")\n",
    "    print(\"\\n\")\n",
    "for k in range(1):\n",
    "    print(\"\\t\"*2,\"krishna \\t\"*2)\n",
    "    print(\"\\n\")\n",
    "for l in range(1):\n",
    "    print(\"\\t\",\"krishna \\t\"*3)\n",
    "    print(\"\\n\")\n",
    "for m in range(1):\n",
    "    print(\"krishna \\t\"*4)\n",
    "    print(\"\\n\")\n",
    "            "
   ]
  },
  {
   "cell_type": "code",
   "execution_count": 46,
   "id": "4008085b",
   "metadata": {},
   "outputs": [
    {
     "name": "stdout",
     "output_type": "stream",
     "text": [
      "krishna krishna krishna krishna \n",
      "\n",
      "krishna krishna krishna \n",
      "\n",
      "krishna krishna \n",
      "\n",
      "krishna \n",
      "\n"
     ]
    }
   ],
   "source": [
    "n=4\n",
    "for i in range(-4,0):\n",
    "    for j in range(i-1,-1):\n",
    "        print(\"krishna\", end=\" \")\n",
    "    print(\"\\n\")"
   ]
  },
  {
   "cell_type": "code",
   "execution_count": 144,
   "id": "370f5384",
   "metadata": {},
   "outputs": [
    {
     "name": "stdout",
     "output_type": "stream",
     "text": [
      "               ineuron \n",
      "\n",
      "               ineuron                ineuron \n",
      "\n",
      "ineuron|ineuron|ineuron|ineuron|\n",
      "\n",
      "ineuron|ineuron|ineuron|\n",
      "\n",
      "ineuron|ineuron|\n",
      "\n",
      "ineuron|\n",
      "\n"
     ]
    }
   ],
   "source": [
    "for i in range(2):\n",
    "    for j in range(0,i+1):\n",
    "        print(\"       \"*2,\"ineuron\",end=\" \")\n",
    "    print(\"\\n\")\n",
    "for i in range(-4,0):\n",
    "    for j in range(i-1,-1):\n",
    "        print(\"ineuron\", end=\"|\")\n",
    "    print(\"\\n\")"
   ]
  },
  {
   "cell_type": "code",
   "execution_count": 48,
   "id": "125e0dbd",
   "metadata": {},
   "outputs": [
    {
     "name": "stdout",
     "output_type": "stream",
     "text": [
      "              krishna      \n",
      "       krishna       krishna\n",
      "krishna       krishna       krishna   \n"
     ]
    }
   ],
   "source": [
    "n=4\n",
    "for i in range(1):\n",
    "    for j in range(0,i+1):\n",
    "        print(\"            \",\" krishna\",\"     \")\n",
    "for i in range(1):\n",
    "    for j in range(0,i+1):\n",
    "        print(\"      \",\"krishna\", \"     \", \"krishna\")\n",
    "for i in range(1):\n",
    "    for j in range(0,i+1):\n",
    "        print(\"krishna\",\"  \",\"  \",\"krishna\",\"     \",\"krishna\",\"  \")"
   ]
  },
  {
   "cell_type": "code",
   "execution_count": 2,
   "id": "1aebbcee",
   "metadata": {},
   "outputs": [],
   "source": [
    "t=(1,2,43,567,23,25,76,)"
   ]
  },
  {
   "cell_type": "markdown",
   "id": "8d064ba3",
   "metadata": {},
   "source": [
    "i have to print it in index and elements format."
   ]
  },
  {
   "cell_type": "code",
   "execution_count": 4,
   "id": "00c2e0e6",
   "metadata": {},
   "outputs": [
    {
     "ename": "AttributeError",
     "evalue": "'int' object has no attribute 'index'",
     "output_type": "error",
     "traceback": [
      "\u001b[1;31m---------------------------------------------------------------------------\u001b[0m",
      "\u001b[1;31mAttributeError\u001b[0m                            Traceback (most recent call last)",
      "Input \u001b[1;32mIn [4]\u001b[0m, in \u001b[0;36m<cell line: 1>\u001b[1;34m()\u001b[0m\n\u001b[0;32m      1\u001b[0m \u001b[38;5;28;01mfor\u001b[39;00m i \u001b[38;5;129;01min\u001b[39;00m t:\n\u001b[1;32m----> 2\u001b[0m        \u001b[38;5;28mprint\u001b[39m(\u001b[43mi\u001b[49m\u001b[38;5;241;43m.\u001b[39;49m\u001b[43mindex\u001b[49m,i)\n",
      "\u001b[1;31mAttributeError\u001b[0m: 'int' object has no attribute 'index'"
     ]
    }
   ],
   "source": [
    " for i in t:\n",
    "        print(i.index,i)"
   ]
  },
  {
   "cell_type": "code",
   "execution_count": 51,
   "id": "dfdd9a6d",
   "metadata": {},
   "outputs": [
    {
     "name": "stdout",
     "output_type": "stream",
     "text": [
      "0 1\n",
      "1 2\n",
      "2 43\n",
      "3 567\n",
      "4 23\n",
      "5 25\n",
      "6 76\n"
     ]
    }
   ],
   "source": [
    "for i in range(len(t)):\n",
    "    print(i,t[i])\n",
    "    "
   ]
  },
  {
   "cell_type": "code",
   "execution_count": 5,
   "id": "fd3e2a8e",
   "metadata": {},
   "outputs": [
    {
     "name": "stdout",
     "output_type": "stream",
     "text": [
      "6 a\n",
      "5 n\n",
      "4 h\n",
      "3 s\n",
      "2 i\n",
      "1 r\n",
      "0 k\n"
     ]
    }
   ],
   "source": [
    "s=\"krishna\"\n",
    "for i in range(len(s)-1,-1,-1):\n",
    "    print(i,s[i])"
   ]
  },
  {
   "cell_type": "code",
   "execution_count": null,
   "id": "82c01f1e",
   "metadata": {},
   "outputs": [],
   "source": []
  },
  {
   "cell_type": "code",
   "execution_count": 53,
   "id": "f0baa40d",
   "metadata": {},
   "outputs": [
    {
     "name": "stdout",
     "output_type": "stream",
     "text": [
      "6 a\n",
      "5 n\n",
      "4 h\n",
      "3 s\n",
      "2 i\n",
      "1 r\n",
      "0 k\n"
     ]
    }
   ],
   "source": [
    "s=\"krishna\"\n",
    "for i in range(len(s)-1,-1,-1):\n",
    "    print(i,s[i])"
   ]
  },
  {
   "cell_type": "code",
   "execution_count": 4,
   "id": "8df1b43e",
   "metadata": {},
   "outputs": [],
   "source": [
    "d={'name':'krishna','name1':'nehal y','name2':'nandeesh'}"
   ]
  },
  {
   "cell_type": "code",
   "execution_count": 3,
   "id": "b6e5913c",
   "metadata": {},
   "outputs": [],
   "source": [
    "l=[\"krishna\",\"biradar\",8.38,8861,9379,8588,6523,2685]\n",
    "l1=[]\n",
    "for i in l:\n",
    "    if type(i)==int:\n",
    "        l1.append(i)"
   ]
  },
  {
   "cell_type": "code",
   "execution_count": 56,
   "id": "e6101695",
   "metadata": {},
   "outputs": [
    {
     "data": {
      "text/plain": [
       "dict_items([('name', 'krishna'), ('name1', 'nehal y'), ('name2', 'nandeesh')])"
      ]
     },
     "execution_count": 56,
     "metadata": {},
     "output_type": "execute_result"
    }
   ],
   "source": [
    "d.items()"
   ]
  },
  {
   "cell_type": "code",
   "execution_count": 57,
   "id": "239c6198",
   "metadata": {},
   "outputs": [
    {
     "name": "stdout",
     "output_type": "stream",
     "text": [
      "('name', 'krishna')\n",
      "('name1', 'nehal y')\n",
      "('name2', 'nandeesh')\n"
     ]
    }
   ],
   "source": [
    "for i in d.items():\n",
    "    print(i)"
   ]
  },
  {
   "cell_type": "code",
   "execution_count": 5,
   "id": "e9bb82a9",
   "metadata": {},
   "outputs": [],
   "source": [
    "d={'name':'krishna','name1':'nehal y','name2':'nandeesh'}"
   ]
  },
  {
   "cell_type": "code",
   "execution_count": 6,
   "id": "d25d4145",
   "metadata": {},
   "outputs": [
    {
     "name": "stdout",
     "output_type": "stream",
     "text": [
      "('name', 'krishna') <class 'tuple'> <class 'str'>\n",
      "('name1', 'nehal y') <class 'tuple'> <class 'str'>\n",
      "('name2', 'nandeesh') <class 'tuple'> <class 'str'>\n"
     ]
    }
   ],
   "source": [
    "for i in d.items():\n",
    "    print(i,type(i),type(i[0]))"
   ]
  },
  {
   "cell_type": "code",
   "execution_count": 7,
   "id": "dc01ed6c",
   "metadata": {},
   "outputs": [],
   "source": [
    "l=[\"krishna\",\"biradar\",8.38,8861,9379,8588,6523,2685]\n",
    "l1=[]\n",
    "for i in l:\n",
    "    if type(i)==int:\n",
    "        l1.append(i)\n",
    "        "
   ]
  },
  {
   "cell_type": "code",
   "execution_count": 9,
   "id": "191e449a",
   "metadata": {},
   "outputs": [
    {
     "name": "stdout",
     "output_type": "stream",
     "text": [
      "8861\n",
      "9379\n",
      "8588\n",
      "6523\n",
      "2685\n"
     ]
    }
   ],
   "source": [
    "l=[\"krishna\",\"biradar\",8.38,8861,9379,8588,6523,2685]\n",
    "l1=[]\n",
    "for i in l:\n",
    "    if type(i)==int:\n",
    "        print(i)\n",
    "        \n",
    "        \n",
    "        "
   ]
  },
  {
   "cell_type": "code",
   "execution_count": 2,
   "id": "266521ca",
   "metadata": {},
   "outputs": [],
   "source": [
    "d={\"name\":\"krishna\",123:\"fu*k\",\"age\":45,546:4737,87:\"ayrabatta\",90:\"ramanujan\"}"
   ]
  },
  {
   "cell_type": "code",
   "execution_count": 3,
   "id": "d68286b5",
   "metadata": {},
   "outputs": [
    {
     "data": {
      "text/plain": [
       "{'name': 'krishna',\n",
       " 123: 'fu*k',\n",
       " 'age': 45,\n",
       " 546: 4737,\n",
       " 87: 'ayrabatta',\n",
       " 90: 'ramanujan'}"
      ]
     },
     "execution_count": 3,
     "metadata": {},
     "output_type": "execute_result"
    }
   ],
   "source": [
    "d"
   ]
  },
  {
   "cell_type": "code",
   "execution_count": 2,
   "id": "891bef44",
   "metadata": {},
   "outputs": [],
   "source": [
    "d={\"name\":\"krishna\",123:\"fu*k\",\"age\":45,546:4737,87:\"ayrabatta\",90:\"ramanujan\"}"
   ]
  },
  {
   "cell_type": "code",
   "execution_count": 3,
   "id": "afc6f2e6",
   "metadata": {},
   "outputs": [
    {
     "name": "stdout",
     "output_type": "stream",
     "text": [
      "123\n",
      "546\n",
      "87\n",
      "90\n"
     ]
    }
   ],
   "source": [
    "\n",
    "for i in d:\n",
    "    if type(i)==int:\n",
    "        print(i)"
   ]
  },
  {
   "cell_type": "code",
   "execution_count": 7,
   "id": "6ddbed53",
   "metadata": {},
   "outputs": [],
   "source": [
    "for i in d.items():\n",
    "    if type(i)==int:\n",
    "        print(i)"
   ]
  },
  {
   "cell_type": "code",
   "execution_count": 6,
   "id": "ce4c8abd",
   "metadata": {},
   "outputs": [
    {
     "name": "stdout",
     "output_type": "stream",
     "text": [
      "123 : fu*k\n",
      "546 : 4737\n",
      "87 : ayrabatta\n",
      "90 : ramanujan\n"
     ]
    }
   ],
   "source": [
    "for i in d:\n",
    "    if type(i)==int:\n",
    "        print(i,\":\",d[i])"
   ]
  },
  {
   "cell_type": "code",
   "execution_count": 10,
   "id": "6d9a56f7",
   "metadata": {},
   "outputs": [],
   "source": [
    "s=\"aaaabbccdd\""
   ]
  },
  {
   "cell_type": "code",
   "execution_count": null,
   "id": "79ef11c1",
   "metadata": {},
   "outputs": [],
   "source": []
  },
  {
   "cell_type": "code",
   "execution_count": 18,
   "id": "81c2c1cf",
   "metadata": {},
   "outputs": [
    {
     "data": {
      "text/plain": [
       "['a', 'a', 'a', 'a', 'b', 'b', 'c', 'c', 'd', 'd']"
      ]
     },
     "execution_count": 18,
     "metadata": {},
     "output_type": "execute_result"
    }
   ],
   "source": [
    "list(s)"
   ]
  },
  {
   "cell_type": "code",
   "execution_count": 21,
   "id": "a3e43418",
   "metadata": {},
   "outputs": [
    {
     "data": {
      "text/plain": [
       "{'a', 'b', 'c', 'd'}"
      ]
     },
     "execution_count": 21,
     "metadata": {},
     "output_type": "execute_result"
    }
   ],
   "source": [
    "set(s)"
   ]
  },
  {
   "cell_type": "code",
   "execution_count": 22,
   "id": "63d80fd8",
   "metadata": {},
   "outputs": [
    {
     "data": {
      "text/plain": [
       "4"
      ]
     },
     "execution_count": 22,
     "metadata": {},
     "output_type": "execute_result"
    }
   ],
   "source": [
    "s.count(\"a\")"
   ]
  },
  {
   "cell_type": "code",
   "execution_count": 24,
   "id": "f7b743b3",
   "metadata": {},
   "outputs": [
    {
     "name": "stdout",
     "output_type": "stream",
     "text": [
      "d : 2\n",
      "b : 2\n",
      "c : 2\n",
      "a : 4\n"
     ]
    }
   ],
   "source": [
    "for i in set(s):\n",
    "    print(i,\":\",s.count(i))"
   ]
  },
  {
   "cell_type": "code",
   "execution_count": 11,
   "id": "b826f726",
   "metadata": {},
   "outputs": [],
   "source": [
    "t=(\"krishna\",'biradar',[1,2,3,4],(3,4,5,6),{\"key1\":\"krishna\",\"key2\":\"biradar\"})"
   ]
  },
  {
   "cell_type": "code",
   "execution_count": 17,
   "id": "6c2e0f33",
   "metadata": {},
   "outputs": [
    {
     "name": "stdout",
     "output_type": "stream",
     "text": [
      "3\n",
      "3\n"
     ]
    }
   ],
   "source": [
    "for i in t:\n",
    "    if type(i)==list or type(i)==tuple:\n",
    "        for j in i:\n",
    "            if j==3:\n",
    "                print(j)"
   ]
  },
  {
   "cell_type": "code",
   "execution_count": 34,
   "id": "529c5fd4",
   "metadata": {},
   "outputs": [
    {
     "ename": "TypeError",
     "evalue": "'int' object is not iterable",
     "output_type": "error",
     "traceback": [
      "\u001b[1;31m---------------------------------------------------------------------------\u001b[0m",
      "\u001b[1;31mTypeError\u001b[0m                                 Traceback (most recent call last)",
      "Input \u001b[1;32mIn [34]\u001b[0m, in \u001b[0;36m<cell line: 1>\u001b[1;34m()\u001b[0m\n\u001b[1;32m----> 1\u001b[0m \u001b[38;5;28;01mfor\u001b[39;00m j \u001b[38;5;129;01min\u001b[39;00m \u001b[38;5;28;43mlist\u001b[39;49m\u001b[43m(\u001b[49m\u001b[43mi\u001b[49m\u001b[43m)\u001b[49m:\n\u001b[0;32m      2\u001b[0m     \u001b[38;5;28mprint\u001b[39m(j)\n",
      "\u001b[1;31mTypeError\u001b[0m: 'int' object is not iterable"
     ]
    }
   ],
   "source": [
    "for j in list(i):\n",
    "    print(j)\n",
    "    "
   ]
  },
  {
   "cell_type": "code",
   "execution_count": 35,
   "id": "51a2892e",
   "metadata": {},
   "outputs": [
    {
     "ename": "TypeError",
     "evalue": "'int' object is not iterable",
     "output_type": "error",
     "traceback": [
      "\u001b[1;31m---------------------------------------------------------------------------\u001b[0m",
      "\u001b[1;31mTypeError\u001b[0m                                 Traceback (most recent call last)",
      "Input \u001b[1;32mIn [35]\u001b[0m, in \u001b[0;36m<cell line: 1>\u001b[1;34m()\u001b[0m\n\u001b[1;32m----> 1\u001b[0m \u001b[38;5;28;01mfor\u001b[39;00m j \u001b[38;5;129;01min\u001b[39;00m \u001b[38;5;28;43mset\u001b[39;49m\u001b[43m(\u001b[49m\u001b[43mi\u001b[49m\u001b[43m)\u001b[49m:\n\u001b[0;32m      2\u001b[0m     \u001b[38;5;28mprint\u001b[39m(i)\n",
      "\u001b[1;31mTypeError\u001b[0m: 'int' object is not iterable"
     ]
    }
   ],
   "source": [
    "for j in set(i):\n",
    "    print(i)"
   ]
  },
  {
   "cell_type": "code",
   "execution_count": 36,
   "id": "ff8f2308",
   "metadata": {},
   "outputs": [
    {
     "ename": "TypeError",
     "evalue": "'int' object is not iterable",
     "output_type": "error",
     "traceback": [
      "\u001b[1;31m---------------------------------------------------------------------------\u001b[0m",
      "\u001b[1;31mTypeError\u001b[0m                                 Traceback (most recent call last)",
      "Input \u001b[1;32mIn [36]\u001b[0m, in \u001b[0;36m<cell line: 1>\u001b[1;34m()\u001b[0m\n\u001b[1;32m----> 1\u001b[0m \u001b[38;5;28;01mfor\u001b[39;00m j \u001b[38;5;129;01min\u001b[39;00m \u001b[38;5;28;43mtuple\u001b[39;49m\u001b[43m(\u001b[49m\u001b[43mi\u001b[49m\u001b[43m)\u001b[49m:\n\u001b[0;32m      2\u001b[0m     \u001b[38;5;28mprint\u001b[39m(j)\n",
      "\u001b[1;31mTypeError\u001b[0m: 'int' object is not iterable"
     ]
    }
   ],
   "source": [
    "for j in tuple(i):\n",
    "    print(j)"
   ]
  },
  {
   "cell_type": "code",
   "execution_count": 37,
   "id": "aabd53b3",
   "metadata": {},
   "outputs": [
    {
     "ename": "TypeError",
     "evalue": "'int' object is not iterable",
     "output_type": "error",
     "traceback": [
      "\u001b[1;31m---------------------------------------------------------------------------\u001b[0m",
      "\u001b[1;31mTypeError\u001b[0m                                 Traceback (most recent call last)",
      "Input \u001b[1;32mIn [37]\u001b[0m, in \u001b[0;36m<cell line: 1>\u001b[1;34m()\u001b[0m\n\u001b[1;32m----> 1\u001b[0m \u001b[38;5;28;01mfor\u001b[39;00m j \u001b[38;5;129;01min\u001b[39;00m \u001b[38;5;28;43mdict\u001b[39;49m\u001b[43m(\u001b[49m\u001b[43mi\u001b[49m\u001b[43m)\u001b[49m:\n\u001b[0;32m      2\u001b[0m     \u001b[38;5;28mprint\u001b[39m(i)\n",
      "\u001b[1;31mTypeError\u001b[0m: 'int' object is not iterable"
     ]
    }
   ],
   "source": [
    "for j in dict(i):\n",
    "    print(i)"
   ]
  },
  {
   "cell_type": "code",
   "execution_count": 120,
   "id": "8b3d769c",
   "metadata": {},
   "outputs": [],
   "source": [
    "t=(\"krishna\",\"biradar\",[1,2,3,4,5],(1,2,3,45,),{'name':'krishna','adress':'house no.95 AT|PO:hosur, Tq:babaleshwar, Dist: vijayapur'})"
   ]
  },
  {
   "cell_type": "code",
   "execution_count": 121,
   "id": "2800b246",
   "metadata": {},
   "outputs": [
    {
     "data": {
      "text/plain": [
       "['krishna',\n",
       " 'biradar',\n",
       " [1, 2, 3, 4, 5],\n",
       " (1, 2, 3, 45),\n",
       " {'name': 'krishna',\n",
       "  'adress': 'house no.95 AT|PO:hosur, Tq:babaleshwar, Dist: vijayapur'}]"
      ]
     },
     "execution_count": 121,
     "metadata": {},
     "output_type": "execute_result"
    }
   ],
   "source": [
    "list(t)"
   ]
  },
  {
   "cell_type": "code",
   "execution_count": 122,
   "id": "b4fa2b75",
   "metadata": {},
   "outputs": [],
   "source": [
    "l=['krishna',\n",
    " 'biradar',\n",
    " [1, 2, 3, 4, 5],\n",
    " (1, 2, 3, 45),\n",
    " {'name': 'krishna',\n",
    "  'adress': 'house no.95 AT|PO:hosur, Tq:babaleshwar, Dist: vijayapur'}]"
   ]
  },
  {
   "cell_type": "code",
   "execution_count": 123,
   "id": "2341cc8f",
   "metadata": {},
   "outputs": [
    {
     "ename": "SyntaxError",
     "evalue": "invalid syntax (323768832.py, line 1)",
     "output_type": "error",
     "traceback": [
      "\u001b[1;36m  Input \u001b[1;32mIn [123]\u001b[1;36m\u001b[0m\n\u001b[1;33m    for i in len(t) while range(0,4):\u001b[0m\n\u001b[1;37m                    ^\u001b[0m\n\u001b[1;31mSyntaxError\u001b[0m\u001b[1;31m:\u001b[0m invalid syntax\n"
     ]
    }
   ],
   "source": [
    "for i in len(t) while range(0,4):\n",
    "    if type(i)==list or type(i)==tuple:\n",
    "        print(i)"
   ]
  },
  {
   "cell_type": "code",
   "execution_count": 124,
   "id": "a810f6d5",
   "metadata": {},
   "outputs": [
    {
     "name": "stdout",
     "output_type": "stream",
     "text": [
      "3\n",
      "3\n"
     ]
    }
   ],
   "source": [
    "for i in t:\n",
    "    if type(i)==list or type(i)==tuple or type(i)==dict:\n",
    "        for j in i:\n",
    "            if j==3:\n",
    "                print(j)"
   ]
  },
  {
   "cell_type": "code",
   "execution_count": 125,
   "id": "4c8e1050",
   "metadata": {},
   "outputs": [
    {
     "name": "stdout",
     "output_type": "stream",
     "text": [
      "r\n",
      "r\n",
      "r\n"
     ]
    }
   ],
   "source": [
    "for i in t:\n",
    "    if type(i)==str:\n",
    "        for j in i:\n",
    "            if j==\"r\":\n",
    "                print(j)"
   ]
  },
  {
   "cell_type": "code",
   "execution_count": 128,
   "id": "bb2be43d",
   "metadata": {},
   "outputs": [
    {
     "name": "stdout",
     "output_type": "stream",
     "text": [
      "i\n",
      "i\n",
      "4\n",
      "name : krishna\n",
      "adress : house no.95 AT|PO:hosur, Tq:babaleshwar, Dist: vijayapur\n"
     ]
    }
   ],
   "source": [
    "for i in t:\n",
    "    if type(i)==list or type(i)==tuple:\n",
    "        for j in i:\n",
    "            if j==4:\n",
    "                print(j)\n",
    "    if type(i)==str:\n",
    "        for j in i:\n",
    "            if j==\"i\":\n",
    "                print(j)\n",
    "    if type(i)==dict:\n",
    "        for j in i:\n",
    "                print(j,\":\",i[j])"
   ]
  },
  {
   "cell_type": "code",
   "execution_count": 131,
   "id": "61c71ee2",
   "metadata": {},
   "outputs": [],
   "source": [
    "t=('krishna',\n",
    " 'biradar',\n",
    " [1, 2, 3, 4, 5],\n",
    " (1, 2, 3, 45),\n",
    " {3:3,\n",
    "  'adress': 'house no.95 AT|PO:hosur, Tq:babaleshwar, Dist: vijayapur'})"
   ]
  },
  {
   "cell_type": "code",
   "execution_count": 134,
   "id": "eff4f76c",
   "metadata": {},
   "outputs": [
    {
     "name": "stdout",
     "output_type": "stream",
     "text": [
      "3\n",
      "3\n",
      "3\n",
      "3\n"
     ]
    }
   ],
   "source": [
    "for i in t:\n",
    "    if type(i)==list or type(i)==tuple:\n",
    "        for j in i:\n",
    "            if j==3:\n",
    "                print(j)\n",
    "    if type(i)==dict:\n",
    "        for j in i:\n",
    "            if j==3:\n",
    "                print(j)\n",
    "                print(i[j])"
   ]
  },
  {
   "cell_type": "markdown",
   "id": "71aa557d",
   "metadata": {},
   "source": [
    "task based on for loop"
   ]
  },
  {
   "cell_type": "markdown",
   "id": "9decc4b8",
   "metadata": {},
   "source": [
    "Question:01"
   ]
  },
  {
   "cell_type": "code",
   "execution_count": 135,
   "id": "5022be8f",
   "metadata": {},
   "outputs": [],
   "source": [
    "n=4\n",
    "for i "
   ]
  },
  {
   "cell_type": "code",
   "execution_count": null,
   "id": "6b5388a1",
   "metadata": {},
   "outputs": [],
   "source": []
  }
 ],
 "metadata": {
  "kernelspec": {
   "display_name": "Python 3 (ipykernel)",
   "language": "python",
   "name": "python3"
  },
  "language_info": {
   "codemirror_mode": {
    "name": "ipython",
    "version": 3
   },
   "file_extension": ".py",
   "mimetype": "text/x-python",
   "name": "python",
   "nbconvert_exporter": "python",
   "pygments_lexer": "ipython3",
   "version": "3.9.12"
  }
 },
 "nbformat": 4,
 "nbformat_minor": 5
}
