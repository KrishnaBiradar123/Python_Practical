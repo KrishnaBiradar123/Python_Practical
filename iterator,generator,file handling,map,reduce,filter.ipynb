{
 "cells": [
  {
   "cell_type": "code",
   "execution_count": 1,
   "id": "5d966bf1",
   "metadata": {},
   "outputs": [],
   "source": [
    "l=[1,2,3,4,5,5]"
   ]
  },
  {
   "cell_type": "code",
   "execution_count": 3,
   "id": "1a64d0d0",
   "metadata": {},
   "outputs": [
    {
     "name": "stdout",
     "output_type": "stream",
     "text": [
      "2\n",
      "3\n",
      "4\n",
      "5\n",
      "6\n",
      "6\n"
     ]
    }
   ],
   "source": [
    "for i in l:\n",
    "    print(i+1)"
   ]
  },
  {
   "cell_type": "code",
   "execution_count": 4,
   "id": "d4190b81",
   "metadata": {},
   "outputs": [
    {
     "ename": "TypeError",
     "evalue": "'list' object is not an iterator",
     "output_type": "error",
     "traceback": [
      "\u001b[1;31m---------------------------------------------------------------------------\u001b[0m",
      "\u001b[1;31mTypeError\u001b[0m                                 Traceback (most recent call last)",
      "Input \u001b[1;32mIn [4]\u001b[0m, in \u001b[0;36m<cell line: 1>\u001b[1;34m()\u001b[0m\n\u001b[1;32m----> 1\u001b[0m \u001b[38;5;28;43mnext\u001b[39;49m\u001b[43m(\u001b[49m\u001b[43ml\u001b[49m\u001b[43m)\u001b[49m\n",
      "\u001b[1;31mTypeError\u001b[0m: 'list' object is not an iterator"
     ]
    }
   ],
   "source": [
    "next(l)"
   ]
  },
  {
   "cell_type": "code",
   "execution_count": 6,
   "id": "b9d4ad1c",
   "metadata": {},
   "outputs": [],
   "source": [
    "k=iter(l)"
   ]
  },
  {
   "cell_type": "code",
   "execution_count": 9,
   "id": "1ed3b462",
   "metadata": {},
   "outputs": [
    {
     "data": {
      "text/plain": [
       "1"
      ]
     },
     "execution_count": 9,
     "metadata": {},
     "output_type": "execute_result"
    }
   ],
   "source": [
    "next(k)"
   ]
  },
  {
   "cell_type": "code",
   "execution_count": 11,
   "id": "c735d3df",
   "metadata": {},
   "outputs": [
    {
     "data": {
      "text/plain": [
       "4"
      ]
     },
     "execution_count": 11,
     "metadata": {},
     "output_type": "execute_result"
    }
   ],
   "source": [
    "next(k)"
   ]
  },
  {
   "cell_type": "code",
   "execution_count": 12,
   "id": "21ef01a4",
   "metadata": {},
   "outputs": [
    {
     "data": {
      "text/plain": [
       "5"
      ]
     },
     "execution_count": 12,
     "metadata": {},
     "output_type": "execute_result"
    }
   ],
   "source": [
    "next(k)"
   ]
  },
  {
   "cell_type": "code",
   "execution_count": 13,
   "id": "66c08a8b",
   "metadata": {},
   "outputs": [
    {
     "data": {
      "text/plain": [
       "5"
      ]
     },
     "execution_count": 13,
     "metadata": {},
     "output_type": "execute_result"
    }
   ],
   "source": [
    "next(k)"
   ]
  },
  {
   "cell_type": "code",
   "execution_count": 14,
   "id": "ca4704c0",
   "metadata": {},
   "outputs": [
    {
     "ename": "StopIteration",
     "evalue": "",
     "output_type": "error",
     "traceback": [
      "\u001b[1;31m---------------------------------------------------------------------------\u001b[0m",
      "\u001b[1;31mStopIteration\u001b[0m                             Traceback (most recent call last)",
      "Input \u001b[1;32mIn [14]\u001b[0m, in \u001b[0;36m<cell line: 1>\u001b[1;34m()\u001b[0m\n\u001b[1;32m----> 1\u001b[0m \u001b[38;5;28;43mnext\u001b[39;49m\u001b[43m(\u001b[49m\u001b[43mk\u001b[49m\u001b[43m)\u001b[49m\n",
      "\u001b[1;31mStopIteration\u001b[0m: "
     ]
    }
   ],
   "source": [
    "next(k)"
   ]
  },
  {
   "cell_type": "code",
   "execution_count": 15,
   "id": "6fa02be4",
   "metadata": {},
   "outputs": [
    {
     "ename": "TypeError",
     "evalue": "'int' object is not an iterator",
     "output_type": "error",
     "traceback": [
      "\u001b[1;31m---------------------------------------------------------------------------\u001b[0m",
      "\u001b[1;31mTypeError\u001b[0m                                 Traceback (most recent call last)",
      "Input \u001b[1;32mIn [15]\u001b[0m, in \u001b[0;36m<cell line: 1>\u001b[1;34m()\u001b[0m\n\u001b[1;32m----> 1\u001b[0m \u001b[38;5;28;43mnext\u001b[39;49m\u001b[43m(\u001b[49m\u001b[38;5;241;43m24\u001b[39;49m\u001b[43m)\u001b[49m\n",
      "\u001b[1;31mTypeError\u001b[0m: 'int' object is not an iterator"
     ]
    }
   ],
   "source": [
    "next(24)"
   ]
  },
  {
   "cell_type": "code",
   "execution_count": 16,
   "id": "6fcc9a09",
   "metadata": {},
   "outputs": [
    {
     "ename": "TypeError",
     "evalue": "'int' object is not iterable",
     "output_type": "error",
     "traceback": [
      "\u001b[1;31m---------------------------------------------------------------------------\u001b[0m",
      "\u001b[1;31mTypeError\u001b[0m                                 Traceback (most recent call last)",
      "Input \u001b[1;32mIn [16]\u001b[0m, in \u001b[0;36m<cell line: 1>\u001b[1;34m()\u001b[0m\n\u001b[1;32m----> 1\u001b[0m \u001b[38;5;28;43miter\u001b[39;49m\u001b[43m(\u001b[49m\u001b[38;5;241;43m24\u001b[39;49m\u001b[43m)\u001b[49m\n",
      "\u001b[1;31mTypeError\u001b[0m: 'int' object is not iterable"
     ]
    }
   ],
   "source": [
    "iter(24)"
   ]
  },
  {
   "cell_type": "code",
   "execution_count": 17,
   "id": "0ec879b7",
   "metadata": {},
   "outputs": [
    {
     "ename": "TypeError",
     "evalue": "'int' object is not iterable",
     "output_type": "error",
     "traceback": [
      "\u001b[1;31m---------------------------------------------------------------------------\u001b[0m",
      "\u001b[1;31mTypeError\u001b[0m                                 Traceback (most recent call last)",
      "Input \u001b[1;32mIn [17]\u001b[0m, in \u001b[0;36m<cell line: 1>\u001b[1;34m()\u001b[0m\n\u001b[1;32m----> 1\u001b[0m \u001b[38;5;28;01mfor\u001b[39;00m i \u001b[38;5;129;01min\u001b[39;00m \u001b[38;5;241m2754\u001b[39m:\n\u001b[0;32m      2\u001b[0m     \u001b[38;5;28mprint\u001b[39m(i)\n",
      "\u001b[1;31mTypeError\u001b[0m: 'int' object is not iterable"
     ]
    }
   ],
   "source": [
    "for i in 2754:\n",
    "    print(i)"
   ]
  },
  {
   "cell_type": "code",
   "execution_count": 19,
   "id": "37d29960",
   "metadata": {},
   "outputs": [],
   "source": [
    "k=\"KRISHNA\""
   ]
  },
  {
   "cell_type": "code",
   "execution_count": 20,
   "id": "7bc141d0",
   "metadata": {},
   "outputs": [
    {
     "ename": "TypeError",
     "evalue": "'str' object is not an iterator",
     "output_type": "error",
     "traceback": [
      "\u001b[1;31m---------------------------------------------------------------------------\u001b[0m",
      "\u001b[1;31mTypeError\u001b[0m                                 Traceback (most recent call last)",
      "Input \u001b[1;32mIn [20]\u001b[0m, in \u001b[0;36m<cell line: 1>\u001b[1;34m()\u001b[0m\n\u001b[1;32m----> 1\u001b[0m \u001b[38;5;28;43mnext\u001b[39;49m\u001b[43m(\u001b[49m\u001b[43mk\u001b[49m\u001b[43m)\u001b[49m\n",
      "\u001b[1;31mTypeError\u001b[0m: 'str' object is not an iterator"
     ]
    }
   ],
   "source": [
    "next(k)"
   ]
  },
  {
   "cell_type": "code",
   "execution_count": 22,
   "id": "3b36d995",
   "metadata": {},
   "outputs": [],
   "source": [
    "l=iter(k)"
   ]
  },
  {
   "cell_type": "code",
   "execution_count": 23,
   "id": "31e46cfd",
   "metadata": {},
   "outputs": [
    {
     "data": {
      "text/plain": [
       "'K'"
      ]
     },
     "execution_count": 23,
     "metadata": {},
     "output_type": "execute_result"
    }
   ],
   "source": [
    "next(l)"
   ]
  },
  {
   "cell_type": "code",
   "execution_count": 25,
   "id": "720d43f9",
   "metadata": {},
   "outputs": [
    {
     "name": "stdout",
     "output_type": "stream",
     "text": [
      "K\n",
      "R\n",
      "I\n",
      "S\n",
      "H\n",
      "N\n",
      "A\n"
     ]
    }
   ],
   "source": [
    "for i in k:\n",
    "    print(i)"
   ]
  },
  {
   "cell_type": "code",
   "execution_count": 27,
   "id": "740ca28c",
   "metadata": {},
   "outputs": [
    {
     "data": {
      "text/plain": [
       "[1, 4, 9, 16, 25, 36, 49, 64, 81]"
      ]
     },
     "execution_count": 27,
     "metadata": {},
     "output_type": "execute_result"
    }
   ],
   "source": [
    "[ i*i for i in range(1,10)]"
   ]
  },
  {
   "cell_type": "code",
   "execution_count": 46,
   "id": "e96d279f",
   "metadata": {},
   "outputs": [],
   "source": [
    "def squre_fun(n):\n",
    "    k= [ i*i for i in range(1,n)]\n",
    "    return k"
   ]
  },
  {
   "cell_type": "code",
   "execution_count": 47,
   "id": "2602a40a",
   "metadata": {},
   "outputs": [
    {
     "data": {
      "text/plain": [
       "[1, 4, 9, 16, 25, 36]"
      ]
     },
     "execution_count": 47,
     "metadata": {},
     "output_type": "execute_result"
    }
   ],
   "source": [
    "squre_fun(7)"
   ]
  },
  {
   "cell_type": "code",
   "execution_count": 2,
   "id": "f0780319",
   "metadata": {},
   "outputs": [],
   "source": [
    "def squre_fun(n):\n",
    "    k= [i*i for i in range(1,n)]\n",
    "    yield  k"
   ]
  },
  {
   "cell_type": "code",
   "execution_count": 3,
   "id": "75f66e9d",
   "metadata": {},
   "outputs": [
    {
     "data": {
      "text/plain": [
       "([1, 4, 9, 16, 25, 36, 49],)"
      ]
     },
     "execution_count": 3,
     "metadata": {},
     "output_type": "execute_result"
    }
   ],
   "source": [
    "tuple(squre_fun(8))"
   ]
  },
  {
   "cell_type": "code",
   "execution_count": 4,
   "id": "292c3fd2",
   "metadata": {},
   "outputs": [],
   "source": [
    "def genfib(n):\n",
    "    a=1\n",
    "    b=1\n",
    "    l=[]\n",
    "    for i in range(n):\n",
    "        l.append(a)\n",
    "        a,b=b,a+b\n",
    "    return l"
   ]
  },
  {
   "cell_type": "code",
   "execution_count": 5,
   "id": "3764cda7",
   "metadata": {},
   "outputs": [
    {
     "data": {
      "text/plain": [
       "[1, 1, 2, 3, 5, 8]"
      ]
     },
     "execution_count": 5,
     "metadata": {},
     "output_type": "execute_result"
    }
   ],
   "source": [
    "genfib(6)"
   ]
  },
  {
   "cell_type": "code",
   "execution_count": 18,
   "id": "dabee0eb",
   "metadata": {},
   "outputs": [],
   "source": [
    "def genfib1(n):\n",
    "    a=1\n",
    "    b=1\n",
    "    for i in range(n):\n",
    "        yield a\n",
    "        a,b=b,a+b"
   ]
  },
  {
   "cell_type": "code",
   "execution_count": 19,
   "id": "310ea050",
   "metadata": {},
   "outputs": [],
   "source": [
    "k=genfib(5)"
   ]
  },
  {
   "cell_type": "code",
   "execution_count": 20,
   "id": "e894d7d1",
   "metadata": {},
   "outputs": [
    {
     "data": {
      "text/plain": [
       "5"
      ]
     },
     "execution_count": 20,
     "metadata": {},
     "output_type": "execute_result"
    }
   ],
   "source": [
    "next(k)"
   ]
  },
  {
   "cell_type": "code",
   "execution_count": 21,
   "id": "ca083bab",
   "metadata": {},
   "outputs": [
    {
     "name": "stdout",
     "output_type": "stream",
     "text": [
      "1\n",
      "1\n",
      "2\n",
      "3\n",
      "5\n",
      "8\n",
      "13\n",
      "21\n",
      "34\n",
      "55\n",
      "89\n",
      "144\n"
     ]
    }
   ],
   "source": [
    "for i in genfib1(12):\n",
    "    print(i)"
   ]
  },
  {
   "cell_type": "code",
   "execution_count": 25,
   "id": "aa1cfeac",
   "metadata": {},
   "outputs": [],
   "source": [
    "#file handling"
   ]
  },
  {
   "cell_type": "code",
   "execution_count": 2,
   "id": "f1240b55",
   "metadata": {},
   "outputs": [
    {
     "ename": "FileNotFoundError",
     "evalue": "[Errno 2] No such file or directory: 'TASK.ipynb'",
     "output_type": "error",
     "traceback": [
      "\u001b[1;31m---------------------------------------------------------------------------\u001b[0m",
      "\u001b[1;31mFileNotFoundError\u001b[0m                         Traceback (most recent call last)",
      "Input \u001b[1;32mIn [2]\u001b[0m, in \u001b[0;36m<cell line: 1>\u001b[1;34m()\u001b[0m\n\u001b[1;32m----> 1\u001b[0m f\u001b[38;5;241m=\u001b[39m\u001b[38;5;28;43mopen\u001b[39;49m\u001b[43m(\u001b[49m\u001b[38;5;124;43m\"\u001b[39;49m\u001b[38;5;124;43mTASK.ipynb\u001b[39;49m\u001b[38;5;124;43m\"\u001b[39;49m\u001b[43m)\u001b[49m\n",
      "\u001b[1;31mFileNotFoundError\u001b[0m: [Errno 2] No such file or directory: 'TASK.ipynb'"
     ]
    }
   ],
   "source": [
    "f=open(\"TASK.ipynb\")"
   ]
  },
  {
   "cell_type": "code",
   "execution_count": 31,
   "id": "2a0d3584",
   "metadata": {},
   "outputs": [
    {
     "name": "stdout",
     "output_type": "stream",
     "text": [
      " Volume in drive C has no label.\n",
      " Volume Serial Number is AA6A-72A1\n",
      "\n",
      " Directory of C:\\Users\\Student\n",
      "\n",
      "12-08-2022  23:16            10,863  Assignment 2.ipynb\n",
      "19-08-2022  06:41            52,677  challenge based on for,while,function.ipynb\n",
      "23-08-2022  11:11            13,132  exception Handling.ipynb\n",
      "22-08-2022  19:12            44,242  Function.ipynb\n",
      "13-08-2022  12:52            25,227  python while loop.ipynb\n",
      "16-08-2022  13:22            18,097  Task Based On Python For Loop.ipynb\n",
      "16-08-2022  11:06            10,757  TASK.ipynb\n",
      "07-09-2022  12:24    <DIR>          .\n",
      "19-07-2022  13:37    <DIR>          ..\n",
      "07-09-2022  09:24    <DIR>          .ipynb_checkpoints\n",
      "13-07-2022  10:51    <DIR>          .ipython\n",
      "13-07-2022  10:46    <DIR>          .jupyter\n",
      "19-08-2022  00:01                81 .python_history\n",
      "23-04-2022  19:12    <DIR>          3D Objects\n",
      "13-07-2022  10:09    <DIR>          anaconda3\n",
      "19-07-2022  14:03    <DIR>          Contacts\n",
      "05-09-2022  22:47    <DIR>          Desktop\n",
      "29-08-2022  18:29    <DIR>          Documents\n",
      "06-09-2022  22:35    <DIR>          Downloads\n",
      "19-07-2022  14:03    <DIR>          Favorites\n",
      "20-08-2022  16:51    <DIR>          gou12\n",
      "24-07-2022  11:51             7,410 KRISHNA BIRADAR ASSIGNMENT #1.ipynb\n",
      "19-07-2022  14:03    <DIR>          Links\n",
      "19-07-2022  14:03    <DIR>          Music\n",
      "18-06-2022  01:29    <DIR>          OneDrive\n",
      "19-07-2022  14:03    <DIR>          Pictures\n",
      "08-08-2022  17:46            26,899 python class2.ipynb\n",
      "11-08-2022  17:58            37,471 python for loop.ipynb\n",
      "23-07-2022  17:14            10,413 python if,else,elif.ipynb\n",
      "28-07-2022  15:16            62,618 python list.ipynb\n",
      "16-07-2022  15:10           177,085 python string.ipynb\n",
      "19-07-2022  14:03    <DIR>          Saved Games\n",
      "19-07-2022  14:03    <DIR>          Searches\n",
      "22-07-2022  11:11             6,690 taks 2.ipynb\n",
      "16-07-2022  13:59    <DIR>          Untitled Folder\n",
      "16-07-2022  13:59    <DIR>          Untitled Folder 1\n",
      "13-07-2022  11:31               589 Untitled.ipynb\n",
      "22-07-2022  09:36             2,089 Untitled1.ipynb\n",
      "20-07-2022  15:52            27,726 Untitled10.ipynb\n",
      "22-07-2022  10:48             5,100 Untitled11.ipynb\n",
      "22-07-2022  20:57               900 Untitled12.ipynb\n",
      "23-07-2022  12:16             7,261 Untitled13.ipynb\n",
      "24-07-2022  11:23             7,454 Untitled14.ipynb\n",
      "26-07-2022  11:17             1,146 Untitled15.ipynb\n",
      "28-07-2022  15:13             9,428 Untitled16.ipynb\n",
      "03-08-2022  15:07             2,451 Untitled17.ipynb\n",
      "03-08-2022  16:51             1,777 Untitled18.ipynb\n",
      "03-08-2022  18:15             4,523 Untitled19.ipynb\n",
      "13-07-2022  15:02             7,317 Untitled2.ipynb\n",
      "05-08-2022  11:02             1,057 Untitled20.ipynb\n",
      "05-08-2022  16:01             1,722 Untitled21.ipynb\n",
      "07-08-2022  12:49            18,119 Untitled22.ipynb\n",
      "07-09-2022  12:24            12,337 Untitled23.ipynb\n",
      "13-07-2022  17:35             1,598 Untitled3.ipynb\n",
      "13-07-2022  18:04               589 Untitled4.ipynb\n",
      "14-07-2022  09:51            12,995 Untitled5.ipynb\n",
      "16-07-2022  09:48             6,176 Untitled6.ipynb\n",
      "16-07-2022  11:04               589 Untitled7.ipynb\n",
      "16-07-2022  12:31            62,478 Untitled8.ipynb\n",
      "16-07-2022  14:02               589 Untitled9.ipynb\n",
      "19-07-2022  14:03    <DIR>          Videos\n",
      "08-05-2022  00:34    <DIR>          Zotero\n",
      "              39 File(s)        699,672 bytes\n",
      "              23 Dir(s)  365,148,336,128 bytes free\n"
     ]
    }
   ],
   "source": [
    "ls"
   ]
  },
  {
   "cell_type": "code",
   "execution_count": 6,
   "id": "c9467e3e",
   "metadata": {},
   "outputs": [],
   "source": [
    "k=open(\"assignment2\",'w')"
   ]
  },
  {
   "cell_type": "code",
   "execution_count": 3,
   "id": "53daf9dc",
   "metadata": {},
   "outputs": [
    {
     "name": "stdout",
     "output_type": "stream",
     "text": [
      " Volume in drive C has no label.\n",
      " Volume Serial Number is AA6A-72A1\n",
      "\n",
      " Directory of C:\\Users\\Student\n",
      "\n",
      "12-08-2022  23:16            10,863  Assignment 2.ipynb\n",
      "19-08-2022  06:41            52,677  challenge based on for,while,function.ipynb\n",
      "23-08-2022  11:11            13,132  exception Handling.ipynb\n",
      "22-08-2022  19:12            44,242  Function.ipynb\n",
      "13-08-2022  12:52            25,227  python while loop.ipynb\n",
      "16-08-2022  13:22            18,097  Task Based On Python For Loop.ipynb\n",
      "16-08-2022  11:06            10,757  TASK.ipynb\n",
      "07-09-2022  13:49    <DIR>          .\n",
      "19-07-2022  13:37    <DIR>          ..\n",
      "07-09-2022  09:24    <DIR>          .ipynb_checkpoints\n",
      "13-07-2022  10:51    <DIR>          .ipython\n",
      "13-07-2022  10:46    <DIR>          .jupyter\n",
      "19-08-2022  00:01                81 .python_history\n",
      "23-04-2022  19:12    <DIR>          3D Objects\n",
      "13-07-2022  10:09    <DIR>          anaconda3\n",
      "07-09-2022  12:49                 0 assignment2\n",
      "19-07-2022  14:03    <DIR>          Contacts\n",
      "05-09-2022  22:47    <DIR>          Desktop\n",
      "29-08-2022  18:29    <DIR>          Documents\n",
      "06-09-2022  22:35    <DIR>          Downloads\n",
      "19-07-2022  14:03    <DIR>          Favorites\n",
      "20-08-2022  16:51    <DIR>          gou12\n",
      "24-07-2022  11:51             7,410 KRISHNA BIRADAR ASSIGNMENT #1.ipynb\n",
      "19-07-2022  14:03    <DIR>          Links\n",
      "19-07-2022  14:03    <DIR>          Music\n",
      "18-06-2022  01:29    <DIR>          OneDrive\n",
      "19-07-2022  14:03    <DIR>          Pictures\n",
      "08-08-2022  17:46            26,899 python class2.ipynb\n",
      "11-08-2022  17:58            37,471 python for loop.ipynb\n",
      "23-07-2022  17:14            10,413 python if,else,elif.ipynb\n",
      "28-07-2022  15:16            62,618 python list.ipynb\n",
      "16-07-2022  15:10           177,085 python string.ipynb\n",
      "19-07-2022  14:03    <DIR>          Saved Games\n",
      "19-07-2022  14:03    <DIR>          Searches\n",
      "22-07-2022  11:11             6,690 taks 2.ipynb\n",
      "16-07-2022  13:59    <DIR>          Untitled Folder\n",
      "16-07-2022  13:59    <DIR>          Untitled Folder 1\n",
      "13-07-2022  11:31               589 Untitled.ipynb\n",
      "22-07-2022  09:36             2,089 Untitled1.ipynb\n",
      "20-07-2022  15:52            27,726 Untitled10.ipynb\n",
      "22-07-2022  10:48             5,100 Untitled11.ipynb\n",
      "22-07-2022  20:57               900 Untitled12.ipynb\n",
      "23-07-2022  12:16             7,261 Untitled13.ipynb\n",
      "24-07-2022  11:23             7,454 Untitled14.ipynb\n",
      "26-07-2022  11:17             1,146 Untitled15.ipynb\n",
      "28-07-2022  15:13             9,428 Untitled16.ipynb\n",
      "03-08-2022  15:07             2,451 Untitled17.ipynb\n",
      "03-08-2022  16:51             1,777 Untitled18.ipynb\n",
      "03-08-2022  18:15             4,523 Untitled19.ipynb\n",
      "13-07-2022  15:02             7,317 Untitled2.ipynb\n",
      "05-08-2022  11:02             1,057 Untitled20.ipynb\n",
      "05-08-2022  16:01             1,722 Untitled21.ipynb\n",
      "07-08-2022  12:49            18,119 Untitled22.ipynb\n",
      "07-09-2022  12:50            22,236 Untitled23.ipynb\n",
      "13-07-2022  17:35             1,598 Untitled3.ipynb\n",
      "13-07-2022  18:04               589 Untitled4.ipynb\n",
      "14-07-2022  09:51            12,995 Untitled5.ipynb\n",
      "16-07-2022  09:48             6,176 Untitled6.ipynb\n",
      "16-07-2022  11:04               589 Untitled7.ipynb\n",
      "16-07-2022  12:31            62,478 Untitled8.ipynb\n",
      "16-07-2022  14:02               589 Untitled9.ipynb\n",
      "19-07-2022  14:03    <DIR>          Videos\n",
      "08-05-2022  00:34    <DIR>          Zotero\n",
      "              40 File(s)        709,571 bytes\n",
      "              23 Dir(s)  366,444,404,736 bytes free\n"
     ]
    }
   ],
   "source": [
    "ls"
   ]
  },
  {
   "cell_type": "code",
   "execution_count": 10,
   "id": "e987cf34",
   "metadata": {},
   "outputs": [
    {
     "data": {
      "text/plain": [
       "31"
      ]
     },
     "execution_count": 10,
     "metadata": {},
     "output_type": "execute_result"
    }
   ],
   "source": [
    "k.write(\"this is my very first operation\")"
   ]
  },
  {
   "cell_type": "code",
   "execution_count": 11,
   "id": "9a16ec69",
   "metadata": {},
   "outputs": [],
   "source": [
    "k.close()"
   ]
  },
  {
   "cell_type": "code",
   "execution_count": 12,
   "id": "3c4a4352",
   "metadata": {},
   "outputs": [
    {
     "name": "stdout",
     "output_type": "stream",
     "text": [
      " Volume in drive C has no label.\n",
      " Volume Serial Number is AA6A-72A1\n",
      "\n",
      " Directory of C:\\Users\\Student\n",
      "\n",
      "12-08-2022  23:16            10,863  Assignment 2.ipynb\n",
      "19-08-2022  06:41            52,677  challenge based on for,while,function.ipynb\n",
      "23-08-2022  11:11            13,132  exception Handling.ipynb\n",
      "22-08-2022  19:12            44,242  Function.ipynb\n",
      "13-08-2022  12:52            25,227  python while loop.ipynb\n",
      "16-08-2022  13:22            18,097  Task Based On Python For Loop.ipynb\n",
      "16-08-2022  11:06            10,757  TASK.ipynb\n",
      "07-09-2022  14:02    <DIR>          .\n",
      "19-07-2022  13:37    <DIR>          ..\n",
      "07-09-2022  09:24    <DIR>          .ipynb_checkpoints\n",
      "13-07-2022  10:51    <DIR>          .ipython\n",
      "13-07-2022  10:46    <DIR>          .jupyter\n",
      "19-08-2022  00:01                81 .python_history\n",
      "23-04-2022  19:12    <DIR>          3D Objects\n",
      "13-07-2022  10:09    <DIR>          anaconda3\n",
      "07-09-2022  14:03                93 assignment2\n",
      "19-07-2022  14:03    <DIR>          Contacts\n",
      "05-09-2022  22:47    <DIR>          Desktop\n",
      "29-08-2022  18:29    <DIR>          Documents\n",
      "06-09-2022  22:35    <DIR>          Downloads\n",
      "19-07-2022  14:03    <DIR>          Favorites\n",
      "20-08-2022  16:51    <DIR>          gou12\n",
      "24-07-2022  11:51             7,410 KRISHNA BIRADAR ASSIGNMENT #1.ipynb\n",
      "19-07-2022  14:03    <DIR>          Links\n",
      "19-07-2022  14:03    <DIR>          Music\n",
      "18-06-2022  01:29    <DIR>          OneDrive\n",
      "19-07-2022  14:03    <DIR>          Pictures\n",
      "08-08-2022  17:46            26,899 python class2.ipynb\n",
      "11-08-2022  17:58            37,471 python for loop.ipynb\n",
      "23-07-2022  17:14            10,413 python if,else,elif.ipynb\n",
      "28-07-2022  15:16            62,618 python list.ipynb\n",
      "16-07-2022  15:10           177,085 python string.ipynb\n",
      "19-07-2022  14:03    <DIR>          Saved Games\n",
      "19-07-2022  14:03    <DIR>          Searches\n",
      "22-07-2022  11:11             6,690 taks 2.ipynb\n",
      "16-07-2022  13:59    <DIR>          Untitled Folder\n",
      "16-07-2022  13:59    <DIR>          Untitled Folder 1\n",
      "13-07-2022  11:31               589 Untitled.ipynb\n",
      "22-07-2022  09:36             2,089 Untitled1.ipynb\n",
      "20-07-2022  15:52            27,726 Untitled10.ipynb\n",
      "22-07-2022  10:48             5,100 Untitled11.ipynb\n",
      "22-07-2022  20:57               900 Untitled12.ipynb\n",
      "23-07-2022  12:16             7,261 Untitled13.ipynb\n",
      "24-07-2022  11:23             7,454 Untitled14.ipynb\n",
      "26-07-2022  11:17             1,146 Untitled15.ipynb\n",
      "28-07-2022  15:13             9,428 Untitled16.ipynb\n",
      "03-08-2022  15:07             2,451 Untitled17.ipynb\n",
      "03-08-2022  16:51             1,777 Untitled18.ipynb\n",
      "03-08-2022  18:15             4,523 Untitled19.ipynb\n",
      "13-07-2022  15:02             7,317 Untitled2.ipynb\n",
      "05-08-2022  11:02             1,057 Untitled20.ipynb\n",
      "05-08-2022  16:01             1,722 Untitled21.ipynb\n",
      "07-08-2022  12:49            18,119 Untitled22.ipynb\n",
      "07-09-2022  14:02            22,450 Untitled23.ipynb\n",
      "13-07-2022  17:35             1,598 Untitled3.ipynb\n",
      "13-07-2022  18:04               589 Untitled4.ipynb\n",
      "14-07-2022  09:51            12,995 Untitled5.ipynb\n",
      "16-07-2022  09:48             6,176 Untitled6.ipynb\n",
      "16-07-2022  11:04               589 Untitled7.ipynb\n",
      "16-07-2022  12:31            62,478 Untitled8.ipynb\n",
      "16-07-2022  14:02               589 Untitled9.ipynb\n",
      "19-07-2022  14:03    <DIR>          Videos\n",
      "08-05-2022  00:34    <DIR>          Zotero\n",
      "              40 File(s)        709,878 bytes\n",
      "              23 Dir(s)  366,443,225,088 bytes free\n"
     ]
    }
   ],
   "source": [
    "ls"
   ]
  },
  {
   "cell_type": "code",
   "execution_count": 13,
   "id": "d9ecf3f8",
   "metadata": {},
   "outputs": [
    {
     "ename": "TypeError",
     "evalue": "TextIOWrapper.write() takes exactly one argument (0 given)",
     "output_type": "error",
     "traceback": [
      "\u001b[1;31m---------------------------------------------------------------------------\u001b[0m",
      "\u001b[1;31mTypeError\u001b[0m                                 Traceback (most recent call last)",
      "Input \u001b[1;32mIn [13]\u001b[0m, in \u001b[0;36m<cell line: 1>\u001b[1;34m()\u001b[0m\n\u001b[1;32m----> 1\u001b[0m \u001b[43mk\u001b[49m\u001b[38;5;241;43m.\u001b[39;49m\u001b[43mwrite\u001b[49m\u001b[43m(\u001b[49m\u001b[43m)\u001b[49m\n",
      "\u001b[1;31mTypeError\u001b[0m: TextIOWrapper.write() takes exactly one argument (0 given)"
     ]
    }
   ],
   "source": []
  },
  {
   "cell_type": "code",
   "execution_count": 14,
   "id": "c97b32ce",
   "metadata": {},
   "outputs": [],
   "source": [
    "f1=open(\"list element.txt\",\"w\")"
   ]
  },
  {
   "cell_type": "code",
   "execution_count": 16,
   "id": "07145502",
   "metadata": {},
   "outputs": [],
   "source": [
    "l=[1,2,3,4,5,7,8]"
   ]
  },
  {
   "cell_type": "code",
   "execution_count": 17,
   "id": "58ffafdc",
   "metadata": {},
   "outputs": [
    {
     "data": {
      "text/plain": [
       "21"
      ]
     },
     "execution_count": 17,
     "metadata": {},
     "output_type": "execute_result"
    }
   ],
   "source": [
    "f1.write(str(l))"
   ]
  },
  {
   "cell_type": "code",
   "execution_count": 18,
   "id": "25bacb09",
   "metadata": {},
   "outputs": [],
   "source": [
    "f1.close()"
   ]
  },
  {
   "cell_type": "code",
   "execution_count": 20,
   "id": "7614d31e",
   "metadata": {},
   "outputs": [
    {
     "name": "stdout",
     "output_type": "stream",
     "text": [
      " Volume in drive C has no label.\n",
      " Volume Serial Number is AA6A-72A1\n",
      "\n",
      " Directory of C:\\Users\\Student\n",
      "\n",
      "12-08-2022  23:16            10,863  Assignment 2.ipynb\n",
      "19-08-2022  06:41            52,677  challenge based on for,while,function.ipynb\n",
      "23-08-2022  11:11            13,132  exception Handling.ipynb\n",
      "22-08-2022  19:12            44,242  Function.ipynb\n",
      "13-08-2022  12:52            25,227  python while loop.ipynb\n",
      "16-08-2022  13:22            18,097  Task Based On Python For Loop.ipynb\n",
      "16-08-2022  11:06            10,757  TASK.ipynb\n",
      "07-09-2022  14:16    <DIR>          .\n",
      "19-07-2022  13:37    <DIR>          ..\n",
      "07-09-2022  14:06    <DIR>          .ipynb_checkpoints\n",
      "13-07-2022  10:51    <DIR>          .ipython\n",
      "13-07-2022  10:46    <DIR>          .jupyter\n",
      "19-08-2022  00:01                81 .python_history\n",
      "23-04-2022  19:12    <DIR>          3D Objects\n",
      "13-07-2022  10:09    <DIR>          anaconda3\n",
      "07-09-2022  14:03                93 assignment2\n",
      "19-07-2022  14:03    <DIR>          Contacts\n",
      "05-09-2022  22:47    <DIR>          Desktop\n",
      "29-08-2022  18:29    <DIR>          Documents\n",
      "06-09-2022  22:35    <DIR>          Downloads\n",
      "19-07-2022  14:03    <DIR>          Favorites\n",
      "20-08-2022  16:51    <DIR>          gou12\n",
      "24-07-2022  11:51             7,410 KRISHNA BIRADAR ASSIGNMENT #1.ipynb\n",
      "19-07-2022  14:03    <DIR>          Links\n",
      "07-09-2022  14:14                21 list element.txt\n",
      "19-07-2022  14:03    <DIR>          Music\n",
      "18-06-2022  01:29    <DIR>          OneDrive\n",
      "19-07-2022  14:03    <DIR>          Pictures\n",
      "08-08-2022  17:46            26,899 python class2.ipynb\n",
      "11-08-2022  17:58            37,471 python for loop.ipynb\n",
      "23-07-2022  17:14            10,413 python if,else,elif.ipynb\n",
      "28-07-2022  15:16            62,618 python list.ipynb\n",
      "16-07-2022  15:10           177,085 python string.ipynb\n",
      "19-07-2022  14:03    <DIR>          Saved Games\n",
      "19-07-2022  14:03    <DIR>          Searches\n",
      "22-07-2022  11:11             6,690 taks 2.ipynb\n",
      "16-07-2022  13:59    <DIR>          Untitled Folder\n",
      "16-07-2022  13:59    <DIR>          Untitled Folder 1\n",
      "13-07-2022  11:31               589 Untitled.ipynb\n",
      "22-07-2022  09:36             2,089 Untitled1.ipynb\n",
      "20-07-2022  15:52            27,726 Untitled10.ipynb\n",
      "22-07-2022  10:48             5,100 Untitled11.ipynb\n",
      "22-07-2022  20:57               900 Untitled12.ipynb\n",
      "23-07-2022  12:16             7,261 Untitled13.ipynb\n",
      "24-07-2022  11:23             7,454 Untitled14.ipynb\n",
      "26-07-2022  11:17             1,146 Untitled15.ipynb\n",
      "28-07-2022  15:13             9,428 Untitled16.ipynb\n",
      "03-08-2022  15:07             2,451 Untitled17.ipynb\n",
      "03-08-2022  16:51             1,777 Untitled18.ipynb\n",
      "03-08-2022  18:15             4,523 Untitled19.ipynb\n",
      "13-07-2022  15:02             7,317 Untitled2.ipynb\n",
      "05-08-2022  11:02             1,057 Untitled20.ipynb\n",
      "05-08-2022  16:01             1,722 Untitled21.ipynb\n",
      "07-08-2022  12:49            18,119 Untitled22.ipynb\n",
      "07-09-2022  14:16            33,266 Untitled23.ipynb\n",
      "13-07-2022  17:35             1,598 Untitled3.ipynb\n",
      "13-07-2022  18:04               589 Untitled4.ipynb\n",
      "14-07-2022  09:51            12,995 Untitled5.ipynb\n",
      "16-07-2022  09:48             6,176 Untitled6.ipynb\n",
      "16-07-2022  11:04               589 Untitled7.ipynb\n",
      "16-07-2022  12:31            62,478 Untitled8.ipynb\n",
      "16-07-2022  14:02               589 Untitled9.ipynb\n",
      "19-07-2022  14:03    <DIR>          Videos\n",
      "08-05-2022  00:34    <DIR>          Zotero\n",
      "              41 File(s)        720,715 bytes\n",
      "              23 Dir(s)  366,411,714,560 bytes free\n"
     ]
    }
   ],
   "source": [
    "ls\n"
   ]
  },
  {
   "cell_type": "code",
   "execution_count": 23,
   "id": "384cd1a5",
   "metadata": {},
   "outputs": [
    {
     "name": "stdout",
     "output_type": "stream",
     "text": [
      "Writing krishna.biradar\n"
     ]
    }
   ],
   "source": [
    "%%writefile krishna.biradar\n",
    "this is my first file handling operation\n",
    "this is my first file handling operation\n",
    "this is my first file handling operation\n",
    "this is my first file handling operation\n",
    "this is my first file handling operation"
   ]
  },
  {
   "cell_type": "code",
   "execution_count": 24,
   "id": "882cb479",
   "metadata": {},
   "outputs": [
    {
     "data": {
      "text/plain": [
       "'this is my first file handling operation\\nthis is my first file handling operation\\nthis is my first file handling operation\\nthis is my first file handling operation\\nthis is my first file handling operation\\n'"
      ]
     },
     "execution_count": 24,
     "metadata": {},
     "output_type": "execute_result"
    }
   ],
   "source": [
    "f=open(\"krishna.biradar\")\n",
    "f.read()"
   ]
  },
  {
   "cell_type": "code",
   "execution_count": 25,
   "id": "5835ee90",
   "metadata": {},
   "outputs": [],
   "source": [
    "k=open(\"list element.txt\")"
   ]
  },
  {
   "cell_type": "code",
   "execution_count": 26,
   "id": "1ed0cb88",
   "metadata": {},
   "outputs": [
    {
     "data": {
      "text/plain": [
       "'[1, 2, 3, 4, 5, 7, 8]'"
      ]
     },
     "execution_count": 26,
     "metadata": {},
     "output_type": "execute_result"
    }
   ],
   "source": [
    "k.read()"
   ]
  },
  {
   "cell_type": "code",
   "execution_count": 31,
   "id": "fc0143fd",
   "metadata": {},
   "outputs": [
    {
     "ename": "ValueError",
     "evalue": "underlying buffer has been detached",
     "output_type": "error",
     "traceback": [
      "\u001b[1;31m---------------------------------------------------------------------------\u001b[0m",
      "\u001b[1;31mValueError\u001b[0m                                Traceback (most recent call last)",
      "Input \u001b[1;32mIn [31]\u001b[0m, in \u001b[0;36m<cell line: 1>\u001b[1;34m()\u001b[0m\n\u001b[1;32m----> 1\u001b[0m \u001b[43mk\u001b[49m\u001b[38;5;241;43m.\u001b[39;49m\u001b[43mread\u001b[49m\u001b[43m(\u001b[49m\u001b[43m)\u001b[49m\n",
      "\u001b[1;31mValueError\u001b[0m: underlying buffer has been detached"
     ]
    }
   ],
   "source": [
    "k.read()"
   ]
  },
  {
   "cell_type": "code",
   "execution_count": 32,
   "id": "41107dfd",
   "metadata": {},
   "outputs": [
    {
     "data": {
      "text/plain": [
       "''"
      ]
     },
     "execution_count": 32,
     "metadata": {},
     "output_type": "execute_result"
    }
   ],
   "source": [
    "f.read()"
   ]
  },
  {
   "cell_type": "code",
   "execution_count": 36,
   "id": "79d1b98c",
   "metadata": {},
   "outputs": [
    {
     "data": {
      "text/plain": [
       "0"
      ]
     },
     "execution_count": 36,
     "metadata": {},
     "output_type": "execute_result"
    }
   ],
   "source": [
    "f.seek(0)"
   ]
  },
  {
   "cell_type": "code",
   "execution_count": 37,
   "id": "3453642c",
   "metadata": {},
   "outputs": [
    {
     "data": {
      "text/plain": [
       "'this is my first file handling operation\\nthis is my first file handling operation\\nthis is my first file handling operation\\nthis is my first file handling operation\\nthis is my first file handling operation\\n'"
      ]
     },
     "execution_count": 37,
     "metadata": {},
     "output_type": "execute_result"
    }
   ],
   "source": [
    "f.read()"
   ]
  },
  {
   "cell_type": "code",
   "execution_count": 38,
   "id": "13b094c6",
   "metadata": {},
   "outputs": [
    {
     "data": {
      "text/plain": [
       "''"
      ]
     },
     "execution_count": 38,
     "metadata": {},
     "output_type": "execute_result"
    }
   ],
   "source": [
    "f.read()"
   ]
  },
  {
   "cell_type": "code",
   "execution_count": 39,
   "id": "a3688dd1",
   "metadata": {},
   "outputs": [
    {
     "data": {
      "text/plain": [
       "3"
      ]
     },
     "execution_count": 39,
     "metadata": {},
     "output_type": "execute_result"
    }
   ],
   "source": [
    "f.seek(3)"
   ]
  },
  {
   "cell_type": "code",
   "execution_count": 40,
   "id": "f6dcf176",
   "metadata": {},
   "outputs": [
    {
     "data": {
      "text/plain": [
       "'s is my first file handling operation\\nthis is my first file handling operation\\nthis is my first file handling operation\\nthis is my first file handling operation\\nthis is my first file handling operation\\n'"
      ]
     },
     "execution_count": 40,
     "metadata": {},
     "output_type": "execute_result"
    }
   ],
   "source": [
    "f.read()"
   ]
  },
  {
   "cell_type": "code",
   "execution_count": 52,
   "id": "4e2e3a23",
   "metadata": {},
   "outputs": [],
   "source": [
    "f1=open(\"krishna.biradar\")"
   ]
  },
  {
   "cell_type": "code",
   "execution_count": 53,
   "id": "e4f7d20c",
   "metadata": {},
   "outputs": [
    {
     "data": {
      "text/plain": [
       "0"
      ]
     },
     "execution_count": 53,
     "metadata": {},
     "output_type": "execute_result"
    }
   ],
   "source": [
    "f1.tell()"
   ]
  },
  {
   "cell_type": "code",
   "execution_count": 54,
   "id": "8120c1b9",
   "metadata": {},
   "outputs": [
    {
     "data": {
      "text/plain": [
       "'this is my first file handling operation\\nthis is my first file handling operation\\nthis is my first file handling operation\\nthis is my first file handling operation\\nthis is my first file handling operation\\n'"
      ]
     },
     "execution_count": 54,
     "metadata": {},
     "output_type": "execute_result"
    }
   ],
   "source": [
    "f1.read()"
   ]
  },
  {
   "cell_type": "code",
   "execution_count": 55,
   "id": "f0a46845",
   "metadata": {},
   "outputs": [
    {
     "data": {
      "text/plain": [
       "210"
      ]
     },
     "execution_count": 55,
     "metadata": {},
     "output_type": "execute_result"
    }
   ],
   "source": [
    "f1.tell()"
   ]
  },
  {
   "cell_type": "code",
   "execution_count": 56,
   "id": "4ba9229c",
   "metadata": {},
   "outputs": [
    {
     "data": {
      "text/plain": [
       "55"
      ]
     },
     "execution_count": 56,
     "metadata": {},
     "output_type": "execute_result"
    }
   ],
   "source": [
    "f1.seek(55)"
   ]
  },
  {
   "cell_type": "code",
   "execution_count": 57,
   "id": "ee9c09e5",
   "metadata": {},
   "outputs": [
    {
     "data": {
      "text/plain": [
       "55"
      ]
     },
     "execution_count": 57,
     "metadata": {},
     "output_type": "execute_result"
    }
   ],
   "source": [
    "f1.tell()"
   ]
  },
  {
   "cell_type": "code",
   "execution_count": 58,
   "id": "5a976e8e",
   "metadata": {},
   "outputs": [
    {
     "data": {
      "text/plain": [
       "'rst file handling operation\\nthis is my first file handling operation\\nthis is my first file handling operation\\nthis is my first file handling operation\\n'"
      ]
     },
     "execution_count": 58,
     "metadata": {},
     "output_type": "execute_result"
    }
   ],
   "source": [
    "f1.read()"
   ]
  },
  {
   "cell_type": "code",
   "execution_count": 59,
   "id": "d0becf72",
   "metadata": {},
   "outputs": [
    {
     "data": {
      "text/plain": [
       "210"
      ]
     },
     "execution_count": 59,
     "metadata": {},
     "output_type": "execute_result"
    }
   ],
   "source": [
    "f1.tell()"
   ]
  },
  {
   "cell_type": "code",
   "execution_count": 63,
   "id": "243a7d41",
   "metadata": {},
   "outputs": [
    {
     "data": {
      "text/plain": [
       "0"
      ]
     },
     "execution_count": 63,
     "metadata": {},
     "output_type": "execute_result"
    }
   ],
   "source": [
    "f1.seek(0)"
   ]
  },
  {
   "cell_type": "code",
   "execution_count": 64,
   "id": "54143d71",
   "metadata": {},
   "outputs": [
    {
     "data": {
      "text/plain": [
       "'this is my first file handling operation\\nthis is my first file handling operation\\nthis is my first '"
      ]
     },
     "execution_count": 64,
     "metadata": {},
     "output_type": "execute_result"
    }
   ],
   "source": [
    "f1.read(99)"
   ]
  },
  {
   "cell_type": "code",
   "execution_count": 65,
   "id": "9ffd6eed",
   "metadata": {},
   "outputs": [
    {
     "data": {
      "text/plain": [
       "'file handling operation\\nthis is my first file handling operation\\nthis is my first file handling operation\\n'"
      ]
     },
     "execution_count": 65,
     "metadata": {},
     "output_type": "execute_result"
    }
   ],
   "source": [
    "f1.read()"
   ]
  },
  {
   "cell_type": "code",
   "execution_count": 67,
   "id": "d7ca8ad9",
   "metadata": {},
   "outputs": [
    {
     "data": {
      "text/plain": [
       "''"
      ]
     },
     "execution_count": 67,
     "metadata": {},
     "output_type": "execute_result"
    }
   ],
   "source": [
    "f1.read()"
   ]
  },
  {
   "cell_type": "code",
   "execution_count": 68,
   "id": "36336adb",
   "metadata": {},
   "outputs": [
    {
     "data": {
      "text/plain": [
       "0"
      ]
     },
     "execution_count": 68,
     "metadata": {},
     "output_type": "execute_result"
    }
   ],
   "source": [
    "f1.seek(0)"
   ]
  },
  {
   "cell_type": "code",
   "execution_count": 69,
   "id": "63bc5bb8",
   "metadata": {},
   "outputs": [
    {
     "data": {
      "text/plain": [
       "['this is my first file handling operation\\n',\n",
       " 'this is my first file handling operation\\n',\n",
       " 'this is my first file handling operation\\n',\n",
       " 'this is my first file handling operation\\n',\n",
       " 'this is my first file handling operation\\n']"
      ]
     },
     "execution_count": 69,
     "metadata": {},
     "output_type": "execute_result"
    }
   ],
   "source": [
    "f1.readlines()"
   ]
  },
  {
   "cell_type": "code",
   "execution_count": 71,
   "id": "8963a47e",
   "metadata": {},
   "outputs": [
    {
     "data": {
      "text/plain": [
       "''"
      ]
     },
     "execution_count": 71,
     "metadata": {},
     "output_type": "execute_result"
    }
   ],
   "source": [
    "f1.read()"
   ]
  },
  {
   "cell_type": "code",
   "execution_count": 72,
   "id": "66cca7a2",
   "metadata": {},
   "outputs": [
    {
     "data": {
      "text/plain": [
       "0"
      ]
     },
     "execution_count": 72,
     "metadata": {},
     "output_type": "execute_result"
    }
   ],
   "source": [
    "f1.seek(0)"
   ]
  },
  {
   "cell_type": "code",
   "execution_count": 74,
   "id": "b4e4cf51",
   "metadata": {},
   "outputs": [
    {
     "data": {
      "text/plain": [
       "'this is my first file handling operation\\n'"
      ]
     },
     "execution_count": 74,
     "metadata": {},
     "output_type": "execute_result"
    }
   ],
   "source": [
    "f1.readline()"
   ]
  },
  {
   "cell_type": "code",
   "execution_count": 76,
   "id": "fcb8cedf",
   "metadata": {},
   "outputs": [],
   "source": [
    "k=open(\"list element.txt\")"
   ]
  },
  {
   "cell_type": "code",
   "execution_count": 77,
   "id": "d21024b9",
   "metadata": {},
   "outputs": [
    {
     "data": {
      "text/plain": [
       "'[1, 2, 3, 4, 5, 7, 8]'"
      ]
     },
     "execution_count": 77,
     "metadata": {},
     "output_type": "execute_result"
    }
   ],
   "source": [
    "k.read()"
   ]
  },
  {
   "cell_type": "code",
   "execution_count": 78,
   "id": "8770c7c8",
   "metadata": {},
   "outputs": [
    {
     "data": {
      "text/plain": [
       "''"
      ]
     },
     "execution_count": 78,
     "metadata": {},
     "output_type": "execute_result"
    }
   ],
   "source": [
    "k.read()"
   ]
  },
  {
   "cell_type": "code",
   "execution_count": 79,
   "id": "303a78a6",
   "metadata": {},
   "outputs": [
    {
     "data": {
      "text/plain": [
       "0"
      ]
     },
     "execution_count": 79,
     "metadata": {},
     "output_type": "execute_result"
    }
   ],
   "source": [
    "k.seek(0)"
   ]
  },
  {
   "cell_type": "code",
   "execution_count": 88,
   "id": "6156c10b",
   "metadata": {},
   "outputs": [],
   "source": [
    "s=[1,2,4,6,6,7,8]"
   ]
  },
  {
   "cell_type": "code",
   "execution_count": 91,
   "id": "32577cd9",
   "metadata": {},
   "outputs": [
    {
     "name": "stdout",
     "output_type": "stream",
     "text": [
      "Overwriting biradar\n"
     ]
    }
   ],
   "source": [
    " %%writefile biradar\n",
    "    1,2,3,4"
   ]
  },
  {
   "cell_type": "code",
   "execution_count": 92,
   "id": "dbd23636",
   "metadata": {},
   "outputs": [
    {
     "ename": "NameError",
     "evalue": "name 'biradar' is not defined",
     "output_type": "error",
     "traceback": [
      "\u001b[1;31m---------------------------------------------------------------------------\u001b[0m",
      "\u001b[1;31mNameError\u001b[0m                                 Traceback (most recent call last)",
      "Input \u001b[1;32mIn [92]\u001b[0m, in \u001b[0;36m<cell line: 1>\u001b[1;34m()\u001b[0m\n\u001b[1;32m----> 1\u001b[0m \u001b[43mbiradar\u001b[49m\u001b[38;5;241m.\u001b[39mread\n",
      "\u001b[1;31mNameError\u001b[0m: name 'biradar' is not defined"
     ]
    }
   ],
   "source": [
    "biradar.read"
   ]
  },
  {
   "cell_type": "code",
   "execution_count": 136,
   "id": "c580bfcd",
   "metadata": {},
   "outputs": [],
   "source": [
    "s=open(\"biradar\",\"w+\")"
   ]
  },
  {
   "cell_type": "code",
   "execution_count": 137,
   "id": "506e0ac0",
   "metadata": {},
   "outputs": [
    {
     "data": {
      "text/plain": [
       "7"
      ]
     },
     "execution_count": 137,
     "metadata": {},
     "output_type": "execute_result"
    }
   ],
   "source": [
    "s.write(\"krishna\")"
   ]
  },
  {
   "cell_type": "code",
   "execution_count": 135,
   "id": "92b4a4e0",
   "metadata": {},
   "outputs": [
    {
     "data": {
      "text/plain": [
       "''"
      ]
     },
     "execution_count": 135,
     "metadata": {},
     "output_type": "execute_result"
    }
   ],
   "source": [
    "s.read()"
   ]
  },
  {
   "cell_type": "code",
   "execution_count": 127,
   "id": "a700d7b2",
   "metadata": {},
   "outputs": [],
   "source": [
    "s.close()"
   ]
  },
  {
   "cell_type": "code",
   "execution_count": 138,
   "id": "12d6d548",
   "metadata": {},
   "outputs": [
    {
     "data": {
      "text/plain": [
       "7"
      ]
     },
     "execution_count": 138,
     "metadata": {},
     "output_type": "execute_result"
    }
   ],
   "source": [
    "s.write(\"krishna\")"
   ]
  },
  {
   "cell_type": "code",
   "execution_count": 146,
   "id": "27f17a08",
   "metadata": {},
   "outputs": [
    {
     "data": {
      "text/plain": [
       "0"
      ]
     },
     "execution_count": 146,
     "metadata": {},
     "output_type": "execute_result"
    }
   ],
   "source": [
    "s.seek(0)"
   ]
  },
  {
   "cell_type": "code",
   "execution_count": 144,
   "id": "d754098e",
   "metadata": {},
   "outputs": [
    {
     "data": {
      "text/plain": [
       "'krishnakrishna'"
      ]
     },
     "execution_count": 144,
     "metadata": {},
     "output_type": "execute_result"
    }
   ],
   "source": [
    "s.read()"
   ]
  },
  {
   "cell_type": "code",
   "execution_count": 145,
   "id": "c4eb6aaf",
   "metadata": {},
   "outputs": [
    {
     "data": {
      "text/plain": [
       "5"
      ]
     },
     "execution_count": 145,
     "metadata": {},
     "output_type": "execute_result"
    }
   ],
   "source": [
    "s.write(\"fdkjf\")"
   ]
  },
  {
   "cell_type": "code",
   "execution_count": 147,
   "id": "bb0898cd",
   "metadata": {},
   "outputs": [
    {
     "data": {
      "text/plain": [
       "'krishnakrishnafdkjf'"
      ]
     },
     "execution_count": 147,
     "metadata": {},
     "output_type": "execute_result"
    }
   ],
   "source": [
    "s.read()"
   ]
  },
  {
   "cell_type": "code",
   "execution_count": 148,
   "id": "ef4d6a9b",
   "metadata": {},
   "outputs": [],
   "source": [
    "s.close()"
   ]
  },
  {
   "cell_type": "code",
   "execution_count": 149,
   "id": "d9bdee65",
   "metadata": {},
   "outputs": [
    {
     "name": "stdout",
     "output_type": "stream",
     "text": [
      " Volume in drive C has no label.\n",
      " Volume Serial Number is AA6A-72A1\n",
      "\n",
      " Directory of C:\\Users\\Student\n",
      "\n",
      "12-08-2022  23:16            10,863  Assignment 2.ipynb\n",
      "19-08-2022  06:41            52,677  challenge based on for,while,function.ipynb\n",
      "23-08-2022  11:11            13,132  exception Handling.ipynb\n",
      "22-08-2022  19:12            44,242  Function.ipynb\n",
      "13-08-2022  12:52            25,227  python while loop.ipynb\n",
      "16-08-2022  13:22            18,097  Task Based On Python For Loop.ipynb\n",
      "16-08-2022  11:06            10,757  TASK.ipynb\n",
      "07-09-2022  15:55    <DIR>          .\n",
      "19-07-2022  13:37    <DIR>          ..\n",
      "07-09-2022  14:06    <DIR>          .ipynb_checkpoints\n",
      "13-07-2022  10:51    <DIR>          .ipython\n",
      "13-07-2022  10:46    <DIR>          .jupyter\n",
      "19-08-2022  00:01                81 .python_history\n",
      "23-04-2022  19:12    <DIR>          3D Objects\n",
      "13-07-2022  10:09    <DIR>          anaconda3\n",
      "07-09-2022  14:03                93 assignment2\n",
      "07-09-2022  15:56                19 biradar\n",
      "19-07-2022  14:03    <DIR>          Contacts\n",
      "05-09-2022  22:47    <DIR>          Desktop\n",
      "29-08-2022  18:29    <DIR>          Documents\n",
      "06-09-2022  22:35    <DIR>          Downloads\n",
      "19-07-2022  14:03    <DIR>          Favorites\n",
      "20-08-2022  16:51    <DIR>          gou12\n",
      "24-07-2022  11:51             7,410 KRISHNA BIRADAR ASSIGNMENT #1.ipynb\n",
      "07-09-2022  14:28               210 krishna.biradar\n",
      "19-07-2022  14:03    <DIR>          Links\n",
      "07-09-2022  14:14                21 list element.txt\n",
      "19-07-2022  14:03    <DIR>          Music\n",
      "18-06-2022  01:29    <DIR>          OneDrive\n",
      "19-07-2022  14:03    <DIR>          Pictures\n",
      "08-08-2022  17:46            26,899 python class2.ipynb\n",
      "11-08-2022  17:58            37,471 python for loop.ipynb\n",
      "23-07-2022  17:14            10,413 python if,else,elif.ipynb\n",
      "28-07-2022  15:16            62,618 python list.ipynb\n",
      "16-07-2022  15:10           177,085 python string.ipynb\n",
      "19-07-2022  14:03    <DIR>          Saved Games\n",
      "19-07-2022  14:03    <DIR>          Searches\n",
      "22-07-2022  11:11             6,690 taks 2.ipynb\n",
      "16-07-2022  13:59    <DIR>          Untitled Folder\n",
      "16-07-2022  13:59    <DIR>          Untitled Folder 1\n",
      "13-07-2022  11:31               589 Untitled.ipynb\n",
      "22-07-2022  09:36             2,089 Untitled1.ipynb\n",
      "20-07-2022  15:52            27,726 Untitled10.ipynb\n",
      "22-07-2022  10:48             5,100 Untitled11.ipynb\n",
      "22-07-2022  20:57               900 Untitled12.ipynb\n",
      "23-07-2022  12:16             7,261 Untitled13.ipynb\n",
      "24-07-2022  11:23             7,454 Untitled14.ipynb\n",
      "26-07-2022  11:17             1,146 Untitled15.ipynb\n",
      "28-07-2022  15:13             9,428 Untitled16.ipynb\n",
      "03-08-2022  15:07             2,451 Untitled17.ipynb\n",
      "03-08-2022  16:51             1,777 Untitled18.ipynb\n",
      "03-08-2022  18:15             4,523 Untitled19.ipynb\n",
      "13-07-2022  15:02             7,317 Untitled2.ipynb\n",
      "05-08-2022  11:02             1,057 Untitled20.ipynb\n",
      "05-08-2022  16:01             1,722 Untitled21.ipynb\n",
      "07-08-2022  12:49            18,119 Untitled22.ipynb\n",
      "07-09-2022  15:55            48,857 Untitled23.ipynb\n",
      "13-07-2022  17:35             1,598 Untitled3.ipynb\n",
      "13-07-2022  18:04               589 Untitled4.ipynb\n",
      "14-07-2022  09:51            12,995 Untitled5.ipynb\n",
      "16-07-2022  09:48             6,176 Untitled6.ipynb\n",
      "16-07-2022  11:04               589 Untitled7.ipynb\n",
      "16-07-2022  12:31            62,478 Untitled8.ipynb\n",
      "16-07-2022  14:02               589 Untitled9.ipynb\n",
      "19-07-2022  14:03    <DIR>          Videos\n",
      "08-05-2022  00:34    <DIR>          Zotero\n",
      "              43 File(s)        736,535 bytes\n",
      "              23 Dir(s)  366,422,196,224 bytes free\n"
     ]
    }
   ],
   "source": [
    "ls"
   ]
  },
  {
   "cell_type": "code",
   "execution_count": 150,
   "id": "9bb25aab",
   "metadata": {},
   "outputs": [],
   "source": [
    "s=open(\"biradar\",\"w\")"
   ]
  },
  {
   "cell_type": "code",
   "execution_count": 151,
   "id": "93295399",
   "metadata": {},
   "outputs": [
    {
     "data": {
      "text/plain": [
       "9"
      ]
     },
     "execution_count": 151,
     "metadata": {},
     "output_type": "execute_result"
    }
   ],
   "source": [
    "s.write(\"uhwufhuhf\")"
   ]
  },
  {
   "cell_type": "code",
   "execution_count": 152,
   "id": "e5616cc5",
   "metadata": {},
   "outputs": [],
   "source": [
    "s.close()"
   ]
  },
  {
   "cell_type": "code",
   "execution_count": 154,
   "id": "abd83003",
   "metadata": {},
   "outputs": [
    {
     "ename": "ValueError",
     "evalue": "I/O operation on closed file.",
     "output_type": "error",
     "traceback": [
      "\u001b[1;31m---------------------------------------------------------------------------\u001b[0m",
      "\u001b[1;31mValueError\u001b[0m                                Traceback (most recent call last)",
      "Input \u001b[1;32mIn [154]\u001b[0m, in \u001b[0;36m<cell line: 1>\u001b[1;34m()\u001b[0m\n\u001b[1;32m----> 1\u001b[0m \u001b[43ms\u001b[49m\u001b[38;5;241;43m.\u001b[39;49m\u001b[43mread\u001b[49m\u001b[43m(\u001b[49m\u001b[43m)\u001b[49m\n",
      "\u001b[1;31mValueError\u001b[0m: I/O operation on closed file."
     ]
    }
   ],
   "source": [
    "s.read()"
   ]
  },
  {
   "cell_type": "code",
   "execution_count": 155,
   "id": "9169a786",
   "metadata": {},
   "outputs": [],
   "source": [
    "s=open(\"biradar\",\"a\")"
   ]
  },
  {
   "cell_type": "code",
   "execution_count": 156,
   "id": "634b154b",
   "metadata": {},
   "outputs": [
    {
     "data": {
      "text/plain": [
       "7"
      ]
     },
     "execution_count": 156,
     "metadata": {},
     "output_type": "execute_result"
    }
   ],
   "source": [
    "s.write(\"krishna\")"
   ]
  },
  {
   "cell_type": "code",
   "execution_count": 157,
   "id": "f2e8f85c",
   "metadata": {},
   "outputs": [],
   "source": [
    "s.close()"
   ]
  },
  {
   "cell_type": "code",
   "execution_count": 158,
   "id": "2fef8aaf",
   "metadata": {},
   "outputs": [],
   "source": [
    "s=open(\"biradar\",\"a\")"
   ]
  },
  {
   "cell_type": "code",
   "execution_count": 159,
   "id": "cc5b100f",
   "metadata": {},
   "outputs": [
    {
     "data": {
      "text/plain": [
       "7"
      ]
     },
     "execution_count": 159,
     "metadata": {},
     "output_type": "execute_result"
    }
   ],
   "source": [
    "s.write(\"biradar\")"
   ]
  },
  {
   "cell_type": "code",
   "execution_count": 161,
   "id": "39649f65",
   "metadata": {},
   "outputs": [],
   "source": [
    "s.close()"
   ]
  },
  {
   "cell_type": "code",
   "execution_count": 164,
   "id": "114f2f66",
   "metadata": {},
   "outputs": [
    {
     "data": {
      "text/plain": [
       "'krishna.biradar'"
      ]
     },
     "execution_count": 164,
     "metadata": {},
     "output_type": "execute_result"
    }
   ],
   "source": [
    "f.name"
   ]
  },
  {
   "cell_type": "code",
   "execution_count": 165,
   "id": "5bf35551",
   "metadata": {},
   "outputs": [
    {
     "data": {
      "text/plain": [
       "False"
      ]
     },
     "execution_count": 165,
     "metadata": {},
     "output_type": "execute_result"
    }
   ],
   "source": [
    "f.line_buffering"
   ]
  },
  {
   "cell_type": "code",
   "execution_count": 166,
   "id": "c755c27d",
   "metadata": {},
   "outputs": [
    {
     "data": {
      "text/plain": [
       "False"
      ]
     },
     "execution_count": 166,
     "metadata": {},
     "output_type": "execute_result"
    }
   ],
   "source": [
    "f.closed"
   ]
  },
  {
   "cell_type": "code",
   "execution_count": 168,
   "id": "c8e30bdc",
   "metadata": {},
   "outputs": [
    {
     "data": {
      "text/plain": [
       "'a'"
      ]
     },
     "execution_count": 168,
     "metadata": {},
     "output_type": "execute_result"
    }
   ],
   "source": [
    "s.mode"
   ]
  },
  {
   "cell_type": "code",
   "execution_count": 170,
   "id": "e8d1ed07",
   "metadata": {},
   "outputs": [
    {
     "data": {
      "text/plain": [
       "<function TextIOWrapper.detach()>"
      ]
     },
     "execution_count": 170,
     "metadata": {},
     "output_type": "execute_result"
    }
   ],
   "source": [
    "f.detach"
   ]
  },
  {
   "cell_type": "code",
   "execution_count": 171,
   "id": "48280044",
   "metadata": {},
   "outputs": [],
   "source": [
    "#map,#reduce,#filter"
   ]
  },
  {
   "cell_type": "code",
   "execution_count": 172,
   "id": "1d00e35a",
   "metadata": {},
   "outputs": [],
   "source": [
    "l=[2,3,4,5,6,7]"
   ]
  },
  {
   "cell_type": "code",
   "execution_count": 176,
   "id": "138717d6",
   "metadata": {},
   "outputs": [
    {
     "data": {
      "text/plain": [
       "[4, 9, 16, 25, 36, 49]"
      ]
     },
     "execution_count": 176,
     "metadata": {},
     "output_type": "execute_result"
    }
   ],
   "source": [
    "[i*i for i in l]"
   ]
  },
  {
   "cell_type": "code",
   "execution_count": 177,
   "id": "90ee4c4b",
   "metadata": {},
   "outputs": [],
   "source": [
    "from functools import reduce"
   ]
  },
  {
   "cell_type": "code",
   "execution_count": 178,
   "id": "74bac873",
   "metadata": {},
   "outputs": [],
   "source": [
    "l=[1,2,3,4,5,6,7]"
   ]
  },
  {
   "cell_type": "code",
   "execution_count": 179,
   "id": "b2c26933",
   "metadata": {},
   "outputs": [
    {
     "data": {
      "text/plain": [
       "28"
      ]
     },
     "execution_count": 179,
     "metadata": {},
     "output_type": "execute_result"
    }
   ],
   "source": [
    "sum(l)"
   ]
  },
  {
   "cell_type": "code",
   "execution_count": null,
   "id": "891944cd",
   "metadata": {},
   "outputs": [],
   "source": [
    "reduce()"
   ]
  },
  {
   "cell_type": "code",
   "execution_count": null,
   "id": "bcfb57bb",
   "metadata": {},
   "outputs": [],
   "source": []
  },
  {
   "cell_type": "code",
   "execution_count": null,
   "id": "dbd1f4da",
   "metadata": {},
   "outputs": [],
   "source": []
  }
 ],
 "metadata": {
  "kernelspec": {
   "display_name": "Python 3 (ipykernel)",
   "language": "python",
   "name": "python3"
  },
  "language_info": {
   "codemirror_mode": {
    "name": "ipython",
    "version": 3
   },
   "file_extension": ".py",
   "mimetype": "text/x-python",
   "name": "python",
   "nbconvert_exporter": "python",
   "pygments_lexer": "ipython3",
   "version": "3.9.12"
  }
 },
 "nbformat": 4,
 "nbformat_minor": 5
}
