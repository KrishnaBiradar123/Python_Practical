{
 "cells": [
  {
   "cell_type": "code",
   "execution_count": 7,
   "id": "b932144e",
   "metadata": {},
   "outputs": [
    {
     "name": "stdout",
     "output_type": "stream",
     "text": [
      "my name is krishna\n"
     ]
    }
   ],
   "source": [
    "print(\"my name is krishna\")"
   ]
  },
  {
   "cell_type": "code",
   "execution_count": 8,
   "id": "839e7c1c",
   "metadata": {},
   "outputs": [
    {
     "ename": "SyntaxError",
     "evalue": "invalid syntax (2271492378.py, line 1)",
     "output_type": "error",
     "traceback": [
      "\u001b[1;36m  Input \u001b[1;32mIn [8]\u001b[1;36m\u001b[0m\n\u001b[1;33m    print (my name is krishna)\u001b[0m\n\u001b[1;37m              ^\u001b[0m\n\u001b[1;31mSyntaxError\u001b[0m\u001b[1;31m:\u001b[0m invalid syntax\n"
     ]
    }
   ],
   "source": [
    "print (my name is krishna)"
   ]
  },
  {
   "cell_type": "code",
   "execution_count": 9,
   "id": "0e45690b",
   "metadata": {},
   "outputs": [
    {
     "ename": "SyntaxError",
     "evalue": "Missing parentheses in call to 'print'. Did you mean print(\"my name is krishna\")? (3984088674.py, line 1)",
     "output_type": "error",
     "traceback": [
      "\u001b[1;36m  Input \u001b[1;32mIn [9]\u001b[1;36m\u001b[0m\n\u001b[1;33m    print \"my name is krishna\"\u001b[0m\n\u001b[1;37m          ^\u001b[0m\n\u001b[1;31mSyntaxError\u001b[0m\u001b[1;31m:\u001b[0m Missing parentheses in call to 'print'. Did you mean print(\"my name is krishna\")?\n"
     ]
    }
   ],
   "source": [
    "print \"my name is krishna\""
   ]
  },
  {
   "cell_type": "code",
   "execution_count": 10,
   "id": "ebe076d4",
   "metadata": {},
   "outputs": [],
   "source": [
    "#this is my first programming class"
   ]
  },
  {
   "cell_type": "code",
   "execution_count": 11,
   "id": "c8f404cd",
   "metadata": {},
   "outputs": [
    {
     "data": {
      "text/plain": [
       "'\"ghirrii\\nrtuiut\\nvjhjhps\\nishgflsh\\nsjhdgsjf\\nshd,ksugh'"
      ]
     },
     "execution_count": 11,
     "metadata": {},
     "output_type": "execute_result"
    }
   ],
   "source": [
    "\"\"\"\"ghirrii\n",
    "rtuiut\n",
    "vjhjhps\n",
    "ishgflsh\n",
    "sjhdgsjf\n",
    "shd,ksugh\"\"\""
   ]
  },
  {
   "cell_type": "code",
   "execution_count": 12,
   "id": "c1dd84a9",
   "metadata": {},
   "outputs": [
    {
     "data": {
      "text/plain": [
       "'print(\"my name is krishna\")'"
      ]
     },
     "execution_count": 12,
     "metadata": {},
     "output_type": "execute_result"
    }
   ],
   "source": [
    "\"\"\"print(\"my name is krishna\")\"\"\""
   ]
  },
  {
   "cell_type": "code",
   "execution_count": 13,
   "id": "c867b0c7",
   "metadata": {},
   "outputs": [],
   "source": [
    "variable=10"
   ]
  },
  {
   "cell_type": "code",
   "execution_count": 14,
   "id": "e0cd3b55",
   "metadata": {},
   "outputs": [
    {
     "data": {
      "text/plain": [
       "10"
      ]
     },
     "execution_count": 14,
     "metadata": {},
     "output_type": "execute_result"
    }
   ],
   "source": [
    "variable"
   ]
  },
  {
   "cell_type": "code",
   "execution_count": 15,
   "id": "9734eb61",
   "metadata": {},
   "outputs": [],
   "source": [
    "a=10"
   ]
  },
  {
   "cell_type": "code",
   "execution_count": 16,
   "id": "6cd8d0ed",
   "metadata": {},
   "outputs": [
    {
     "data": {
      "text/plain": [
       "10"
      ]
     },
     "execution_count": 16,
     "metadata": {},
     "output_type": "execute_result"
    }
   ],
   "source": [
    "a"
   ]
  },
  {
   "cell_type": "code",
   "execution_count": 17,
   "id": "3791eecd",
   "metadata": {},
   "outputs": [],
   "source": [
    "b=\"1234\""
   ]
  },
  {
   "cell_type": "code",
   "execution_count": 18,
   "id": "88ac941b",
   "metadata": {},
   "outputs": [
    {
     "data": {
      "text/plain": [
       "'1234'"
      ]
     },
     "execution_count": 18,
     "metadata": {},
     "output_type": "execute_result"
    }
   ],
   "source": [
    "b"
   ]
  },
  {
   "cell_type": "code",
   "execution_count": 19,
   "id": "4095ca33",
   "metadata": {},
   "outputs": [
    {
     "name": "stdout",
     "output_type": "stream",
     "text": [
      "1234\n"
     ]
    }
   ],
   "source": [
    "print(b)"
   ]
  },
  {
   "cell_type": "code",
   "execution_count": 20,
   "id": "e875b7f1",
   "metadata": {},
   "outputs": [
    {
     "data": {
      "text/plain": [
       "str"
      ]
     },
     "execution_count": 20,
     "metadata": {},
     "output_type": "execute_result"
    }
   ],
   "source": [
    "type(b)"
   ]
  },
  {
   "cell_type": "code",
   "execution_count": 21,
   "id": "47d9efd3",
   "metadata": {},
   "outputs": [
    {
     "data": {
      "text/plain": [
       "int"
      ]
     },
     "execution_count": 21,
     "metadata": {},
     "output_type": "execute_result"
    }
   ],
   "source": [
    "type(a)"
   ]
  },
  {
   "cell_type": "code",
   "execution_count": 22,
   "id": "086559bc",
   "metadata": {},
   "outputs": [
    {
     "ename": "SyntaxError",
     "evalue": "invalid syntax (507430187.py, line 1)",
     "output_type": "error",
     "traceback": [
      "\u001b[1;36m  Input \u001b[1;32mIn [22]\u001b[1;36m\u001b[0m\n\u001b[1;33m    1b=\"fhfgdh\"\u001b[0m\n\u001b[1;37m     ^\u001b[0m\n\u001b[1;31mSyntaxError\u001b[0m\u001b[1;31m:\u001b[0m invalid syntax\n"
     ]
    }
   ],
   "source": [
    "1b=\"fhfgdh\""
   ]
  },
  {
   "cell_type": "code",
   "execution_count": 23,
   "id": "ff0b7e8a",
   "metadata": {},
   "outputs": [],
   "source": [
    "b1=\"sfsf\""
   ]
  },
  {
   "cell_type": "code",
   "execution_count": 24,
   "id": "a6ebe9f8",
   "metadata": {},
   "outputs": [
    {
     "data": {
      "text/plain": [
       "'sfsf'"
      ]
     },
     "execution_count": 24,
     "metadata": {},
     "output_type": "execute_result"
    }
   ],
   "source": [
    "b1"
   ]
  },
  {
   "cell_type": "code",
   "execution_count": 25,
   "id": "b81faea2",
   "metadata": {},
   "outputs": [],
   "source": [
    "b1=2132435"
   ]
  },
  {
   "cell_type": "code",
   "execution_count": 26,
   "id": "8f6634e6",
   "metadata": {},
   "outputs": [
    {
     "data": {
      "text/plain": [
       "int"
      ]
     },
     "execution_count": 26,
     "metadata": {},
     "output_type": "execute_result"
    }
   ],
   "source": [
    "type(b1)"
   ]
  },
  {
   "cell_type": "code",
   "execution_count": 27,
   "id": "cc043416",
   "metadata": {},
   "outputs": [
    {
     "data": {
      "text/plain": [
       "2132435"
      ]
     },
     "execution_count": 27,
     "metadata": {},
     "output_type": "execute_result"
    }
   ],
   "source": [
    "b1"
   ]
  },
  {
   "cell_type": "code",
   "execution_count": 28,
   "id": "75f8cd61",
   "metadata": {},
   "outputs": [
    {
     "ename": "SyntaxError",
     "evalue": "invalid syntax (1060613509.py, line 1)",
     "output_type": "error",
     "traceback": [
      "\u001b[1;36m  Input \u001b[1;32mIn [28]\u001b[1;36m\u001b[0m\n\u001b[1;33m    1b=13535\u001b[0m\n\u001b[1;37m     ^\u001b[0m\n\u001b[1;31mSyntaxError\u001b[0m\u001b[1;31m:\u001b[0m invalid syntax\n"
     ]
    }
   ],
   "source": [
    "1b=13535"
   ]
  },
  {
   "cell_type": "code",
   "execution_count": 29,
   "id": "9f6c7063",
   "metadata": {},
   "outputs": [],
   "source": [
    "\n",
    "a,b,c=1,\"krishna\",43646"
   ]
  },
  {
   "cell_type": "code",
   "execution_count": 30,
   "id": "2fa63fd6",
   "metadata": {},
   "outputs": [
    {
     "name": "stdout",
     "output_type": "stream",
     "text": [
      "1 krishna 43646\n"
     ]
    }
   ],
   "source": [
    "print(a,b,c)"
   ]
  },
  {
   "cell_type": "code",
   "execution_count": 31,
   "id": "ba0ee31b",
   "metadata": {},
   "outputs": [],
   "source": [
    "_b=134153"
   ]
  },
  {
   "cell_type": "code",
   "execution_count": 32,
   "id": "8f1ccbf0",
   "metadata": {},
   "outputs": [
    {
     "data": {
      "text/plain": [
       "134153"
      ]
     },
     "execution_count": 32,
     "metadata": {},
     "output_type": "execute_result"
    }
   ],
   "source": [
    "_b"
   ]
  },
  {
   "cell_type": "code",
   "execution_count": 33,
   "id": "f3507fcb",
   "metadata": {},
   "outputs": [],
   "source": [
    "a=1.5646"
   ]
  },
  {
   "cell_type": "code",
   "execution_count": 34,
   "id": "4417c93c",
   "metadata": {},
   "outputs": [
    {
     "data": {
      "text/plain": [
       "float"
      ]
     },
     "execution_count": 34,
     "metadata": {},
     "output_type": "execute_result"
    }
   ],
   "source": [
    "type(a)"
   ]
  },
  {
   "cell_type": "code",
   "execution_count": 35,
   "id": "f8c9b024",
   "metadata": {},
   "outputs": [],
   "source": [
    "a=True\n",
    "b=False"
   ]
  },
  {
   "cell_type": "code",
   "execution_count": 36,
   "id": "57eec53b",
   "metadata": {},
   "outputs": [
    {
     "data": {
      "text/plain": [
       "bool"
      ]
     },
     "execution_count": 36,
     "metadata": {},
     "output_type": "execute_result"
    }
   ],
   "source": [
    "type(a)"
   ]
  },
  {
   "cell_type": "code",
   "execution_count": 37,
   "id": "845e8ce5",
   "metadata": {},
   "outputs": [
    {
     "data": {
      "text/plain": [
       "bool"
      ]
     },
     "execution_count": 37,
     "metadata": {},
     "output_type": "execute_result"
    }
   ],
   "source": [
    "type(b)"
   ]
  },
  {
   "cell_type": "code",
   "execution_count": 38,
   "id": "ae31d93e",
   "metadata": {},
   "outputs": [
    {
     "name": "stdout",
     "output_type": "stream",
     "text": [
      "4\n",
      "0\n"
     ]
    }
   ],
   "source": [
    "print(True+True+True+False+True)\n",
    "print(False-True+True)"
   ]
  },
  {
   "cell_type": "code",
   "execution_count": 39,
   "id": "8a0c4948",
   "metadata": {},
   "outputs": [
    {
     "data": {
      "text/plain": [
       "1"
      ]
     },
     "execution_count": 39,
     "metadata": {},
     "output_type": "execute_result"
    }
   ],
   "source": [
    "True*True"
   ]
  },
  {
   "cell_type": "code",
   "execution_count": 40,
   "id": "2d1073ec",
   "metadata": {},
   "outputs": [
    {
     "ename": "ZeroDivisionError",
     "evalue": "division by zero",
     "output_type": "error",
     "traceback": [
      "\u001b[1;31m---------------------------------------------------------------------------\u001b[0m",
      "\u001b[1;31mZeroDivisionError\u001b[0m                         Traceback (most recent call last)",
      "Input \u001b[1;32mIn [40]\u001b[0m, in \u001b[0;36m<cell line: 1>\u001b[1;34m()\u001b[0m\n\u001b[1;32m----> 1\u001b[0m \u001b[38;5;28;43;01mTrue\u001b[39;49;00m\u001b[38;5;241;43m/\u001b[39;49m\u001b[38;5;28;43;01mFalse\u001b[39;49;00m\n",
      "\u001b[1;31mZeroDivisionError\u001b[0m: division by zero"
     ]
    }
   ],
   "source": [
    "True/False"
   ]
  },
  {
   "cell_type": "code",
   "execution_count": 41,
   "id": "1de4cc81",
   "metadata": {},
   "outputs": [],
   "source": [
    "n=426+2476j"
   ]
  },
  {
   "cell_type": "code",
   "execution_count": 42,
   "id": "f5e61e6a",
   "metadata": {},
   "outputs": [
    {
     "data": {
      "text/plain": [
       "complex"
      ]
     },
     "execution_count": 42,
     "metadata": {},
     "output_type": "execute_result"
    }
   ],
   "source": [
    "type(n)"
   ]
  },
  {
   "cell_type": "code",
   "execution_count": 43,
   "id": "3234afce",
   "metadata": {},
   "outputs": [
    {
     "data": {
      "text/plain": [
       "(426+2476j)"
      ]
     },
     "execution_count": 43,
     "metadata": {},
     "output_type": "execute_result"
    }
   ],
   "source": [
    "n"
   ]
  },
  {
   "cell_type": "code",
   "execution_count": 44,
   "id": "8acb23b2",
   "metadata": {},
   "outputs": [
    {
     "data": {
      "text/plain": [
       "426.0"
      ]
     },
     "execution_count": 44,
     "metadata": {},
     "output_type": "execute_result"
    }
   ],
   "source": [
    "n.real"
   ]
  },
  {
   "cell_type": "code",
   "execution_count": 45,
   "id": "9d7000a5",
   "metadata": {},
   "outputs": [
    {
     "data": {
      "text/plain": [
       "2476.0"
      ]
     },
     "execution_count": 45,
     "metadata": {},
     "output_type": "execute_result"
    }
   ],
   "source": [
    "n.imag"
   ]
  },
  {
   "cell_type": "code",
   "execution_count": 46,
   "id": "2dee78a8",
   "metadata": {},
   "outputs": [],
   "source": [
    "m=764+27436j"
   ]
  },
  {
   "cell_type": "code",
   "execution_count": 47,
   "id": "728f324c",
   "metadata": {},
   "outputs": [
    {
     "data": {
      "text/plain": [
       "(-67606072+13579400j)"
      ]
     },
     "execution_count": 47,
     "metadata": {},
     "output_type": "execute_result"
    }
   ],
   "source": [
    "m*n"
   ]
  },
  {
   "cell_type": "code",
   "execution_count": 48,
   "id": "5f6ffd0f",
   "metadata": {},
   "outputs": [
    {
     "data": {
      "text/plain": [
       "(-67606072+13579400j)"
      ]
     },
     "execution_count": 48,
     "metadata": {},
     "output_type": "execute_result"
    }
   ],
   "source": [
    "n*m"
   ]
  },
  {
   "cell_type": "code",
   "execution_count": 49,
   "id": "d3e20b1f",
   "metadata": {},
   "outputs": [
    {
     "ename": "TypeError",
     "evalue": "unsupported operand type(s) for +: 'int' and 'str'",
     "output_type": "error",
     "traceback": [
      "\u001b[1;31m---------------------------------------------------------------------------\u001b[0m",
      "\u001b[1;31mTypeError\u001b[0m                                 Traceback (most recent call last)",
      "Input \u001b[1;32mIn [49]\u001b[0m, in \u001b[0;36m<cell line: 1>\u001b[1;34m()\u001b[0m\n\u001b[1;32m----> 1\u001b[0m \u001b[38;5;241;43m1\u001b[39;49m\u001b[38;5;241;43m+\u001b[39;49m\u001b[38;5;124;43m\"\u001b[39;49m\u001b[38;5;124;43mkrish\u001b[39;49m\u001b[38;5;124;43m\"\u001b[39;49m\n",
      "\u001b[1;31mTypeError\u001b[0m: unsupported operand type(s) for +: 'int' and 'str'"
     ]
    }
   ],
   "source": [
    "1+\"krish\""
   ]
  },
  {
   "cell_type": "code",
   "execution_count": 50,
   "id": "8b380f7b",
   "metadata": {},
   "outputs": [
    {
     "data": {
      "text/plain": [
       "'1krishna'"
      ]
     },
     "execution_count": 50,
     "metadata": {},
     "output_type": "execute_result"
    }
   ],
   "source": [
    "\"1\"+\"krishna\""
   ]
  },
  {
   "cell_type": "code",
   "execution_count": 51,
   "id": "1119f3c3",
   "metadata": {},
   "outputs": [
    {
     "data": {
      "text/plain": [
       "'1kdydy'"
      ]
     },
     "execution_count": 51,
     "metadata": {},
     "output_type": "execute_result"
    }
   ],
   "source": [
    "str(1)+\"kdydy\""
   ]
  },
  {
   "cell_type": "code",
   "execution_count": 52,
   "id": "898251ce",
   "metadata": {},
   "outputs": [
    {
     "data": {
      "text/plain": [
       "1"
      ]
     },
     "execution_count": 52,
     "metadata": {},
     "output_type": "execute_result"
    }
   ],
   "source": [
    "1"
   ]
  },
  {
   "cell_type": "code",
   "execution_count": 53,
   "id": "40376cef",
   "metadata": {},
   "outputs": [
    {
     "data": {
      "text/plain": [
       "2.24"
      ]
     },
     "execution_count": 53,
     "metadata": {},
     "output_type": "execute_result"
    }
   ],
   "source": [
    "1+1.24"
   ]
  },
  {
   "cell_type": "code",
   "execution_count": 54,
   "id": "8a1f48f4",
   "metadata": {},
   "outputs": [
    {
     "data": {
      "text/plain": [
       "'krishnnakdfufhudfhdhfjd'"
      ]
     },
     "execution_count": 54,
     "metadata": {},
     "output_type": "execute_result"
    }
   ],
   "source": [
    "\"krishnna\"+\"kdfufhu\"+\"dfhdhfjd\""
   ]
  },
  {
   "cell_type": "code",
   "execution_count": 55,
   "id": "8e75868c",
   "metadata": {},
   "outputs": [
    {
     "data": {
      "text/plain": [
       "'krishnakrishnakrishna'"
      ]
     },
     "execution_count": 55,
     "metadata": {},
     "output_type": "execute_result"
    }
   ],
   "source": [
    "\"krishna\"*3"
   ]
  },
  {
   "cell_type": "code",
   "execution_count": 56,
   "id": "f7180e60",
   "metadata": {},
   "outputs": [
    {
     "ename": "TypeError",
     "evalue": "can't multiply sequence by non-int of type 'str'",
     "output_type": "error",
     "traceback": [
      "\u001b[1;31m---------------------------------------------------------------------------\u001b[0m",
      "\u001b[1;31mTypeError\u001b[0m                                 Traceback (most recent call last)",
      "Input \u001b[1;32mIn [56]\u001b[0m, in \u001b[0;36m<cell line: 1>\u001b[1;34m()\u001b[0m\n\u001b[1;32m----> 1\u001b[0m \u001b[38;5;124;43m\"\u001b[39;49m\u001b[38;5;124;43mkrishna\u001b[39;49m\u001b[38;5;124;43m\"\u001b[39;49m\u001b[38;5;241;43m*\u001b[39;49m\u001b[38;5;124;43m\"\u001b[39;49m\u001b[38;5;124;43mkrishna\u001b[39;49m\u001b[38;5;124;43m\"\u001b[39;49m\n",
      "\u001b[1;31mTypeError\u001b[0m: can't multiply sequence by non-int of type 'str'"
     ]
    }
   ],
   "source": [
    "\"krishna\"*\"krishna\""
   ]
  },
  {
   "cell_type": "code",
   "execution_count": 57,
   "id": "211d72d4",
   "metadata": {},
   "outputs": [],
   "source": [
    "a=10"
   ]
  },
  {
   "cell_type": "code",
   "execution_count": 58,
   "id": "5ca3166d",
   "metadata": {},
   "outputs": [
    {
     "name": "stdout",
     "output_type": "stream",
     "text": [
      "entter your name\n"
     ]
    }
   ],
   "source": [
    "a=input(\"entter your name\")"
   ]
  },
  {
   "cell_type": "code",
   "execution_count": 59,
   "id": "cd5b2b81",
   "metadata": {},
   "outputs": [
    {
     "data": {
      "text/plain": [
       "str"
      ]
     },
     "execution_count": 59,
     "metadata": {},
     "output_type": "execute_result"
    }
   ],
   "source": [
    "type(a)"
   ]
  },
  {
   "cell_type": "code",
   "execution_count": 60,
   "id": "d7a1c5c5",
   "metadata": {},
   "outputs": [
    {
     "data": {
      "text/plain": [
       "str"
      ]
     },
     "execution_count": 60,
     "metadata": {},
     "output_type": "execute_result"
    }
   ],
   "source": [
    "type(a)"
   ]
  },
  {
   "cell_type": "code",
   "execution_count": 61,
   "id": "47174441",
   "metadata": {},
   "outputs": [
    {
     "name": "stdout",
     "output_type": "stream",
     "text": [
      "\n"
     ]
    },
    {
     "ename": "ValueError",
     "evalue": "invalid literal for int() with base 10: ''",
     "output_type": "error",
     "traceback": [
      "\u001b[1;31m---------------------------------------------------------------------------\u001b[0m",
      "\u001b[1;31mValueError\u001b[0m                                Traceback (most recent call last)",
      "Input \u001b[1;32mIn [61]\u001b[0m, in \u001b[0;36m<cell line: 1>\u001b[1;34m()\u001b[0m\n\u001b[1;32m----> 1\u001b[0m a\u001b[38;5;241m=\u001b[39m\u001b[38;5;28;43mint\u001b[39;49m\u001b[43m(\u001b[49m\u001b[38;5;28;43minput\u001b[39;49m\u001b[43m(\u001b[49m\u001b[43m)\u001b[49m\u001b[43m)\u001b[49m\n\u001b[0;32m      2\u001b[0m b\u001b[38;5;241m=\u001b[39m\u001b[38;5;28mint\u001b[39m(\u001b[38;5;28minput\u001b[39m())\n\u001b[0;32m      3\u001b[0m c\u001b[38;5;241m=\u001b[39m\u001b[38;5;28mint\u001b[39m(\u001b[38;5;28minput\u001b[39m())\n",
      "\u001b[1;31mValueError\u001b[0m: invalid literal for int() with base 10: ''"
     ]
    }
   ],
   "source": [
    "a=int(input())\n",
    "b=int(input())\n",
    "c=int(input())\n",
    "(a+b)/c\n",
    "3.4+69+84j\n",
    "str(72.4+84j)+\"krishna\""
   ]
  },
  {
   "cell_type": "code",
   "execution_count": 62,
   "id": "25463481",
   "metadata": {},
   "outputs": [
    {
     "data": {
      "text/plain": [
       "(72.4+84j)"
      ]
     },
     "execution_count": 62,
     "metadata": {},
     "output_type": "execute_result"
    }
   ],
   "source": [
    "3.4+69+84j"
   ]
  },
  {
   "cell_type": "code",
   "execution_count": 63,
   "id": "7f2e3ba9",
   "metadata": {},
   "outputs": [
    {
     "data": {
      "text/plain": [
       "'(72.4+84j)krishna'"
      ]
     },
     "execution_count": 63,
     "metadata": {},
     "output_type": "execute_result"
    }
   ],
   "source": [
    "str(72.4+84j)+\"krishna\""
   ]
  },
  {
   "cell_type": "code",
   "execution_count": 65,
   "id": "41cf1314",
   "metadata": {},
   "outputs": [
    {
     "name": "stdout",
     "output_type": "stream",
     "text": [
      "enter a input2\n",
      "entered value is correct\n",
      "given statement is wrong\n"
     ]
    }
   ],
   "source": [
    "a=int(input(\"enter a input\"))\n",
    "if a<50:\n",
    "    print('entered value is correct')\n",
    "print(\"given statement is wrong\")"
   ]
  },
  {
   "cell_type": "code",
   "execution_count": 67,
   "id": "02de685d",
   "metadata": {},
   "outputs": [
    {
     "name": "stdout",
     "output_type": "stream",
     "text": [
      "enter salary2000\n",
      "i will go for nothing\n"
     ]
    }
   ],
   "source": [
    "salary=int(input(\"enter salary\"))\n",
    "if salary<1000:\n",
    "    print(\"i will buy a car\")\n",
    "    if True:\n",
    "        print(\"given statement is wrong\")\n",
    "elif salary <500:\n",
    "    print(\"i will go for a bike\")\n",
    "elif salary<100:\n",
    "    print(\"i will not buy anything\")\n",
    "else:\n",
    "    print(\"i will go for nothing\")"
   ]
  },
  {
   "cell_type": "code",
   "execution_count": 68,
   "id": "ddeacdcc",
   "metadata": {},
   "outputs": [
    {
     "data": {
      "text/plain": [
       "False"
      ]
     },
     "execution_count": 68,
     "metadata": {},
     "output_type": "execute_result"
    }
   ],
   "source": [
    "salary<1000"
   ]
  },
  {
   "cell_type": "code",
   "execution_count": 69,
   "id": "9ee0981d",
   "metadata": {},
   "outputs": [
    {
     "data": {
      "text/plain": [
       "True"
      ]
     },
     "execution_count": 69,
     "metadata": {},
     "output_type": "execute_result"
    }
   ],
   "source": [
    "salary>1000"
   ]
  },
  {
   "cell_type": "code",
   "execution_count": 79,
   "id": "0b140334",
   "metadata": {},
   "outputs": [],
   "source": [
    "a=30\n",
    "b=40\n",
    "\n",
    "if a==10 and b==20:\n",
    "    print(\"given statement is true\")"
   ]
  },
  {
   "cell_type": "code",
   "execution_count": 80,
   "id": "e93ae448",
   "metadata": {},
   "outputs": [
    {
     "name": "stdout",
     "output_type": "stream",
     "text": [
      "given statement either wrong or true\n"
     ]
    }
   ],
   "source": [
    "if a==10 and b<=20:\n",
    "    print('given statement is wrong')\n",
    "elif a>=10 and b==20:\n",
    "    print(\"given statement is correct\")\n",
    "else :\n",
    "    print(\"given statement either wrong or true\")"
   ]
  },
  {
   "cell_type": "code",
   "execution_count": 92,
   "id": "3ee49fd9",
   "metadata": {},
   "outputs": [
    {
     "name": "stdout",
     "output_type": "stream",
     "text": [
      "biradar\n",
      "krishna\n",
      "statement is invalid\n"
     ]
    }
   ],
   "source": [
    "firstname=input()\n",
    "lastname=input()\n",
    "if firstname==\"biradar\" and lastname==\"biradar\":\n",
    "    print('given statement is false')\n",
    "elif firstname==\"krishna\" or lastname==\"Biradar\":\n",
    "    print(\"given statement is true\")\n",
    "else:\n",
    "    print(\"statement is invalid\")"
   ]
  },
  {
   "cell_type": "code",
   "execution_count": 4,
   "id": "447965e6",
   "metadata": {},
   "outputs": [
    {
     "name": "stdout",
     "output_type": "stream",
     "text": [
      "This is my speed\n",
      "This is my speed\n",
      "This is my speed\n",
      "This is my speed\n",
      "This is my speed\n",
      "This is my speed\n",
      "This is my speed\n",
      "This is my speed\n",
      "This is my speed\n"
     ]
    }
   ],
   "source": [
    "initial_speed=0\n",
    "final_speed=100\n",
    "count=1\n",
    "while initial_speed <= final_speed:\n",
    "    print(\"This is my speed\")\n",
    "    count=count+1\n",
    "    if count==10:\n",
    "        break"
   ]
  },
  {
   "cell_type": "code",
   "execution_count": null,
   "id": "62beef00",
   "metadata": {},
   "outputs": [],
   "source": [
    "i=2\n",
    "b=6\n",
    "while i<b:\n",
    "    print(\"struck\")\n",
    "    i=i+1\n",
    "    "
   ]
  },
  {
   "cell_type": "code",
   "execution_count": 1,
   "id": "11af484f",
   "metadata": {},
   "outputs": [
    {
     "name": "stdout",
     "output_type": "stream",
     "text": [
      "1\n",
      "2\n",
      "3\n",
      "4\n",
      "no 10 rs notes\n"
     ]
    }
   ],
   "source": [
    "notes=5\n",
    "i=1\n",
    "while i<notes:\n",
    "    print(i)\n",
    "    i=i+1\n",
    "else:\n",
    "    print(\"no 10 rs notes\")"
   ]
  },
  {
   "cell_type": "code",
   "execution_count": 6,
   "id": "e66c61c2",
   "metadata": {},
   "outputs": [
    {
     "name": "stdout",
     "output_type": "stream",
     "text": [
      "100\n",
      "given statement is wrong\n",
      "120\n",
      "given statement is wrong\n",
      "140\n",
      "given statement is wrong\n",
      "160\n",
      "given statement is wrong\n"
     ]
    }
   ],
   "source": [
    "a=10\n",
    "b=100\n",
    "c=300\n",
    "while a<b:\n",
    "    print(b)\n",
    "    b=b+20\n",
    "    print(\"given statement is wrong\")\n",
    "    if b==180:\n",
    "        break\n",
    "         \n",
    "else:\n",
    "    while b<c:\n",
    "        print(c)\n",
    "        c=c-10\n",
    "        print(\"given statement is true\")\n",
    "\n",
    "    "
   ]
  },
  {
   "cell_type": "code",
   "execution_count": null,
   "id": "e64ed92e",
   "metadata": {},
   "outputs": [],
   "source": []
  },
  {
   "cell_type": "code",
   "execution_count": null,
   "id": "a5ca9609",
   "metadata": {},
   "outputs": [],
   "source": []
  },
  {
   "cell_type": "code",
   "execution_count": null,
   "id": "f0d64dff",
   "metadata": {},
   "outputs": [],
   "source": []
  },
  {
   "cell_type": "code",
   "execution_count": null,
   "id": "f8a20604",
   "metadata": {},
   "outputs": [],
   "source": []
  },
  {
   "cell_type": "code",
   "execution_count": null,
   "id": "75b698d7",
   "metadata": {},
   "outputs": [],
   "source": []
  },
  {
   "cell_type": "code",
   "execution_count": null,
   "id": "7eb13a2b",
   "metadata": {},
   "outputs": [],
   "source": [
    "\n"
   ]
  }
 ],
 "metadata": {
  "kernelspec": {
   "display_name": "Python 3 (ipykernel)",
   "language": "python",
   "name": "python3"
  },
  "language_info": {
   "codemirror_mode": {
    "name": "ipython",
    "version": 3
   },
   "file_extension": ".py",
   "mimetype": "text/x-python",
   "name": "python",
   "nbconvert_exporter": "python",
   "pygments_lexer": "ipython3",
   "version": "3.9.12"
  }
 },
 "nbformat": 4,
 "nbformat_minor": 5
}
