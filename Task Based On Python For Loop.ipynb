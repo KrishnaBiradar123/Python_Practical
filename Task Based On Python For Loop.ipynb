{
 "cells": [
  {
   "cell_type": "markdown",
   "id": "2703c914",
   "metadata": {},
   "source": [
    "# task based on python for loop\n"
   ]
  },
  {
   "cell_type": "markdown",
   "id": "79c0036f",
   "metadata": {},
   "source": [
    "Question #1 "
   ]
  },
  {
   "cell_type": "code",
   "execution_count": 29,
   "id": "e09400a4",
   "metadata": {},
   "outputs": [
    {
     "name": "stdout",
     "output_type": "stream",
     "text": [
      "ineuron \n",
      "\n",
      "ineuron ineuron \n",
      "\n",
      "ineuron ineuron ineuron \n",
      "\n",
      "ineuron ineuron ineuron ineuron \n",
      "\n"
     ]
    }
   ],
   "source": [
    "n=4\n",
    "for i in range(4):\n",
    "    for j in range(0,i+1):\n",
    "        print(\"ineuron\",end=\" \")\n",
    "    print(\"\\n\")\n",
    "    "
   ]
  },
  {
   "cell_type": "code",
   "execution_count": 51,
   "id": "f0316a79",
   "metadata": {},
   "outputs": [
    {
     "name": "stdout",
     "output_type": "stream",
     "text": [
      "enter number--4\n",
      "ineuron   \n",
      "\n",
      "ineuron  ineuron   \n",
      "\n",
      "ineuron  ineuron  ineuron   \n",
      "\n",
      "ineuron  ineuron  ineuron  ineuron   \n",
      "\n"
     ]
    }
   ],
   "source": [
    "n=int(input(\"enter number--\"))\n",
    "for i in range(n):\n",
    "    print(\"ineuron  \"*(i+1),end=\" \")\n",
    "    print(\"\\n\")\n",
    "\n"
   ]
  },
  {
   "cell_type": "markdown",
   "id": "def8fa85",
   "metadata": {},
   "source": [
    "Question #2"
   ]
  },
  {
   "cell_type": "code",
   "execution_count": 62,
   "id": "d194ad06",
   "metadata": {},
   "outputs": [
    {
     "name": "stdout",
     "output_type": "stream",
     "text": [
      "\t\t ineuron\n",
      "\t ineuron\tineuron\t\n",
      "ineuron \tineuron \tineuron \t\n",
      "\t ineuron\tineuron\t\n",
      "\t\t ineuron\n"
     ]
    }
   ],
   "source": [
    "for i in range(1):\n",
    "    print(\"\\t\"*2,\"ineuron\")\n",
    "for i in range(1):\n",
    "    print(\"\\t\",\"ineuron\\t\"*2)\n",
    "for i in range(1): \n",
    "    print(\"ineuron \\t\"*3)\n",
    "for i in range(1):\n",
    "    print(\"\\t\",\"ineuron\\t\"*2)\n",
    "for i in range(1):\n",
    "    print(\"\\t\"*2,\"ineuron\")\n",
    " "
   ]
  },
  {
   "cell_type": "code",
   "execution_count": 81,
   "id": "1819eaa3",
   "metadata": {},
   "outputs": [
    {
     "name": "stdout",
     "output_type": "stream",
     "text": [
      "                              \n",
      "          ineuron             \n",
      "      ineuron  ineuron        \n",
      " ineuron  ineuron  ineuron    \n",
      "      ineuron  ineuron        \n",
      "          ineuron             \n"
     ]
    }
   ],
   "source": [
    "for i in range(6):\n",
    "    if i<=3:\n",
    "        n=i\n",
    "    else:\n",
    "        n=6-i\n",
    "    print((\"ineuron  \"*n).center(30,\" \"))    \n",
    "    "
   ]
  },
  {
   "cell_type": "code",
   "execution_count": 82,
   "id": "b27d9b21",
   "metadata": {},
   "outputs": [],
   "source": [
    "l = [[1,2,3,4] , (2,3,4,5,6) , (3,4,5,6,7) , set([23,4,5,45,4,4,5,45,45,4,5]) , {'k1' :\"sudh\" , \"k2\" : \"ineuron\",\"k3\":\n",
    "            \"kumar\" , 3:6 , 7:8} , [\"ineuron\" , \"data science \"]]\n"
   ]
  },
  {
   "cell_type": "markdown",
   "id": "a03c9c51",
   "metadata": {},
   "source": [
    "Question#3: try to extract all the list enttity."
   ]
  },
  {
   "cell_type": "code",
   "execution_count": 85,
   "id": "5f91c625",
   "metadata": {},
   "outputs": [
    {
     "name": "stdout",
     "output_type": "stream",
     "text": [
      "[1, 2, 3, 4]\n",
      "['ineuron', 'data science ']\n"
     ]
    }
   ],
   "source": [
    "for i in l:\n",
    "    if type(i)==list:\n",
    "        print(i)    "
   ]
  },
  {
   "cell_type": "markdown",
   "id": "5069280d",
   "metadata": {},
   "source": [
    "Question#4: try to extract all the dict entities."
   ]
  },
  {
   "cell_type": "code",
   "execution_count": 28,
   "id": "464f5d66",
   "metadata": {},
   "outputs": [
    {
     "name": "stdout",
     "output_type": "stream",
     "text": [
      "{'k1': 'sudh', 'k2': 'ineuron', 'k3': 'kumar', 3: 6, 7: 8}\n"
     ]
    }
   ],
   "source": [
    "for i in l:\n",
    "    if type(i)==dict:\n",
    "        print(i)\n",
    "    "
   ]
  },
  {
   "cell_type": "markdown",
   "id": "79972940",
   "metadata": {},
   "source": [
    "Question#5: try to extract all the tuple enttities."
   ]
  },
  {
   "cell_type": "code",
   "execution_count": 90,
   "id": "f9b3255a",
   "metadata": {},
   "outputs": [],
   "source": [
    "l1=[]"
   ]
  },
  {
   "cell_type": "code",
   "execution_count": 91,
   "id": "38726555",
   "metadata": {},
   "outputs": [
    {
     "name": "stdout",
     "output_type": "stream",
     "text": [
      "(2, 3, 4, 5, 6)\n",
      "(3, 4, 5, 6, 7)\n",
      "(45, 4, 5, 23)\n"
     ]
    }
   ],
   "source": [
    "for i in l:\n",
    "    if type(i)==tuple:\n",
    "        l1.append(i)\n",
    "    if type(i)==set:\n",
    "        l1.append(tuple(i)) \n",
    "for i in l1:\n",
    "    print(i)\n",
    "     "
   ]
  },
  {
   "cell_type": "markdown",
   "id": "5b1d3098",
   "metadata": {},
   "source": [
    "Question#6: try to extract all the numerical data it may be a part of dict key and values."
   ]
  },
  {
   "cell_type": "code",
   "execution_count": 99,
   "id": "b9cb197c",
   "metadata": {},
   "outputs": [
    {
     "data": {
      "text/plain": [
       "[[1, 2, 3, 4],\n",
       " (2, 3, 4, 5, 6),\n",
       " (3, 4, 5, 6, 7),\n",
       " {4, 5, 23, 45},\n",
       " {'k1': 'sudh', 'k2': 'ineuron', 'k3': 'kumar', 3: 6, 7: 8},\n",
       " ['ineuron', 'data science ']]"
      ]
     },
     "execution_count": 99,
     "metadata": {},
     "output_type": "execute_result"
    }
   ],
   "source": [
    "l"
   ]
  },
  {
   "cell_type": "code",
   "execution_count": 128,
   "id": "35bc7349",
   "metadata": {},
   "outputs": [],
   "source": [
    "l1=[]\n",
    "for i in l:\n",
    "    if type(i)==list or type(i)==tuple or type(i)==set:\n",
    "        for j in i:\n",
    "            if type(j)==int:\n",
    "                l1.append(j)\n",
    "for k in l:\n",
    "    if type(k)==dict:\n",
    "        for j in k:\n",
    "            if type(j)==int or type(j)==str:\n",
    "                l1.append(j)\n",
    "                l1.append(k[j])"
   ]
  },
  {
   "cell_type": "code",
   "execution_count": 129,
   "id": "e6786a1d",
   "metadata": {},
   "outputs": [
    {
     "data": {
      "text/plain": [
       "[1,\n",
       " 2,\n",
       " 3,\n",
       " 4,\n",
       " 2,\n",
       " 3,\n",
       " 4,\n",
       " 5,\n",
       " 6,\n",
       " 3,\n",
       " 4,\n",
       " 5,\n",
       " 6,\n",
       " 7,\n",
       " 45,\n",
       " 4,\n",
       " 5,\n",
       " 23,\n",
       " 'k1',\n",
       " 'sudh',\n",
       " 'k2',\n",
       " 'ineuron',\n",
       " 'k3',\n",
       " 'kumar',\n",
       " 3,\n",
       " 6,\n",
       " 7,\n",
       " 8]"
      ]
     },
     "execution_count": 129,
     "metadata": {},
     "output_type": "execute_result"
    }
   ],
   "source": [
    "l1"
   ]
  },
  {
   "cell_type": "markdown",
   "id": "f298649b",
   "metadata": {},
   "source": [
    "Question#7:try to give summation of all the numerical data"
   ]
  },
  {
   "cell_type": "code",
   "execution_count": 117,
   "id": "bad18a8b",
   "metadata": {},
   "outputs": [
    {
     "data": {
      "text/plain": [
       "[1, 2, 3, 4, 2, 3, 4, 5, 6, 3, 4, 5, 6, 7, 45, 4, 5, 23, 3, 6, 7, 8]"
      ]
     },
     "execution_count": 117,
     "metadata": {},
     "output_type": "execute_result"
    }
   ],
   "source": [
    "l1"
   ]
  },
  {
   "cell_type": "code",
   "execution_count": 119,
   "id": "a4fb7cd6",
   "metadata": {},
   "outputs": [
    {
     "data": {
      "text/plain": [
       "156"
      ]
     },
     "execution_count": 119,
     "metadata": {},
     "output_type": "execute_result"
    }
   ],
   "source": [
    "sum(l1)"
   ]
  },
  {
   "cell_type": "markdown",
   "id": "5cc18b85",
   "metadata": {},
   "source": [
    "Question#8:try to extract all the odd values from the numerical outcome>"
   ]
  },
  {
   "cell_type": "code",
   "execution_count": 120,
   "id": "091d7a41",
   "metadata": {},
   "outputs": [
    {
     "data": {
      "text/plain": [
       "[1, 2, 3, 4, 2, 3, 4, 5, 6, 3, 4, 5, 6, 7, 45, 4, 5, 23, 3, 6, 7, 8]"
      ]
     },
     "execution_count": 120,
     "metadata": {},
     "output_type": "execute_result"
    }
   ],
   "source": [
    "l1"
   ]
  },
  {
   "cell_type": "code",
   "execution_count": 126,
   "id": "c1b088d0",
   "metadata": {},
   "outputs": [],
   "source": [
    "l2=[]\n",
    "for i in l1:\n",
    "    if i%2==0:\n",
    "        pass\n",
    "    else:\n",
    "        l2.append(i)"
   ]
  },
  {
   "cell_type": "code",
   "execution_count": 127,
   "id": "74ba4bbd",
   "metadata": {},
   "outputs": [
    {
     "data": {
      "text/plain": [
       "[1, 3, 3, 5, 3, 5, 7, 45, 5, 23, 3, 7]"
      ]
     },
     "execution_count": 127,
     "metadata": {},
     "output_type": "execute_result"
    }
   ],
   "source": [
    "l2"
   ]
  },
  {
   "cell_type": "markdown",
   "id": "bdc96641",
   "metadata": {},
   "source": [
    "Question#9: try to extract \"ineuron\" out of this data."
   ]
  },
  {
   "cell_type": "code",
   "execution_count": 107,
   "id": "b0a93e67",
   "metadata": {},
   "outputs": [
    {
     "data": {
      "text/plain": [
       "('ineuron', 'ineuron')"
      ]
     },
     "execution_count": 107,
     "metadata": {},
     "output_type": "execute_result"
    }
   ],
   "source": [
    "l[5][0],l[4][\"k2\"]\n",
    "    "
   ]
  },
  {
   "cell_type": "code",
   "execution_count": 115,
   "id": "227cc31b",
   "metadata": {},
   "outputs": [
    {
     "name": "stdout",
     "output_type": "stream",
     "text": [
      "ineuron\n",
      "ineuron\n"
     ]
    }
   ],
   "source": [
    "for i in l:\n",
    "    if type(i)==list:\n",
    "        for j in i:\n",
    "            if j=='ineuron':\n",
    "                print(j)\n",
    "    if type(i)==dict:\n",
    "        for j in i:\n",
    "            if i[j]==\"ineuron\":\n",
    "                print(i[j])\n",
    "            "
   ]
  },
  {
   "cell_type": "markdown",
   "id": "eb1184b5",
   "metadata": {},
   "source": [
    "Question#10:try to find out number of occurances of all the data."
   ]
  },
  {
   "cell_type": "code",
   "execution_count": 130,
   "id": "5392c948",
   "metadata": {},
   "outputs": [
    {
     "data": {
      "text/plain": [
       "[1,\n",
       " 2,\n",
       " 3,\n",
       " 4,\n",
       " 2,\n",
       " 3,\n",
       " 4,\n",
       " 5,\n",
       " 6,\n",
       " 3,\n",
       " 4,\n",
       " 5,\n",
       " 6,\n",
       " 7,\n",
       " 45,\n",
       " 4,\n",
       " 5,\n",
       " 23,\n",
       " 'k1',\n",
       " 'sudh',\n",
       " 'k2',\n",
       " 'ineuron',\n",
       " 'k3',\n",
       " 'kumar',\n",
       " 3,\n",
       " 6,\n",
       " 7,\n",
       " 8]"
      ]
     },
     "execution_count": 130,
     "metadata": {},
     "output_type": "execute_result"
    }
   ],
   "source": [
    "l1"
   ]
  },
  {
   "cell_type": "code",
   "execution_count": 135,
   "id": "9e054733",
   "metadata": {},
   "outputs": [
    {
     "name": "stdout",
     "output_type": "stream",
     "text": [
      "1 : 1\n",
      "2 : 2\n",
      "3 : 4\n",
      "4 : 4\n",
      "2 : 2\n",
      "3 : 4\n",
      "4 : 4\n",
      "5 : 3\n",
      "6 : 3\n",
      "3 : 4\n",
      "4 : 4\n",
      "5 : 3\n",
      "6 : 3\n",
      "7 : 2\n",
      "45 : 1\n",
      "4 : 4\n",
      "5 : 3\n",
      "23 : 1\n",
      "k1 : 1\n",
      "sudh : 1\n",
      "k2 : 1\n",
      "ineuron : 1\n",
      "k3 : 1\n",
      "kumar : 1\n",
      "3 : 4\n",
      "6 : 3\n",
      "7 : 2\n",
      "8 : 1\n"
     ]
    }
   ],
   "source": [
    "for i in l1:\n",
    "    print(i,\":\",l1.count(i))"
   ]
  },
  {
   "cell_type": "markdown",
   "id": "1f9271f8",
   "metadata": {},
   "source": [
    "Question#11:try to find out number of keys in dict element."
   ]
  },
  {
   "cell_type": "code",
   "execution_count": 232,
   "id": "4a646e7a",
   "metadata": {},
   "outputs": [],
   "source": [
    "l[4]\n",
    "a=l[4]\n"
   ]
  },
  {
   "cell_type": "code",
   "execution_count": 233,
   "id": "d6f98aaa",
   "metadata": {},
   "outputs": [
    {
     "data": {
      "text/plain": [
       "5"
      ]
     },
     "execution_count": 233,
     "metadata": {},
     "output_type": "execute_result"
    }
   ],
   "source": [
    "len(a.keys())"
   ]
  },
  {
   "cell_type": "markdown",
   "id": "83873a15",
   "metadata": {},
   "source": [
    "Question#12:  try to filter out all the string data."
   ]
  },
  {
   "cell_type": "code",
   "execution_count": 234,
   "id": "0048408a",
   "metadata": {},
   "outputs": [
    {
     "data": {
      "text/plain": [
       "[[1, 2, 3, 4],\n",
       " (2, 3, 4, 5, 6),\n",
       " (3, 4, 5, 6, 7),\n",
       " {4, 5, 23, 45},\n",
       " {'k1': 'sudh', 'k2': 'ineuron', 'k3': 'kumar', 3: 6, 7: 8},\n",
       " ['ineuron', 'data science ']]"
      ]
     },
     "execution_count": 234,
     "metadata": {},
     "output_type": "execute_result"
    }
   ],
   "source": [
    "l"
   ]
  },
  {
   "cell_type": "code",
   "execution_count": 245,
   "id": "a9dd1964",
   "metadata": {},
   "outputs": [
    {
     "name": "stdout",
     "output_type": "stream",
     "text": [
      "k1\n",
      "sudh\n",
      "k2\n",
      "ineuron\n",
      "k3\n",
      "kumar\n",
      "ineuron\n",
      "data science \n"
     ]
    }
   ],
   "source": [
    "for i in l:\n",
    "    if type(i)==dict:\n",
    "        for j in i:\n",
    "            if type(j)==str:\n",
    "                print(j)\n",
    "                print(i[j])\n",
    "    if type(i)==list:\n",
    "        for j in i:\n",
    "            if type(j)==str:\n",
    "                print(j)"
   ]
  },
  {
   "cell_type": "markdown",
   "id": "f3f72cf4",
   "metadata": {},
   "source": [
    "Question#13:try to find out the alphanum in data:"
   ]
  },
  {
   "cell_type": "code",
   "execution_count": 246,
   "id": "00dbf667",
   "metadata": {},
   "outputs": [
    {
     "data": {
      "text/plain": [
       "[[1, 2, 3, 4],\n",
       " (2, 3, 4, 5, 6),\n",
       " (3, 4, 5, 6, 7),\n",
       " {4, 5, 23, 45},\n",
       " {'k1': 'sudh', 'k2': 'ineuron', 'k3': 'kumar', 3: 6, 7: 8},\n",
       " ['ineuron', 'data science ']]"
      ]
     },
     "execution_count": 246,
     "metadata": {},
     "output_type": "execute_result"
    }
   ],
   "source": [
    "l"
   ]
  },
  {
   "cell_type": "code",
   "execution_count": 137,
   "id": "35be4d6d",
   "metadata": {},
   "outputs": [
    {
     "name": "stdout",
     "output_type": "stream",
     "text": [
      "k1\n",
      "sudh\n",
      "k2\n",
      "ineuron\n",
      "k3\n",
      "kumar\n"
     ]
    }
   ],
   "source": [
    "for i in l1:\n",
    "     if type(i)==str:\n",
    "            if i.isalnum():\n",
    "                print(i)"
   ]
  },
  {
   "cell_type": "markdown",
   "id": "0ba53585",
   "metadata": {},
   "source": [
    "Question#14:try to find out multiplication of all. "
   ]
  },
  {
   "cell_type": "code",
   "execution_count": 138,
   "id": "9833e0f8",
   "metadata": {},
   "outputs": [
    {
     "data": {
      "text/plain": [
       "[1,\n",
       " 2,\n",
       " 3,\n",
       " 4,\n",
       " 2,\n",
       " 3,\n",
       " 4,\n",
       " 5,\n",
       " 6,\n",
       " 3,\n",
       " 4,\n",
       " 5,\n",
       " 6,\n",
       " 7,\n",
       " 45,\n",
       " 4,\n",
       " 5,\n",
       " 23,\n",
       " 'k1',\n",
       " 'sudh',\n",
       " 'k2',\n",
       " 'ineuron',\n",
       " 'k3',\n",
       " 'kumar',\n",
       " 3,\n",
       " 6,\n",
       " 7,\n",
       " 8]"
      ]
     },
     "execution_count": 138,
     "metadata": {},
     "output_type": "execute_result"
    }
   ],
   "source": [
    "l1"
   ]
  },
  {
   "cell_type": "code",
   "execution_count": 139,
   "id": "e4acca99",
   "metadata": {},
   "outputs": [
    {
     "name": "stdout",
     "output_type": "stream",
     "text": [
      "1\n",
      "2\n",
      "3\n",
      "4\n",
      "2\n",
      "3\n",
      "4\n",
      "5\n",
      "6\n",
      "3\n",
      "4\n",
      "5\n",
      "6\n",
      "7\n",
      "45\n",
      "4\n",
      "5\n",
      "23\n",
      "3\n",
      "6\n",
      "7\n",
      "8\n"
     ]
    }
   ],
   "source": [
    "l2=[]\n",
    "for i in l1:\n",
    "    if type(i)==int:\n",
    "        \n",
    "        print(i)"
   ]
  },
  {
   "cell_type": "code",
   "execution_count": 23,
   "id": "4da8d85e",
   "metadata": {},
   "outputs": [
    {
     "data": {
      "text/plain": [
       "(234, 243)"
      ]
     },
     "execution_count": 23,
     "metadata": {},
     "output_type": "execute_result"
    }
   ],
   "source": [
    "l[5][0],list(l[6].keys())[1]\n",
    " "
   ]
  },
  {
   "cell_type": "code",
   "execution_count": 25,
   "id": "6c566f09",
   "metadata": {},
   "outputs": [
    {
     "data": {
      "text/plain": [
       "['name', 243]"
      ]
     },
     "execution_count": 25,
     "metadata": {},
     "output_type": "execute_result"
    }
   ],
   "source": [
    "list(l[6].keys())"
   ]
  },
  {
   "cell_type": "code",
   "execution_count": null,
   "id": "2459027b",
   "metadata": {},
   "outputs": [],
   "source": []
  }
 ],
 "metadata": {
  "kernelspec": {
   "display_name": "Python 3 (ipykernel)",
   "language": "python",
   "name": "python3"
  },
  "language_info": {
   "codemirror_mode": {
    "name": "ipython",
    "version": 3
   },
   "file_extension": ".py",
   "mimetype": "text/x-python",
   "name": "python",
   "nbconvert_exporter": "python",
   "pygments_lexer": "ipython3",
   "version": "3.9.12"
  }
 },
 "nbformat": 4,
 "nbformat_minor": 5
}
