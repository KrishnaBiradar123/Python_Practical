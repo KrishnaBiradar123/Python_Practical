{
 "cells": [
  {
   "cell_type": "code",
   "execution_count": null,
   "id": "a01e5b2a",
   "metadata": {},
   "outputs": [],
   "source": [
    "k=20"
   ]
  },
  {
   "cell_type": "code",
   "execution_count": null,
   "id": "0c2ec964",
   "metadata": {},
   "outputs": [],
   "source": [
    "if k==20:\n",
    "    print(\"this my first condition\")"
   ]
  },
  {
   "cell_type": "code",
   "execution_count": null,
   "id": "9ce74985",
   "metadata": {},
   "outputs": [],
   "source": [
    "if k==21:\n",
    "    print(\"this is my first condition\")"
   ]
  },
  {
   "cell_type": "code",
   "execution_count": null,
   "id": "d21cd211",
   "metadata": {},
   "outputs": [],
   "source": [
    "if k>10:\n",
    "    pass"
   ]
  },
  {
   "cell_type": "markdown",
   "id": "7731d3a4",
   "metadata": {},
   "source": [
    "if k=20:\n",
    "    print(\"krishna\")   we have to write == because it is comparision. and = is assigning. and : should be written. and reserved(pass) key should be used while there is no need of body."
   ]
  },
  {
   "cell_type": "code",
   "execution_count": null,
   "id": "d510a709",
   "metadata": {},
   "outputs": [],
   "source": [
    "if k<8:\n",
    "    print(\"satement is false\")"
   ]
  },
  {
   "cell_type": "code",
   "execution_count": null,
   "id": "f4ce7f7c",
   "metadata": {},
   "outputs": [],
   "source": [
    "if k==23:\n",
    "    print(\"statemet is true\")\n",
    "else:\n",
    "    print(\"statement is false\")"
   ]
  },
  {
   "cell_type": "code",
   "execution_count": null,
   "id": "0b3015ce",
   "metadata": {},
   "outputs": [],
   "source": [
    "if k>86:\n",
    "    print(\"statement is true\")\n",
    "else:\n",
    "    print(\"statement is faalse\")"
   ]
  },
  {
   "cell_type": "code",
   "execution_count": null,
   "id": "1f6bcd74",
   "metadata": {},
   "outputs": [],
   "source": [
    "if k==20:\n",
    "    print(\"statement is true\")\n",
    "else:\n",
    "    print(\"statement is false\")"
   ]
  },
  {
   "cell_type": "code",
   "execution_count": null,
   "id": "1d0732be",
   "metadata": {},
   "outputs": [],
   "source": [
    "k=20"
   ]
  },
  {
   "cell_type": "code",
   "execution_count": null,
   "id": "4615b14e",
   "metadata": {},
   "outputs": [],
   "source": [
    "if k==22:\n",
    "    print(\"we are tring to compare k=22 and k=20\")\n",
    "elif k==20:\n",
    "    print(\"we are trying to compare k=20 and k=20\")\n",
    "else:\n",
    "    print(\"we are trying to compare k=45 and k=30\")"
   ]
  },
  {
   "cell_type": "code",
   "execution_count": null,
   "id": "304564b0",
   "metadata": {},
   "outputs": [],
   "source": [
    "if k>20:\n",
    "    print(\"statement 1 is true\")\n",
    "elif k!=20:\n",
    "    print(\"statement 2 is true\")\n",
    "else:\n",
    "    print(\"statement 3 is true\")"
   ]
  },
  {
   "cell_type": "code",
   "execution_count": null,
   "id": "d7b9eaa5",
   "metadata": {},
   "outputs": [],
   "source": [
    "if k>10:\n",
    "    print(\"{1,2,3,4[234,456,45.67]}\")\n",
    "else :\n",
    "    print(\"my name is krishna\")"
   ]
  },
  {
   "cell_type": "code",
   "execution_count": null,
   "id": "a4a1153f",
   "metadata": {},
   "outputs": [],
   "source": [
    "price = 999"
   ]
  },
  {
   "cell_type": "code",
   "execution_count": null,
   "id": "79e842e7",
   "metadata": {},
   "outputs": [],
   "source": [
    "if price<999:\n",
    "    print(\"i am able to buy a shirt\")\n",
    "elif price>999:\n",
    "    print(\"i will try to buy a shirt\")\n",
    "elif price==999:\n",
    "    print(\"i will definately buy a shirt\")\n",
    "else:\n",
    "    print(\"i will not buy any shirt\")"
   ]
  },
  {
   "cell_type": "code",
   "execution_count": null,
   "id": "ea8dcb84",
   "metadata": {},
   "outputs": [],
   "source": [
    "l=[1,2,3,4,5,6,7,8,9]"
   ]
  },
  {
   "cell_type": "code",
   "execution_count": null,
   "id": "65e67ab7",
   "metadata": {},
   "outputs": [],
   "source": [
    "min(l)"
   ]
  },
  {
   "cell_type": "code",
   "execution_count": null,
   "id": "31687268",
   "metadata": {},
   "outputs": [],
   "source": [
    "max(l)"
   ]
  },
  {
   "cell_type": "code",
   "execution_count": null,
   "id": "4f7a3fc1",
   "metadata": {},
   "outputs": [],
   "source": [
    "2 in l"
   ]
  },
  {
   "cell_type": "code",
   "execution_count": null,
   "id": "79ff187c",
   "metadata": {},
   "outputs": [],
   "source": [
    "if max(l)==2:\n",
    "    print(\"then the above list is true\")\n",
    "elif min(l)==1:\n",
    "    print(\"then the above list is true\")"
   ]
  },
  {
   "cell_type": "code",
   "execution_count": null,
   "id": "2893e9ef",
   "metadata": {},
   "outputs": [],
   "source": [
    "if 22 in l:\n",
    "    print(\"l is list of even numbers\")\n",
    "elif 34 in l:\n",
    "    print(\"l is list of odd numbers\")\n",
    "else:\n",
    "    print(\"l is list of natural numbers\")"
   ]
  },
  {
   "cell_type": "code",
   "execution_count": null,
   "id": "4cfbacdc",
   "metadata": {},
   "outputs": [],
   "source": [
    "if 14 in l:\n",
    "    print(\"statement 1 is true\")\n",
    "elif 3 in l:\n",
    "    print(\"statement 2 is true\")\n",
    "elif 4 in l:\n",
    "    print(\"statement 3 is true\")\n",
    "if 2 in l:\n",
    "    print(\"statement 4 is true\")\n"
   ]
  },
  {
   "cell_type": "code",
   "execution_count": null,
   "id": "77152695",
   "metadata": {},
   "outputs": [],
   "source": [
    "petrolprice= input()"
   ]
  },
  {
   "cell_type": "code",
   "execution_count": null,
   "id": "8496c757",
   "metadata": {},
   "outputs": [],
   "source": [
    "petrolprice"
   ]
  },
  {
   "cell_type": "code",
   "execution_count": null,
   "id": "0837bc3e",
   "metadata": {},
   "outputs": [],
   "source": [
    "petrolprice=int(input())"
   ]
  },
  {
   "cell_type": "code",
   "execution_count": null,
   "id": "b44710bb",
   "metadata": {},
   "outputs": [],
   "source": [
    "petrolprice"
   ]
  },
  {
   "cell_type": "code",
   "execution_count": 2,
   "id": "e2d1bd31",
   "metadata": {},
   "outputs": [
    {
     "name": "stdout",
     "output_type": "stream",
     "text": [
      "10\n",
      "i will pour only 1l petrol\n",
      "i will pour petrol only 2l.\n"
     ]
    }
   ],
   "source": [
    "p=int(input())\n",
    "if p<100:\n",
    "    print(\"i will pour only 1l petrol\")\n",
    "    if p<90:\n",
    "        print(\"i will pour petrol only 2l.\")\n",
    "    elif p<80:\n",
    "        print(\"i will pour full tank to my bike\")\n",
    "    else:\n",
    "        print(\"i wont pour any petrol\")\n",
    "else:\n",
    "    print(\"i will not even think of it\")"
   ]
  },
  {
   "cell_type": "code",
   "execution_count": 7,
   "id": "c7c32237",
   "metadata": {},
   "outputs": [
    {
     "name": "stdout",
     "output_type": "stream",
     "text": [
      "452\n",
      "i can clear taffale\n"
     ]
    }
   ],
   "source": [
    "marks= int(input())\n",
    "if marks>600:\n",
    "    print(\"i can clear GRE\")\n",
    "elif marks<500:\n",
    "    print(\"i can clear taffale\")\n",
    "elif marks<400:\n",
    "    print(\"i will try something\")\n",
    "else:\n",
    "    print(\"i will try it next year\")"
   ]
  },
  {
   "cell_type": "code",
   "execution_count": 8,
   "id": "bd7b21ba",
   "metadata": {},
   "outputs": [
    {
     "name": "stdout",
     "output_type": "stream",
     "text": [
      "2\n",
      "entered value is'POSITIVE'\n"
     ]
    }
   ],
   "source": [
    "val = float(input())\n",
    "if val>=0:\n",
    "    if val>0:\n",
    "        print(\"entered value is'POSITIVE'\")\n",
    "    else :\n",
    "        print(\"entered value is 'ZERO'\")\n",
    "else:\n",
    "    print(\"entered value is 'NEGETIVE'\")"
   ]
  },
  {
   "cell_type": "code",
   "execution_count": 5,
   "id": "815e8eb4",
   "metadata": {},
   "outputs": [
    {
     "name": "stdout",
     "output_type": "stream",
     "text": [
      "given statement is true\n"
     ]
    }
   ],
   "source": [
    "a=20\n",
    "if a>20 and a<20:\n",
    "    print(\"given statement is false \")\n",
    "if a>20 or a==20:\n",
    "    print(\"given statement is true\")"
   ]
  },
  {
   "cell_type": "code",
   "execution_count": 8,
   "id": "0744b9bb",
   "metadata": {},
   "outputs": [
    {
     "name": "stdout",
     "output_type": "stream",
     "text": [
      "its his name\n"
     ]
    }
   ],
   "source": [
    "a=\"krishna biradar\"\n",
    "if a==\"krishna Biradar\" or a==\"krishna biradar\":\n",
    "    print(\"its his name\")\n",
    "    "
   ]
  },
  {
   "cell_type": "code",
   "execution_count": 16,
   "id": "89843199",
   "metadata": {},
   "outputs": [
    {
     "name": "stdout",
     "output_type": "stream",
     "text": [
      "the above mentioned condition is true\n"
     ]
    }
   ],
   "source": [
    "a=20\n",
    "b=30\n",
    "c=40\n",
    "d=50\n",
    "if a>b and b<a and c<b or d>c:\n",
    "    print(\"the above mentioned condition is true\")"
   ]
  },
  {
   "cell_type": "code",
   "execution_count": 29,
   "id": "097734ed",
   "metadata": {},
   "outputs": [
    {
     "name": "stdout",
     "output_type": "stream",
     "text": [
      "all the values of keys are correct\n",
      "dict_keys(['name', 'age', 'year of birth'])\n",
      "dict_values(['krishna', '22', '2000'])\n"
     ]
    }
   ],
   "source": [
    "d={\"name\":\"krishna\",\"age\":\"22\",\"year of birth\":\"2000\"}\n",
    "if d[\"name\"]==\"krishna\" and d[\"age\"]==\"22\" and d[\"year of birth\"]==\"2000\":\n",
    "    print(\"all the values of keys are correct\")\n",
    "    print(d.keys())\n",
    "    print(d.values())\n",
    "          \n",
    "else:\n",
    "    print(\"all the values of keys are incorrect\")\n"
   ]
  },
  {
   "cell_type": "code",
   "execution_count": null,
   "id": "a16b6fdd",
   "metadata": {},
   "outputs": [],
   "source": []
  }
 ],
 "metadata": {
  "kernelspec": {
   "display_name": "Python 3 (ipykernel)",
   "language": "python",
   "name": "python3"
  },
  "language_info": {
   "codemirror_mode": {
    "name": "ipython",
    "version": 3
   },
   "file_extension": ".py",
   "mimetype": "text/x-python",
   "name": "python",
   "nbconvert_exporter": "python",
   "pygments_lexer": "ipython3",
   "version": "3.9.12"
  }
 },
 "nbformat": 4,
 "nbformat_minor": 5
}
